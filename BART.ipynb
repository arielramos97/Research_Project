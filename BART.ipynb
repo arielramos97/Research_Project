{
  "cells": [
    {
      "cell_type": "code",
      "execution_count": 1,
      "metadata": {
        "colab": {
          "base_uri": "https://localhost:8080/"
        },
        "id": "gvIu69xr-B3b",
        "outputId": "60b3a0f0-ceaa-4964-d8d0-3c677cd3433a"
      },
      "outputs": [
        {
          "name": "stdout",
          "output_type": "stream",
          "text": [
            "Requirement already satisfied: datasets in c:\\users\\aramosvela\\documents\\research_project\\research_env\\lib\\site-packages (2.12.0)\n",
            "Requirement already satisfied: multiprocess in c:\\users\\aramosvela\\documents\\research_project\\research_env\\lib\\site-packages (from datasets) (0.70.14)\n",
            "Requirement already satisfied: packaging in c:\\users\\aramosvela\\documents\\research_project\\research_env\\lib\\site-packages (from datasets) (23.1)\n",
            "Requirement already satisfied: fsspec[http]>=2021.11.1 in c:\\users\\aramosvela\\documents\\research_project\\research_env\\lib\\site-packages (from datasets) (2023.5.0)\n",
            "Requirement already satisfied: responses<0.19 in c:\\users\\aramosvela\\documents\\research_project\\research_env\\lib\\site-packages (from datasets) (0.18.0)\n",
            "Requirement already satisfied: huggingface-hub<1.0.0,>=0.11.0 in c:\\users\\aramosvela\\documents\\research_project\\research_env\\lib\\site-packages (from datasets) (0.15.1)\n",
            "Requirement already satisfied: aiohttp in c:\\users\\aramosvela\\documents\\research_project\\research_env\\lib\\site-packages (from datasets) (3.8.4)\n",
            "Requirement already satisfied: tqdm>=4.62.1 in c:\\users\\aramosvela\\documents\\research_project\\research_env\\lib\\site-packages (from datasets) (4.65.0)\n",
            "Requirement already satisfied: pyyaml>=5.1 in c:\\users\\aramosvela\\documents\\research_project\\research_env\\lib\\site-packages (from datasets) (6.0)\n",
            "Requirement already satisfied: xxhash in c:\\users\\aramosvela\\documents\\research_project\\research_env\\lib\\site-packages (from datasets) (3.2.0)\n",
            "Requirement already satisfied: numpy>=1.17 in c:\\users\\aramosvela\\documents\\research_project\\research_env\\lib\\site-packages (from datasets) (1.24.3)\n",
            "Requirement already satisfied: pyarrow>=8.0.0 in c:\\users\\aramosvela\\documents\\research_project\\research_env\\lib\\site-packages (from datasets) (12.0.0)\n",
            "Requirement already satisfied: requests>=2.19.0 in c:\\users\\aramosvela\\documents\\research_project\\research_env\\lib\\site-packages (from datasets) (2.27.1)\n",
            "Requirement already satisfied: pandas in c:\\users\\aramosvela\\documents\\research_project\\research_env\\lib\\site-packages (from datasets) (2.0.2)\n",
            "Requirement already satisfied: dill<0.3.7,>=0.3.0 in c:\\users\\aramosvela\\documents\\research_project\\research_env\\lib\\site-packages (from datasets) (0.3.6)\n",
            "Requirement already satisfied: yarl<2.0,>=1.0 in c:\\users\\aramosvela\\documents\\research_project\\research_env\\lib\\site-packages (from aiohttp->datasets) (1.9.2)\n",
            "Requirement already satisfied: aiosignal>=1.1.2 in c:\\users\\aramosvela\\documents\\research_project\\research_env\\lib\\site-packages (from aiohttp->datasets) (1.3.1)\n",
            "Requirement already satisfied: attrs>=17.3.0 in c:\\users\\aramosvela\\documents\\research_project\\research_env\\lib\\site-packages (from aiohttp->datasets) (23.1.0)\n",
            "Requirement already satisfied: async-timeout<5.0,>=4.0.0a3 in c:\\users\\aramosvela\\documents\\research_project\\research_env\\lib\\site-packages (from aiohttp->datasets) (4.0.2)\n",
            "Requirement already satisfied: charset-normalizer<4.0,>=2.0 in c:\\users\\aramosvela\\documents\\research_project\\research_env\\lib\\site-packages (from aiohttp->datasets) (2.0.12)\n",
            "Requirement already satisfied: multidict<7.0,>=4.5 in c:\\users\\aramosvela\\documents\\research_project\\research_env\\lib\\site-packages (from aiohttp->datasets) (6.0.4)\n",
            "Requirement already satisfied: frozenlist>=1.1.1 in c:\\users\\aramosvela\\documents\\research_project\\research_env\\lib\\site-packages (from aiohttp->datasets) (1.3.3)\n",
            "Requirement already satisfied: filelock in c:\\users\\aramosvela\\documents\\research_project\\research_env\\lib\\site-packages (from huggingface-hub<1.0.0,>=0.11.0->datasets) (3.12.0)\n",
            "Requirement already satisfied: typing-extensions>=3.7.4.3 in c:\\users\\aramosvela\\documents\\research_project\\research_env\\lib\\site-packages (from huggingface-hub<1.0.0,>=0.11.0->datasets) (4.6.3)\n",
            "Requirement already satisfied: idna<4,>=2.5 in c:\\users\\aramosvela\\documents\\research_project\\research_env\\lib\\site-packages (from requests>=2.19.0->datasets) (3.4)\n",
            "Requirement already satisfied: certifi>=2017.4.17 in c:\\users\\aramosvela\\documents\\research_project\\research_env\\lib\\site-packages (from requests>=2.19.0->datasets) (2023.5.7)\n",
            "Requirement already satisfied: urllib3<1.27,>=1.21.1 in c:\\users\\aramosvela\\documents\\research_project\\research_env\\lib\\site-packages (from requests>=2.19.0->datasets) (1.26.16)\n",
            "Requirement already satisfied: colorama in c:\\users\\aramosvela\\documents\\research_project\\research_env\\lib\\site-packages (from tqdm>=4.62.1->datasets) (0.4.6)\n",
            "Requirement already satisfied: tzdata>=2022.1 in c:\\users\\aramosvela\\documents\\research_project\\research_env\\lib\\site-packages (from pandas->datasets) (2023.3)\n",
            "Requirement already satisfied: python-dateutil>=2.8.2 in c:\\users\\aramosvela\\documents\\research_project\\research_env\\lib\\site-packages (from pandas->datasets) (2.8.2)\n",
            "Requirement already satisfied: pytz>=2020.1 in c:\\users\\aramosvela\\documents\\research_project\\research_env\\lib\\site-packages (from pandas->datasets) (2023.3)\n",
            "Requirement already satisfied: six>=1.5 in c:\\users\\aramosvela\\documents\\research_project\\research_env\\lib\\site-packages (from python-dateutil>=2.8.2->pandas->datasets) (1.16.0)\n"
          ]
        },
        {
          "name": "stderr",
          "output_type": "stream",
          "text": [
            "\n",
            "[notice] A new release of pip available: 22.3.1 -> 23.1.2\n",
            "[notice] To update, run: python.exe -m pip install --upgrade pip\n"
          ]
        },
        {
          "name": "stdout",
          "output_type": "stream",
          "text": [
            "Requirement already satisfied: transformers in c:\\users\\aramosvela\\documents\\research_project\\research_env\\lib\\site-packages (4.30.0)\n",
            "Requirement already satisfied: requests in c:\\users\\aramosvela\\documents\\research_project\\research_env\\lib\\site-packages (from transformers) (2.27.1)\n",
            "Requirement already satisfied: regex!=2019.12.17 in c:\\users\\aramosvela\\documents\\research_project\\research_env\\lib\\site-packages (from transformers) (2023.6.3)\n",
            "Requirement already satisfied: huggingface-hub<1.0,>=0.14.1 in c:\\users\\aramosvela\\documents\\research_project\\research_env\\lib\\site-packages (from transformers) (0.15.1)\n",
            "Requirement already satisfied: numpy>=1.17 in c:\\users\\aramosvela\\documents\\research_project\\research_env\\lib\\site-packages (from transformers) (1.24.3)\n",
            "Requirement already satisfied: tokenizers!=0.11.3,<0.14,>=0.11.1 in c:\\users\\aramosvela\\documents\\research_project\\research_env\\lib\\site-packages (from transformers) (0.13.3)\n",
            "Requirement already satisfied: tqdm>=4.27 in c:\\users\\aramosvela\\documents\\research_project\\research_env\\lib\\site-packages (from transformers) (4.65.0)\n",
            "Requirement already satisfied: packaging>=20.0 in c:\\users\\aramosvela\\documents\\research_project\\research_env\\lib\\site-packages (from transformers) (23.1)\n",
            "Requirement already satisfied: safetensors>=0.3.1 in c:\\users\\aramosvela\\documents\\research_project\\research_env\\lib\\site-packages (from transformers) (0.3.1)\n",
            "Requirement already satisfied: pyyaml>=5.1 in c:\\users\\aramosvela\\documents\\research_project\\research_env\\lib\\site-packages (from transformers) (6.0)\n",
            "Requirement already satisfied: filelock in c:\\users\\aramosvela\\documents\\research_project\\research_env\\lib\\site-packages (from transformers) (3.12.0)\n",
            "Requirement already satisfied: typing-extensions>=3.7.4.3 in c:\\users\\aramosvela\\documents\\research_project\\research_env\\lib\\site-packages (from huggingface-hub<1.0,>=0.14.1->transformers) (4.6.3)\n",
            "Requirement already satisfied: fsspec in c:\\users\\aramosvela\\documents\\research_project\\research_env\\lib\\site-packages (from huggingface-hub<1.0,>=0.14.1->transformers) (2023.5.0)\n",
            "Requirement already satisfied: colorama in c:\\users\\aramosvela\\documents\\research_project\\research_env\\lib\\site-packages (from tqdm>=4.27->transformers) (0.4.6)\n",
            "Requirement already satisfied: charset-normalizer~=2.0.0 in c:\\users\\aramosvela\\documents\\research_project\\research_env\\lib\\site-packages (from requests->transformers) (2.0.12)\n",
            "Requirement already satisfied: urllib3<1.27,>=1.21.1 in c:\\users\\aramosvela\\documents\\research_project\\research_env\\lib\\site-packages (from requests->transformers) (1.26.16)\n",
            "Requirement already satisfied: idna<4,>=2.5 in c:\\users\\aramosvela\\documents\\research_project\\research_env\\lib\\site-packages (from requests->transformers) (3.4)\n",
            "Requirement already satisfied: certifi>=2017.4.17 in c:\\users\\aramosvela\\documents\\research_project\\research_env\\lib\\site-packages (from requests->transformers) (2023.5.7)\n"
          ]
        },
        {
          "name": "stderr",
          "output_type": "stream",
          "text": [
            "\n",
            "[notice] A new release of pip available: 22.3.1 -> 23.1.2\n",
            "[notice] To update, run: python.exe -m pip install --upgrade pip\n"
          ]
        },
        {
          "name": "stdout",
          "output_type": "stream",
          "text": [
            "Requirement already satisfied: evaluate in c:\\users\\aramosvela\\documents\\research_project\\research_env\\lib\\site-packages (0.4.0)\n",
            "Requirement already satisfied: huggingface-hub>=0.7.0 in c:\\users\\aramosvela\\documents\\research_project\\research_env\\lib\\site-packages (from evaluate) (0.15.1)\n",
            "Requirement already satisfied: tqdm>=4.62.1 in c:\\users\\aramosvela\\documents\\research_project\\research_env\\lib\\site-packages (from evaluate) (4.65.0)\n",
            "Requirement already satisfied: packaging in c:\\users\\aramosvela\\documents\\research_project\\research_env\\lib\\site-packages (from evaluate) (23.1)\n",
            "Requirement already satisfied: datasets>=2.0.0 in c:\\users\\aramosvela\\documents\\research_project\\research_env\\lib\\site-packages (from evaluate) (2.12.0)\n",
            "Requirement already satisfied: multiprocess in c:\\users\\aramosvela\\documents\\research_project\\research_env\\lib\\site-packages (from evaluate) (0.70.14)\n",
            "Requirement already satisfied: dill in c:\\users\\aramosvela\\documents\\research_project\\research_env\\lib\\site-packages (from evaluate) (0.3.6)\n",
            "Requirement already satisfied: pandas in c:\\users\\aramosvela\\documents\\research_project\\research_env\\lib\\site-packages (from evaluate) (2.0.2)\n",
            "Requirement already satisfied: xxhash in c:\\users\\aramosvela\\documents\\research_project\\research_env\\lib\\site-packages (from evaluate) (3.2.0)\n",
            "Requirement already satisfied: fsspec[http]>=2021.05.0 in c:\\users\\aramosvela\\documents\\research_project\\research_env\\lib\\site-packages (from evaluate) (2023.5.0)\n",
            "Requirement already satisfied: responses<0.19 in c:\\users\\aramosvela\\documents\\research_project\\research_env\\lib\\site-packages (from evaluate) (0.18.0)\n",
            "Requirement already satisfied: numpy>=1.17 in c:\\users\\aramosvela\\documents\\research_project\\research_env\\lib\\site-packages (from evaluate) (1.24.3)\n",
            "Requirement already satisfied: requests>=2.19.0 in c:\\users\\aramosvela\\documents\\research_project\\research_env\\lib\\site-packages (from evaluate) (2.27.1)\n",
            "Requirement already satisfied: aiohttp in c:\\users\\aramosvela\\documents\\research_project\\research_env\\lib\\site-packages (from datasets>=2.0.0->evaluate) (3.8.4)\n",
            "Requirement already satisfied: pyyaml>=5.1 in c:\\users\\aramosvela\\documents\\research_project\\research_env\\lib\\site-packages (from datasets>=2.0.0->evaluate) (6.0)\n",
            "Requirement already satisfied: pyarrow>=8.0.0 in c:\\users\\aramosvela\\documents\\research_project\\research_env\\lib\\site-packages (from datasets>=2.0.0->evaluate) (12.0.0)\n",
            "Requirement already satisfied: filelock in c:\\users\\aramosvela\\documents\\research_project\\research_env\\lib\\site-packages (from huggingface-hub>=0.7.0->evaluate) (3.12.0)\n",
            "Requirement already satisfied: typing-extensions>=3.7.4.3 in c:\\users\\aramosvela\\documents\\research_project\\research_env\\lib\\site-packages (from huggingface-hub>=0.7.0->evaluate) (4.6.3)\n",
            "Requirement already satisfied: certifi>=2017.4.17 in c:\\users\\aramosvela\\documents\\research_project\\research_env\\lib\\site-packages (from requests>=2.19.0->evaluate) (2023.5.7)\n",
            "Requirement already satisfied: urllib3<1.27,>=1.21.1 in c:\\users\\aramosvela\\documents\\research_project\\research_env\\lib\\site-packages (from requests>=2.19.0->evaluate) (1.26.16)\n",
            "Requirement already satisfied: idna<4,>=2.5 in c:\\users\\aramosvela\\documents\\research_project\\research_env\\lib\\site-packages (from requests>=2.19.0->evaluate) (3.4)\n",
            "Requirement already satisfied: charset-normalizer~=2.0.0 in c:\\users\\aramosvela\\documents\\research_project\\research_env\\lib\\site-packages (from requests>=2.19.0->evaluate) (2.0.12)\n",
            "Requirement already satisfied: colorama in c:\\users\\aramosvela\\documents\\research_project\\research_env\\lib\\site-packages (from tqdm>=4.62.1->evaluate) (0.4.6)\n",
            "Requirement already satisfied: python-dateutil>=2.8.2 in c:\\users\\aramosvela\\documents\\research_project\\research_env\\lib\\site-packages (from pandas->evaluate) (2.8.2)\n",
            "Requirement already satisfied: pytz>=2020.1 in c:\\users\\aramosvela\\documents\\research_project\\research_env\\lib\\site-packages (from pandas->evaluate) (2023.3)\n",
            "Requirement already satisfied: tzdata>=2022.1 in c:\\users\\aramosvela\\documents\\research_project\\research_env\\lib\\site-packages (from pandas->evaluate) (2023.3)\n",
            "Requirement already satisfied: yarl<2.0,>=1.0 in c:\\users\\aramosvela\\documents\\research_project\\research_env\\lib\\site-packages (from aiohttp->datasets>=2.0.0->evaluate) (1.9.2)\n",
            "Requirement already satisfied: frozenlist>=1.1.1 in c:\\users\\aramosvela\\documents\\research_project\\research_env\\lib\\site-packages (from aiohttp->datasets>=2.0.0->evaluate) (1.3.3)\n",
            "Requirement already satisfied: async-timeout<5.0,>=4.0.0a3 in c:\\users\\aramosvela\\documents\\research_project\\research_env\\lib\\site-packages (from aiohttp->datasets>=2.0.0->evaluate) (4.0.2)\n",
            "Requirement already satisfied: aiosignal>=1.1.2 in c:\\users\\aramosvela\\documents\\research_project\\research_env\\lib\\site-packages (from aiohttp->datasets>=2.0.0->evaluate) (1.3.1)\n",
            "Requirement already satisfied: attrs>=17.3.0 in c:\\users\\aramosvela\\documents\\research_project\\research_env\\lib\\site-packages (from aiohttp->datasets>=2.0.0->evaluate) (23.1.0)\n",
            "Requirement already satisfied: multidict<7.0,>=4.5 in c:\\users\\aramosvela\\documents\\research_project\\research_env\\lib\\site-packages (from aiohttp->datasets>=2.0.0->evaluate) (6.0.4)\n",
            "Requirement already satisfied: six>=1.5 in c:\\users\\aramosvela\\documents\\research_project\\research_env\\lib\\site-packages (from python-dateutil>=2.8.2->pandas->evaluate) (1.16.0)\n"
          ]
        },
        {
          "name": "stderr",
          "output_type": "stream",
          "text": [
            "\n",
            "[notice] A new release of pip available: 22.3.1 -> 23.1.2\n",
            "[notice] To update, run: python.exe -m pip install --upgrade pip\n"
          ]
        },
        {
          "name": "stdout",
          "output_type": "stream",
          "text": [
            "Requirement already satisfied: rouge_score in c:\\users\\aramosvela\\documents\\research_project\\research_env\\lib\\site-packages (0.1.2)\n",
            "Requirement already satisfied: bert_score in c:\\users\\aramosvela\\documents\\research_project\\research_env\\lib\\site-packages (0.3.13)\n",
            "Requirement already satisfied: sacrebleu in c:\\users\\aramosvela\\documents\\research_project\\research_env\\lib\\site-packages (2.3.1)\n",
            "Requirement already satisfied: absl-py in c:\\users\\aramosvela\\documents\\research_project\\research_env\\lib\\site-packages (from rouge_score) (1.4.0)\n",
            "Requirement already satisfied: nltk in c:\\users\\aramosvela\\documents\\research_project\\research_env\\lib\\site-packages (from rouge_score) (3.8.1)\n",
            "Requirement already satisfied: numpy in c:\\users\\aramosvela\\documents\\research_project\\research_env\\lib\\site-packages (from rouge_score) (1.24.3)\n",
            "Requirement already satisfied: six>=1.14.0 in c:\\users\\aramosvela\\documents\\research_project\\research_env\\lib\\site-packages (from rouge_score) (1.16.0)\n",
            "Requirement already satisfied: packaging>=20.9 in c:\\users\\aramosvela\\documents\\research_project\\research_env\\lib\\site-packages (from bert_score) (23.1)\n",
            "Requirement already satisfied: pandas>=1.0.1 in c:\\users\\aramosvela\\documents\\research_project\\research_env\\lib\\site-packages (from bert_score) (2.0.2)\n",
            "Requirement already satisfied: matplotlib in c:\\users\\aramosvela\\documents\\research_project\\research_env\\lib\\site-packages (from bert_score) (3.7.1)\n",
            "Requirement already satisfied: tqdm>=4.31.1 in c:\\users\\aramosvela\\documents\\research_project\\research_env\\lib\\site-packages (from bert_score) (4.65.0)\n",
            "Requirement already satisfied: requests in c:\\users\\aramosvela\\documents\\research_project\\research_env\\lib\\site-packages (from bert_score) (2.27.1)\n",
            "Requirement already satisfied: transformers>=3.0.0 in c:\\users\\aramosvela\\documents\\research_project\\research_env\\lib\\site-packages (from bert_score) (4.30.0)\n",
            "Requirement already satisfied: torch>=1.0.0 in c:\\users\\aramosvela\\documents\\research_project\\research_env\\lib\\site-packages (from bert_score) (2.0.1)\n",
            "Requirement already satisfied: colorama in c:\\users\\aramosvela\\documents\\research_project\\research_env\\lib\\site-packages (from sacrebleu) (0.4.6)\n",
            "Requirement already satisfied: lxml in c:\\users\\aramosvela\\documents\\research_project\\research_env\\lib\\site-packages (from sacrebleu) (4.9.2)\n",
            "Requirement already satisfied: portalocker in c:\\users\\aramosvela\\documents\\research_project\\research_env\\lib\\site-packages (from sacrebleu) (2.7.0)\n",
            "Requirement already satisfied: regex in c:\\users\\aramosvela\\documents\\research_project\\research_env\\lib\\site-packages (from sacrebleu) (2023.6.3)\n",
            "Requirement already satisfied: tabulate>=0.8.9 in c:\\users\\aramosvela\\documents\\research_project\\research_env\\lib\\site-packages (from sacrebleu) (0.9.0)\n",
            "Requirement already satisfied: tzdata>=2022.1 in c:\\users\\aramosvela\\documents\\research_project\\research_env\\lib\\site-packages (from pandas>=1.0.1->bert_score) (2023.3)\n",
            "Requirement already satisfied: pytz>=2020.1 in c:\\users\\aramosvela\\documents\\research_project\\research_env\\lib\\site-packages (from pandas>=1.0.1->bert_score) (2023.3)\n",
            "Requirement already satisfied: python-dateutil>=2.8.2 in c:\\users\\aramosvela\\documents\\research_project\\research_env\\lib\\site-packages (from pandas>=1.0.1->bert_score) (2.8.2)\n",
            "Requirement already satisfied: filelock in c:\\users\\aramosvela\\documents\\research_project\\research_env\\lib\\site-packages (from torch>=1.0.0->bert_score) (3.12.0)\n",
            "Requirement already satisfied: jinja2 in c:\\users\\aramosvela\\documents\\research_project\\research_env\\lib\\site-packages (from torch>=1.0.0->bert_score) (3.1.2)\n",
            "Requirement already satisfied: networkx in c:\\users\\aramosvela\\documents\\research_project\\research_env\\lib\\site-packages (from torch>=1.0.0->bert_score) (3.1)\n",
            "Requirement already satisfied: sympy in c:\\users\\aramosvela\\documents\\research_project\\research_env\\lib\\site-packages (from torch>=1.0.0->bert_score) (1.12)\n",
            "Requirement already satisfied: typing-extensions in c:\\users\\aramosvela\\documents\\research_project\\research_env\\lib\\site-packages (from torch>=1.0.0->bert_score) (4.6.3)\n",
            "Requirement already satisfied: huggingface-hub<1.0,>=0.14.1 in c:\\users\\aramosvela\\documents\\research_project\\research_env\\lib\\site-packages (from transformers>=3.0.0->bert_score) (0.15.1)\n",
            "Requirement already satisfied: tokenizers!=0.11.3,<0.14,>=0.11.1 in c:\\users\\aramosvela\\documents\\research_project\\research_env\\lib\\site-packages (from transformers>=3.0.0->bert_score) (0.13.3)\n",
            "Requirement already satisfied: safetensors>=0.3.1 in c:\\users\\aramosvela\\documents\\research_project\\research_env\\lib\\site-packages (from transformers>=3.0.0->bert_score) (0.3.1)\n",
            "Requirement already satisfied: pyyaml>=5.1 in c:\\users\\aramosvela\\documents\\research_project\\research_env\\lib\\site-packages (from transformers>=3.0.0->bert_score) (6.0)\n",
            "Requirement already satisfied: cycler>=0.10 in c:\\users\\aramosvela\\documents\\research_project\\research_env\\lib\\site-packages (from matplotlib->bert_score) (0.11.0)\n",
            "Requirement already satisfied: contourpy>=1.0.1 in c:\\users\\aramosvela\\documents\\research_project\\research_env\\lib\\site-packages (from matplotlib->bert_score) (1.0.7)\n",
            "Requirement already satisfied: kiwisolver>=1.0.1 in c:\\users\\aramosvela\\documents\\research_project\\research_env\\lib\\site-packages (from matplotlib->bert_score) (1.4.4)\n",
            "Requirement already satisfied: pillow>=6.2.0 in c:\\users\\aramosvela\\documents\\research_project\\research_env\\lib\\site-packages (from matplotlib->bert_score) (9.5.0)\n",
            "Requirement already satisfied: pyparsing>=2.3.1 in c:\\users\\aramosvela\\documents\\research_project\\research_env\\lib\\site-packages (from matplotlib->bert_score) (3.0.9)\n",
            "Requirement already satisfied: fonttools>=4.22.0 in c:\\users\\aramosvela\\documents\\research_project\\research_env\\lib\\site-packages (from matplotlib->bert_score) (4.39.4)\n",
            "Requirement already satisfied: click in c:\\users\\aramosvela\\documents\\research_project\\research_env\\lib\\site-packages (from nltk->rouge_score) (8.1.3)\n",
            "Requirement already satisfied: joblib in c:\\users\\aramosvela\\documents\\research_project\\research_env\\lib\\site-packages (from nltk->rouge_score) (1.2.0)\n",
            "Requirement already satisfied: pywin32>=226 in c:\\users\\aramosvela\\documents\\research_project\\research_env\\lib\\site-packages (from portalocker->sacrebleu) (306)\n",
            "Requirement already satisfied: idna<4,>=2.5 in c:\\users\\aramosvela\\documents\\research_project\\research_env\\lib\\site-packages (from requests->bert_score) (3.4)\n",
            "Requirement already satisfied: urllib3<1.27,>=1.21.1 in c:\\users\\aramosvela\\documents\\research_project\\research_env\\lib\\site-packages (from requests->bert_score) (1.26.16)\n",
            "Requirement already satisfied: certifi>=2017.4.17 in c:\\users\\aramosvela\\documents\\research_project\\research_env\\lib\\site-packages (from requests->bert_score) (2023.5.7)\n",
            "Requirement already satisfied: charset-normalizer~=2.0.0 in c:\\users\\aramosvela\\documents\\research_project\\research_env\\lib\\site-packages (from requests->bert_score) (2.0.12)\n",
            "Requirement already satisfied: fsspec in c:\\users\\aramosvela\\documents\\research_project\\research_env\\lib\\site-packages (from huggingface-hub<1.0,>=0.14.1->transformers>=3.0.0->bert_score) (2023.5.0)\n",
            "Requirement already satisfied: MarkupSafe>=2.0 in c:\\users\\aramosvela\\documents\\research_project\\research_env\\lib\\site-packages (from jinja2->torch>=1.0.0->bert_score) (2.1.3)\n",
            "Requirement already satisfied: mpmath>=0.19 in c:\\users\\aramosvela\\documents\\research_project\\research_env\\lib\\site-packages (from sympy->torch>=1.0.0->bert_score) (1.3.0)\n"
          ]
        },
        {
          "name": "stderr",
          "output_type": "stream",
          "text": [
            "\n",
            "[notice] A new release of pip available: 22.3.1 -> 23.1.2\n",
            "[notice] To update, run: python.exe -m pip install --upgrade pip\n"
          ]
        }
      ],
      "source": [
        "!pip install datasets\n",
        "!pip install transformers\n",
        "!pip install evaluate\n",
        "!pip install rouge_score bert_score sacrebleu"
      ]
    },
    {
      "cell_type": "code",
      "execution_count": 2,
      "metadata": {
        "id": "yDa66Y1elx10"
      },
      "outputs": [],
      "source": [
        "import os\n",
        "os.environ['CURL_CA_BUNDLE'] = ''\n",
        "\n",
        "import urllib3\n",
        "urllib3.disable_warnings(urllib3.exceptions.InsecureRequestWarning)"
      ]
    },
    {
      "cell_type": "code",
      "execution_count": 4,
      "metadata": {
        "id": "hZ9VNl2W-Rum"
      },
      "outputs": [],
      "source": [
        "import torch\n",
        "from torch.utils.data import Dataset, DataLoader\n",
        "from torch.nn import functional as F\n",
        "from transformers import BartTokenizer, BartForConditionalGeneration, AdamW, get_polynomial_decay_schedule_with_warmup\n",
        "from datasets import load_dataset\n",
        "from torch.utils.tensorboard import SummaryWriter\n",
        "import numpy as np\n",
        "import random\n",
        "from tqdm import tqdm\n",
        "import sys\n",
        "import math\n",
        "import pickle\n",
        "# from google.colab import files\n",
        "import evaluate\n",
        "\n"
      ]
    },
    {
      "cell_type": "code",
      "execution_count": 5,
      "metadata": {
        "id": "LZhkY_sq-kxU"
      },
      "outputs": [],
      "source": [
        "dataset_name = 'empathetic_dialogues' #'daily_dialog' #"
      ]
    },
    {
      "cell_type": "code",
      "execution_count": 6,
      "metadata": {
        "colab": {
          "base_uri": "https://localhost:8080/",
          "height": 251,
          "referenced_widgets": [
            "e47df8dd4bde4c129d3498a56b2a0dfb",
            "330cceb5650a4839be0328b282c8f629",
            "28cdf4f168b64c6fa8fd90540e885363",
            "9061c4ac47c84579bd954e44533b4a1e",
            "839151b9a910410aa58a48ce530d7bcf",
            "c9c7aeed37de42b29ec76868aadc8d57",
            "84c985d336ea4d2896830f209a095512",
            "40a3b979414c4311b7c7975265e3ad9b",
            "763ab4dddde04e269cfbc634d5595d28",
            "8dd7948124cb4db0aa918f17da3ffe2d",
            "828e526b0b55414eaac20fac0f52eb80",
            "33ca7467f4584c659fc4242ec0620d28",
            "862444b9d2fc4a51bcb9745bca1ca846",
            "7b8196b314014dfe9d29810d8b25b357",
            "07bce0776f3b4eb485944d8be2050ef4",
            "76e16ad81dc04f5694f973763f6e0ba7",
            "ed4fe2a979554bc6acd30bffea94b786",
            "6433c299a6954180ad55646a6f8761a9",
            "9437b03236ba4bb6b1d85e71564dbeec",
            "7dfaf8e8053d4353bee125a423de9d21",
            "010b1d59a7104e9398e3af094f5aca8e",
            "a0fa54330d084017bc102cd8fa2e4df7",
            "07cd3c9a458d49bda3f3add8e7e8d347",
            "8ae9d15c896442ee9c7a4e78b9301a1d",
            "d11366f85ab44ccda0b042d13d7fa7bf",
            "9d9430fb932f445aadbce59fa19ce1b6",
            "d28bacd53aa94a3a964c6dde0909a212",
            "b124e92711ba484d9d90e46ce6a27da3",
            "abcf7e5004e74b0c8b8d9ee14453311f",
            "3d2caa7e68f34389813208ca4ce6079d",
            "a0cfb9baee394234a6a4e5c60384e4ed",
            "6e7e50dcb740499c84e3afb2aede1e4f",
            "ba10ff2dfa0d42998390524d4a6a9853",
            "7c9519b521ed476798fed9040f84a592",
            "4bea1a8293a045a999d5b95ca8d815ba",
            "2ebf1a3f3daf4aada7ad45f804980c22",
            "23da4b05ab644030ac1e05a5d262fdae",
            "cfbd357d8c7448948f94589a2273698b",
            "585d43e6841c4de1811152dabf00550b",
            "cfeb6a0659044ccab9e2f31e1f0af9b8",
            "91ba8aadec4f4574ac0beb8cfe1ade1d",
            "f9d1ebe413934754841f6a01ee8fb8b0",
            "9eecd35a1f3548f0a561df1fea96e086",
            "6922e11e85ec4347a90aeb4bef1fa0a2",
            "f45ca419c6124b25b0a0dacd65a687d4",
            "e8fa1659aedf4d2b91e586e7308b4f97",
            "6456dcf6363242849a333e8bf9a44e50",
            "6bffb2bfb3df4f5fb22eff3eac6f8215",
            "6027c74142be449d9139b245f0040d45",
            "be20be8a7ca544a782695bcf550281c8",
            "c32c0a22ea7f4e97a6332d0e210e594f",
            "a41c24bf325a461cb02d41d466ec4c10",
            "30e68532000f45f1a544ea01d74892fb",
            "1a89d977affb422f89c1b8d5833b52d9",
            "704e7805c3724f839456909bbb2a27d4",
            "84ebb1464ee24c44aea37dd754d4bdfc",
            "92eb9b282f154a57942ab2c2780f8b87",
            "fee3c858415e4667ac0c505d6ab2aeab",
            "ed634d8d5bc04ff38da752d0c77d8627",
            "b5745d40858c4ae786d01e72677dc06c",
            "dd3cf02031974a68b802cc9fcd9f8991",
            "51632e95a93941b4b37f9bfa57a825a6",
            "1b50ab833f84468ca17e57c602547691",
            "0e2ffd41994047498c818aadee140a75",
            "728f20086e3349a7a1c8256d7e27e155",
            "9b6e0d583d17439da46c498059c5fa07",
            "46fd8482935e4756bfaa04d154f31a95",
            "1db771a5007142088c258a4330d141e5",
            "0501b264fc644e2ea0b4486597f4a349",
            "a24246ed6838479b899893e8c403077f",
            "25aba62382a743f0b794737fcc837b6a",
            "22015b8de69a45a58504ef905675c657",
            "02e4044551834eacb6831baf6e2403e7",
            "ef17a805e96544d09838d0af3cebe771",
            "18a14d68e4034d039fbfdc3471bd67ce",
            "be3f10d98ab64d9c96249cf5776400b4",
            "d4587117dbfe4b5e9e1347aa4a0519cc",
            "fe6955d96fcd4cda8d0f7e4300e14af3",
            "48ac0540b112471e969d5e4a711d87cd",
            "624957a444ad41a7a01698ac42cae2dc",
            "6283a7b0b1f543c6a1d51f6a6f95e45e",
            "a21896383b9549a98ed23a74d0d988e3",
            "11a10294b7124584b418bc437d95d627",
            "9feabe09d1964fa5a6205e84370bc4a7",
            "833e292b32b940349e2cb855efefffcc",
            "7e0890fdf8b5483fbe76b37ca824dbd3",
            "b941d325ecd246d197d5e5eec6464c74",
            "3a368c5e83884ebe8961d6faa8b43cd5"
          ]
        },
        "id": "wH0gBNp4-WS7",
        "outputId": "a9cafadb-03dd-41cd-e364-3464a763e3f6"
      },
      "outputs": [
        {
          "name": "stdout",
          "output_type": "stream",
          "text": [
            "Loading  empathetic_dialogues\n"
          ]
        },
        {
          "name": "stderr",
          "output_type": "stream",
          "text": [
            "Found cached dataset empathetic_dialogues (C:/Users/aramosvela/.cache/huggingface/datasets/empathetic_dialogues/default/0.1.0/09bbeed3882a67db98c73952fb3c1c9a85af83dc78f81454c2454382fd03f6cf)\n",
            "100%|██████████| 3/3 [00:00<00:00, 58.64it/s]\n"
          ]
        }
      ],
      "source": [
        "if dataset_name == 'daily_dialog':\n",
        "    print('Loading ', dataset_name)\n",
        "    dataset = load_dataset('daily_dialog')\n",
        "    train_dialogues = dataset['train']['dialog']\n",
        "    valid_dialogues = dataset['validation']['dialog']\n",
        "    test_dialogues = dataset['test']['dialog']\n",
        "elif dataset_name == 'empathetic_dialogues':\n",
        "    print('Loading ', dataset_name)\n",
        "    dataset = load_dataset('empathetic_dialogues')\n",
        "    train_dialogues = dataset['train']\n",
        "    valid_dialogues = dataset['validation']\n",
        "    test_dialogues = dataset['test']\n",
        "else:\n",
        "    print('No dataset selected')"
      ]
    },
    {
      "cell_type": "code",
      "execution_count": 7,
      "metadata": {
        "id": "lCrKDEnksIJj"
      },
      "outputs": [],
      "source": [
        "space = 'Ġ'\n",
        "pre_quote = '’'\n",
        "end_marks = ['.', ',', '?', '!', '...']\n",
        "quotes = ['\"', '\\'']\n",
        "abbreviations = ['s', 'd', 't', 'm', 're', 'll', 've', 'S', 'D', 'T', 'M', 'Re', 'Ll', 'Ve']\n",
        "\n",
        "# For empathetic dialogues\n",
        "exclude_symbol = \"_conv\"\n",
        "comma_symbol = \"_comma_\"\n",
        "\n",
        "def process_token_list(token_list):\n",
        "    token_list[0] = token_list[0].capitalize()\n",
        "\n",
        "    quote_count = 0\n",
        "    for i, token in enumerate(token_list):\n",
        "        if space in token:\n",
        "            if token[1:] in end_marks or token[1:] in abbreviations:\n",
        "                token_list[i] = token[1:]\n",
        "\n",
        "            if token[1:] == quotes[1]:\n",
        "                if i<len(token_list)-1:\n",
        "                    if token_list[i+1] in abbreviations or (token_list[i+1][0] == space and token_list[i+1][1:] in abbreviations):\n",
        "                        token_list[i] = token[1:]\n",
        "\n",
        "        if token[0] == space and token[1:] in quotes:\n",
        "            if quote_count % 2 == 1:\n",
        "                token_list[i] = token[1:]\n",
        "                quote_count = 0\n",
        "            else:\n",
        "                if i<len(token_list)-1 and token_list[i+1][0] == space:\n",
        "                    token_list[i+1] = token_list[i+1][1:]\n",
        "                quote_count += 1\n",
        "\n",
        "        if token in end_marks or token[1:] in end_marks:\n",
        "            if i<len(token_list)-1:\n",
        "                if token_list[i+1][0] != space:\n",
        "                    token_list[i+1] = space + token_list[i+1].capitalize()\n",
        "                else:\n",
        "                    token_list[i+1] = space + token_list[i+1][1:].capitalize()\n",
        "\n",
        "    new_token_list = [token for token in token_list if token != space and len(token)>0]\n",
        "    if new_token_list[-1] not in end_marks:\n",
        "        new_token_list.append(end_marks[0])\n",
        "\n",
        "    return new_token_list"
      ]
    },
    {
      "cell_type": "code",
      "execution_count": 8,
      "metadata": {
        "id": "36X9lY2jsMaN"
      },
      "outputs": [],
      "source": [
        "def load_empathetic(dataset, tokenizer):\n",
        "\n",
        "    total_utters = dataset['utterance']\n",
        "    total_conv_ids = dataset['conv_id']\n",
        "    total_speaker_ids = dataset['speaker_idx']\n",
        "\n",
        "    assert len(total_utters) == len(total_conv_ids) and len(total_conv_ids) == len(total_speaker_ids)\n",
        "\n",
        "    num = 0\n",
        "\n",
        "    conv_dict = {}\n",
        "    cur_speaker_idx = -1\n",
        "    for i, utter in enumerate(tqdm(total_utters)):\n",
        "        conv_id = total_conv_ids[i]\n",
        "        speaker_idx = total_speaker_ids[i]\n",
        "\n",
        "        utter_modified = utter.strip().replace(comma_symbol, ',')\n",
        "        new_token_list = process_token_list(tokenizer.tokenize(utter_modified))\n",
        "        text = tokenizer.convert_tokens_to_string(new_token_list)\n",
        "\n",
        "        if exclude_symbol in utter:\n",
        "            continue\n",
        "\n",
        "        if conv_id not in conv_dict:\n",
        "            conv_dict[conv_id] = []\n",
        "            cur_speaker_idx = -1\n",
        "\n",
        "        if cur_speaker_idx != speaker_idx:\n",
        "            conv_dict[conv_id].append(text)\n",
        "            cur_speaker_idx = speaker_idx\n",
        "        else:\n",
        "            conv_dict[conv_id][-1] += f\" {text}\"\n",
        "\n",
        "    utter_num = 0\n",
        "    dialogues = []\n",
        "\n",
        "    for i, (conv_id, utter_list) in enumerate(conv_dict.items()):\n",
        "        utter_num += len(utter_list)\n",
        "        dialogues.append(utter_list)\n",
        "\n",
        "    return dialogues, utter_num\n",
        "\n",
        "def load_daily(dataset, tokenizer):\n",
        "\n",
        "    for i, dialogue in enumerate(tqdm(dataset)):\n",
        "        new_dialogue = []\n",
        "        for utter in dialogue:\n",
        "            token_list = tokenizer.tokenize(utter.strip().replace(pre_quote, quotes[1]))\n",
        "            token_list = process_token_list(token_list)\n",
        "            text = tokenizer.convert_tokens_to_string(token_list)\n",
        "            new_dialogue.append(text)\n",
        "\n",
        "        dataset[i] = new_dialogue\n",
        "\n",
        "    utter_num = 0\n",
        "\n",
        "    for dialogue in dataset:\n",
        "        utter_num += len(dialogue)\n",
        "\n",
        "    return dataset, utter_num"
      ]
    },
    {
      "cell_type": "code",
      "execution_count": 9,
      "metadata": {
        "id": "Ky3vyt8JswXg"
      },
      "outputs": [],
      "source": [
        "tokenizer = BartTokenizer.from_pretrained(\"facebook/bart-base\")"
      ]
    },
    {
      "cell_type": "code",
      "execution_count": 10,
      "metadata": {
        "colab": {
          "base_uri": "https://localhost:8080/"
        },
        "id": "Hid-HgIKscmX",
        "outputId": "20a4ac33-4f82-49e5-c371-3cefbe8f4ca9"
      },
      "outputs": [
        {
          "name": "stderr",
          "output_type": "stream",
          "text": [
            "100%|██████████| 76673/76673 [00:08<00:00, 8533.63it/s] \n",
            "100%|██████████| 12030/12030 [00:01<00:00, 9221.09it/s]\n",
            "100%|██████████| 10943/10943 [00:01<00:00, 9059.97it/s]\n"
          ]
        }
      ],
      "source": [
        "if dataset_name == 'daily_dialog':\n",
        "    train_dialogues, num_train = load_daily(train_dialogues, tokenizer)\n",
        "    valid_dialogues, num_valid = load_daily(valid_dialogues, tokenizer)\n",
        "    test_dialogues, num_test = load_daily(test_dialogues, tokenizer)\n",
        "elif dataset_name == 'empathetic_dialogues':\n",
        "    train_dialogues, num_train = load_empathetic(train_dialogues, tokenizer)\n",
        "    valid_dialogues, num_valid = load_empathetic(valid_dialogues, tokenizer)\n",
        "    test_dialogues, num_test = load_empathetic(test_dialogues, tokenizer)"
      ]
    },
    {
      "cell_type": "code",
      "execution_count": 48,
      "metadata": {
        "colab": {
          "base_uri": "https://localhost:8080/"
        },
        "id": "cYfTZgmJy9et",
        "outputId": "0a87b812-6af5-4e9d-ef72-20828daf241b"
      },
      "outputs": [
        {
          "name": "stdout",
          "output_type": "stream",
          "text": [
            "The number of train dialogues: 11118\n",
            "The number of valid dialogues: 1000\n",
            "The number of test dialogues: 1000\n",
            "The number of train utterances: 87170\n",
            "The number of valid utterances: 8069\n",
            "The number of test utterances: 7740\n"
          ]
        }
      ],
      "source": [
        "print(f\"The number of train dialogues: {len(train_dialogues)}\")\n",
        "print(f\"The number of valid dialogues: {len(valid_dialogues)}\")\n",
        "print(f\"The number of test dialogues: {len(test_dialogues)}\")\n",
        "\n",
        "print(f\"The number of train utterances: {num_train}\")\n",
        "print(f\"The number of valid utterances: {num_valid}\")\n",
        "print(f\"The number of test utterances: {num_test}\")"
      ]
    },
    {
      "cell_type": "code",
      "execution_count": 10,
      "metadata": {
        "id": "avHL4Rxj-p7i"
      },
      "outputs": [],
      "source": [
        "sp1_token = '<sp1>'\n",
        "sp2_token = '<sp2>'\n",
        "# bos_token = '<bos>'\n",
        "# eos_token = '<eos>'\n",
        "max_len = 1024\n",
        "seed = 0\n",
        "gpu = 0\n",
        "\n",
        "#Tokeniser\n",
        "special_tokens = {#'bos_token': bos_token,\n",
        "                'additional_special_tokens': [sp1_token, sp2_token]}\n",
        "\n",
        "# eos_token = tokenizer.eos_token\n",
        "num_new_tokens = tokenizer.add_special_tokens(special_tokens)\n",
        "\n",
        "vocab = tokenizer.get_vocab()\n",
        "vocab_size = len(vocab)\n",
        "# bos_id = vocab[bos_token]\n",
        "# eos_id = vocab[eos_token]\n",
        "sp1_id = vocab[sp1_token]\n",
        "sp2_id = vocab[sp2_token]\n",
        "\n",
        "lr = 2e-5\n",
        "batch_size = 8\n",
        "num_workers = 0\n",
        "num_epochs = 6\n",
        "warmup_ratio = 0.1\n",
        "last_epoch = 0\n",
        "end_command = 'Quit!'\n",
        "top_p = 0.8\n"
      ]
    },
    {
      "cell_type": "code",
      "execution_count": 11,
      "metadata": {
        "id": "o2BeLfDOrG3x"
      },
      "outputs": [],
      "source": [
        "def fix_seed(seed):\n",
        "    np.random.seed(seed)\n",
        "    torch.manual_seed(seed)\n",
        "    torch.cuda.manual_seed_all(seed)\n",
        "    random.seed(seed)\n",
        "\n",
        "fix_seed(seed)"
      ]
    },
    {
      "cell_type": "code",
      "execution_count": 12,
      "metadata": {
        "id": "MVvpr9eJlx12"
      },
      "outputs": [],
      "source": [
        "!mkdir 'saved_models'\n",
        "ckpt_dir = 'saved_models'"
      ]
    },
    {
      "cell_type": "code",
      "execution_count": 13,
      "metadata": {
        "id": "omRibsHe-sU7"
      },
      "outputs": [],
      "source": [
        "def preprocess_dialog(dialog, window_size=5):\n",
        "    instances = []\n",
        "\n",
        "    # response = dialog[\"dialog\"][-1]  # Last utterance as the response\n",
        "\n",
        "    for i in range(0, len(dialog) - window_size, 2):\n",
        "\n",
        "        window = dialog[i:i+window_size]\n",
        "        window_context = []\n",
        "        for j, utterance in enumerate(window):\n",
        "            speaker = sp1_token if j % 2 == 0 else sp2_token\n",
        "            window_context.append(speaker + \" \" + utterance)\n",
        "\n",
        "        # Add special tokens for bos, eos\n",
        "        # window_context.insert(0, '<s>')\n",
        "        # window_context.append(\"</s>\")\n",
        "\n",
        "        window_context = ' '.join(window_context)\n",
        "        # window_context = window_context + sp2_token\n",
        "        response =  sp2_token + dialog[i+window_size]\n",
        "\n",
        "        # print('window_context: ', type(window_context), window_context)\n",
        "        # print('response: ', type(response), response)\n",
        "\n",
        "\n",
        "\n",
        "        # print()\n",
        "        # print('window_context: ', window_context)\n",
        "        # print('response: ', response)\n",
        "\n",
        "\n",
        "        # Tokenize the context and response\n",
        "        # input_ids = tokenizer.encode_plus(window_context, add_special_tokens=True, padding='max_length', max_length=max_len, truncation=True , return_tensors=\"pt\")\n",
        "        # decoder_input_ids = tokenizer.encode_plus(response, add_special_tokens=True, padding='max_length', max_length=max_len, truncation=True, return_tensors=\"pt\")\n",
        "\n",
        "        input_ids = tokenizer.encode_plus(window_context, add_special_tokens=True, return_tensors=\"pt\")\n",
        "        decoder_input_ids = tokenizer.encode_plus(response, add_special_tokens=True, return_tensors=\"pt\")\n",
        "\n",
        "        if (len(input_ids['input_ids']) + len(decoder_input_ids['input_ids']) -2) <= max_len: # 2 to ignore eos and bos tokens of decoder\n",
        "\n",
        "\n",
        "            labels = decoder_input_ids['input_ids']\n",
        "            # labels[labels[:, :] == vocab['<pad>']] = -100\n",
        "\n",
        "            instance = {\n",
        "                \"input_ids\": input_ids[\"input_ids\"].squeeze(0),\n",
        "                # \"decoder_input_ids\": decoder_input_ids[\"input_ids\"].squeeze(0), #Testing purposes\n",
        "                # \"decoder_attention_mask\": decoder_input_ids[\"attention_mask\"].squeeze(0), #Testing purposes\n",
        "                \"attention_mask\": input_ids[\"attention_mask\"].squeeze(0),\n",
        "                \"labels\": labels.squeeze(0)\n",
        "            }\n",
        "\n",
        "            # print('input_ids: ', instance['input_ids'].shape)\n",
        "            # print('attention_mask: ', instance['attention_mask'].shape)\n",
        "            # print('decoder_input_ids: ', instance['decoder_input_ids'].shape)\n",
        "            # print('decoder_attention_mask: ', instance['decoder_attention_mask'].shape)\n",
        "            instances.append(instance)\n",
        "\n",
        "\n",
        "\n",
        "\n",
        "    return instances"
      ]
    },
    {
      "cell_type": "code",
      "execution_count": 14,
      "metadata": {
        "colab": {
          "base_uri": "https://localhost:8080/"
        },
        "id": "PwBhFj9RAaA1",
        "outputId": "134a93dd-bde7-4f7f-924e-17ffbabbfd09"
      },
      "outputs": [
        {
          "data": {
            "text/plain": [
              "['I remember going to see the fireworks with my best friend. It was the first time we ever spent time alone together. Although there was a lot of people, We felt like the only people in the world.',\n",
              " 'Was this a friend you were in love with, Or just a best friend?',\n",
              " 'This was a best friend. I miss her.',\n",
              " 'Where has she gone?',\n",
              " 'We no longer talk.',\n",
              " 'Oh was this something that happened because of an argument?']"
            ]
          },
          "execution_count": 14,
          "metadata": {},
          "output_type": "execute_result"
        }
      ],
      "source": [
        "train_dialogues[0]"
      ]
    },
    {
      "cell_type": "code",
      "execution_count": 15,
      "metadata": {
        "colab": {
          "base_uri": "https://localhost:8080/"
        },
        "id": "6VGzaUqe_45y",
        "outputId": "bbf5a8e0-87ed-4a00-ff02-2282ee44c210"
      },
      "outputs": [
        {
          "name": "stderr",
          "output_type": "stream",
          "text": [
            "100%|██████████| 17793/17793 [00:01<00:00, 13841.30it/s]\n",
            "100%|██████████| 2759/2759 [00:00<00:00, 12713.88it/s]\n",
            "100%|██████████| 2540/2540 [00:00<00:00, 12055.60it/s]\n"
          ]
        }
      ],
      "source": [
        "train_instances = []\n",
        "val_instances = []\n",
        "\n",
        "#dummy\n",
        "test_instances = []\n",
        "\n",
        "for dialog in tqdm(train_dialogues):\n",
        "    # print(len(dialog), dialog)\n",
        "    train_instances.extend(preprocess_dialog(dialog))\n",
        "\n",
        "for dialog in tqdm(valid_dialogues):\n",
        "    val_instances.extend(preprocess_dialog(dialog))\n",
        "\n",
        "for dialog in tqdm(test_dialogues):\n",
        "    test_instances.extend(preprocess_dialog(dialog))"
      ]
    },
    {
      "cell_type": "code",
      "execution_count": 17,
      "metadata": {
        "colab": {
          "base_uri": "https://localhost:8080/"
        },
        "id": "opJW-DiQlx16",
        "outputId": "149eee38-fd71-4207-e2b5-61cd0261b5b7"
      },
      "outputs": [
        {
          "data": {
            "text/plain": [
              "tensor([    0, 50265,   100,  2145,   164,     7,   192,     5, 10756,    19,\n",
              "          127,   275,  1441,     4,    85,    21,     5,    78,    86,    52,\n",
              "          655,  1240,    86,  1937,   561,     4,  2223,    89,    21,    10,\n",
              "          319,     9,    82,     6,   166,  1299,   101,     5,   129,    82,\n",
              "           11,     5,   232,     4, 50266, 32112,    42,    10,  1441,    47,\n",
              "           58,    11,   657,    19,     6,  1793,    95,    10,   275,  1441,\n",
              "          116, 50265,   713,    21,    10,   275,  1441,     4,    38,  2649,\n",
              "           69,     4, 50266, 13841,    34,    79,  1613,   116, 50265,   170,\n",
              "          117,  1181,  1067,     4,     2])"
            ]
          },
          "execution_count": 17,
          "metadata": {},
          "output_type": "execute_result"
        }
      ],
      "source": [
        "train_instances[0]['input_ids']"
      ]
    },
    {
      "cell_type": "code",
      "execution_count": 18,
      "metadata": {
        "colab": {
          "base_uri": "https://localhost:8080/"
        },
        "id": "gAIc0x7JfPuq",
        "outputId": "48e11bcf-5c30-4881-befa-a0b188679e9f"
      },
      "outputs": [
        {
          "data": {
            "text/plain": [
              "tensor([1, 1, 1, 1, 1, 1, 1, 1, 1, 1, 1, 1, 1, 1, 1, 1, 1, 1, 1, 1, 1, 1, 1, 1,\n",
              "        1, 1, 1, 1, 1, 1, 1, 1, 1, 1, 1, 1, 1, 1, 1, 1, 1, 1, 1, 1, 1, 1, 1, 1,\n",
              "        1, 1, 1, 1, 1, 1, 1, 1, 1, 1, 1, 1, 1, 1, 1, 1, 1, 1, 1, 1, 1, 1, 1, 1,\n",
              "        1, 1, 1, 1, 1, 1, 1, 1, 1, 1, 1, 1, 1])"
            ]
          },
          "execution_count": 18,
          "metadata": {},
          "output_type": "execute_result"
        }
      ],
      "source": [
        "train_instances[0]['attention_mask']"
      ]
    },
    {
      "cell_type": "code",
      "execution_count": 19,
      "metadata": {
        "id": "zoL0-Glpd_zi"
      },
      "outputs": [],
      "source": [
        "# train_instances[0]['decoder_input_ids']"
      ]
    },
    {
      "cell_type": "code",
      "execution_count": 20,
      "metadata": {
        "colab": {
          "base_uri": "https://localhost:8080/"
        },
        "id": "xfwhZlVYlx16",
        "outputId": "a8517b2f-9529-4508-f9c1-976a2e18696c"
      },
      "outputs": [
        {
          "data": {
            "text/plain": [
              "tensor([    0, 50266,  7516,    21,    42,   402,    14,  1102,   142,     9,\n",
              "           41,  4795,   116,     2])"
            ]
          },
          "execution_count": 20,
          "metadata": {},
          "output_type": "execute_result"
        }
      ],
      "source": [
        "train_instances[0]['labels']"
      ]
    },
    {
      "cell_type": "code",
      "execution_count": 21,
      "metadata": {
        "id": "CWIx5_pxF7ub"
      },
      "outputs": [],
      "source": [
        "class DialogueDataset(Dataset):\n",
        "    def __init__(self, instances):\n",
        "        self.instances = instances\n",
        "\n",
        "    def __len__(self):\n",
        "        return len(self.instances)\n",
        "\n",
        "    def __getitem__(self, idx):\n",
        "        return self.instances[idx]\n",
        "\n",
        "class PadCollate():\n",
        "    def __init__(self, pad_id):\n",
        "        self.pad_id = pad_id\n",
        "\n",
        "    def pad_collate(self, batch):\n",
        "        input_ids, attention_mask, labels =[], [], []\n",
        "        for idx, seqs in enumerate(batch):\n",
        "            input_ids.append(torch.LongTensor(seqs['input_ids']))\n",
        "            attention_mask.append(torch.LongTensor(seqs['attention_mask']))\n",
        "            labels.append(torch.LongTensor(seqs['labels']))\n",
        "\n",
        "        input_ids = torch.nn.utils.rnn.pad_sequence(input_ids, batch_first=True, padding_value=self.pad_id)\n",
        "        attention_mask = torch.nn.utils.rnn.pad_sequence(attention_mask, batch_first=True, padding_value=0)\n",
        "        labels = torch.nn.utils.rnn.pad_sequence(labels, batch_first=True, padding_value=-100)\n",
        "\n",
        "        return {\n",
        "                \"input_ids\": input_ids,\n",
        "                \"attention_mask\": attention_mask,\n",
        "                \"labels\": labels\n",
        "            }\n"
      ]
    },
    {
      "cell_type": "code",
      "execution_count": 22,
      "metadata": {
        "id": "22UeCWIWGDQ_"
      },
      "outputs": [],
      "source": [
        "#Create data\n",
        "\n",
        "ppd = PadCollate(pad_id=vocab['<pad>'])\n",
        "\n",
        "\n",
        "train_dataset = DialogueDataset(train_instances)\n",
        "val_dataset = DialogueDataset(val_instances)\n",
        "test_dataset =  DialogueDataset(test_instances)\n",
        "\n",
        "train_dataloader = DataLoader(train_dataset, batch_size=batch_size, shuffle=True, collate_fn=ppd.pad_collate)\n",
        "val_dataloader = DataLoader(val_dataset, batch_size=batch_size, shuffle=False, collate_fn=ppd.pad_collate)\n",
        "test_dataloader = DataLoader(test_dataset, batch_size=batch_size, shuffle=False, collate_fn=ppd.pad_collate)\n"
      ]
    },
    {
      "cell_type": "code",
      "execution_count": 23,
      "metadata": {
        "colab": {
          "base_uri": "https://localhost:8080/"
        },
        "id": "c9UaJ_vkH41R",
        "outputId": "23f17ce4-391f-4dce-9d9d-ccaae9ccb717"
      },
      "outputs": [
        {
          "name": "stdout",
          "output_type": "stream",
          "text": [
            "torch.Size([85])\n",
            "torch.Size([85])\n"
          ]
        }
      ],
      "source": [
        "print(train_dataset.__getitem__(0)['input_ids'].shape)\n",
        "print(train_dataset.__getitem__(0)['attention_mask'].shape)\n",
        "\n",
        "# print(train_dataset.__getitem__(0)['decoder_input_ids'].shape)\n",
        "# print(train_dataset.__getitem__(0)['decoder_attention_mask'].shape)\n"
      ]
    },
    {
      "cell_type": "code",
      "execution_count": 24,
      "metadata": {
        "colab": {
          "base_uri": "https://localhost:8080/"
        },
        "id": "p_bjX0MSI8Nz",
        "outputId": "48853026-dd35-4076-85e5-c6d2dbe32323"
      },
      "outputs": [
        {
          "name": "stdout",
          "output_type": "stream",
          "text": [
            "torch.Size([68])\n",
            "torch.Size([68])\n"
          ]
        }
      ],
      "source": [
        "print(train_dataset.__getitem__(1)['input_ids'].shape)\n",
        "print(train_dataset.__getitem__(1)['attention_mask'].shape)\n",
        "\n",
        "# print(train_dataset.__getitem__(1)['decoder_input_ids'].shape)\n",
        "# print(train_dataset.__getitem__(1)['decoder_attention_mask'].shape)"
      ]
    },
    {
      "cell_type": "code",
      "execution_count": 25,
      "metadata": {
        "colab": {
          "base_uri": "https://localhost:8080/"
        },
        "id": "NutyRZITGnjZ",
        "outputId": "20672c85-66df-4c40-bee5-b8e969eaf76c"
      },
      "outputs": [
        {
          "name": "stdout",
          "output_type": "stream",
          "text": [
            "Using GPU\n"
          ]
        }
      ],
      "source": [
        "if torch.cuda.is_available():\n",
        "    device = torch.device(f\"cuda:{gpu}\")\n",
        "    print('Using GPU')\n",
        "else:\n",
        "    device = torch.device(\"cpu\")\n",
        "    print('Using CPU')"
      ]
    },
    {
      "cell_type": "code",
      "execution_count": 26,
      "metadata": {
        "colab": {
          "base_uri": "https://localhost:8080/"
        },
        "id": "ICRf4uw3-6eJ",
        "outputId": "2fe05096-1821-4d9b-fe00-fde4d85880d2"
      },
      "outputs": [
        {
          "data": {
            "text/plain": [
              "Embedding(50267, 768)"
            ]
          },
          "execution_count": 26,
          "metadata": {},
          "output_type": "execute_result"
        }
      ],
      "source": [
        "#Define the BART model and optimizer\n",
        "model = BartForConditionalGeneration.from_pretrained(\"facebook/bart-base\").to(device)\n",
        "model.resize_token_embeddings(vocab_size)"
      ]
    },
    {
      "cell_type": "code",
      "execution_count": 27,
      "metadata": {
        "id": "rSR5v7FZkGAr"
      },
      "outputs": [],
      "source": [
        "#Load from checkpoint\n",
        "# ckpt = torch.load(\"/content/saved_models/best_ckpt_epoch=5_valid_loss=2.1621.ckpt\", map_location=device)\n",
        "# model.load_state_dict(ckpt['model_state_dict'])"
      ]
    },
    {
      "cell_type": "code",
      "execution_count": 28,
      "metadata": {
        "colab": {
          "base_uri": "https://localhost:8080/"
        },
        "id": "o9izc56rG5UI",
        "outputId": "aa0d1feb-eb0a-4e21-8d6d-9330034ca1f8"
      },
      "outputs": [
        {
          "name": "stdout",
          "output_type": "stream",
          "text": [
            "Loading the optimizer...\n"
          ]
        }
      ],
      "source": [
        "print(\"Loading the optimizer...\")\n",
        "optim = torch.optim.AdamW(model.parameters(), lr=lr)\n"
      ]
    },
    {
      "cell_type": "code",
      "execution_count": 29,
      "metadata": {
        "id": "lrS-ZOTaluhD"
      },
      "outputs": [],
      "source": [
        "# Calculate total training steps\n",
        "num_batches = len(train_dataloader)\n",
        "total_train_steps = num_epochs * num_batches\n",
        "warmup_steps = int(warmup_ratio * total_train_steps)\n",
        "\n",
        "sched = get_polynomial_decay_schedule_with_warmup(\n",
        "    optim,\n",
        "    num_warmup_steps=warmup_steps,\n",
        "    num_training_steps=total_train_steps,\n",
        "    power=2\n",
        ")\n",
        "\n",
        "writer = SummaryWriter()\n"
      ]
    },
    {
      "cell_type": "code",
      "execution_count": 30,
      "metadata": {
        "id": "i0wVboPXlx19"
      },
      "outputs": [],
      "source": [
        "def validation():\n",
        "\n",
        "    print(\"Validation processing...\")\n",
        "    model.eval()\n",
        "\n",
        "    valid_losses = []\n",
        "    valid_ppls = []\n",
        "    with torch.no_grad():\n",
        "        for i, batch in enumerate(tqdm(val_dataloader)):\n",
        "\n",
        "            input_ids = batch[\"input_ids\"].to(device)\n",
        "            attention_mask = batch[\"attention_mask\"].to(device)\n",
        "            labels = batch[\"labels\"].to(device)\n",
        "            # decoder_input_ids = batch[\"decoder_input_ids\"].to(device)\n",
        "            # decoder_attention_mask = batch[\"decoder_attention_mask\"].to(device)\n",
        "\n",
        "            outputs = model(\n",
        "                input_ids=input_ids,\n",
        "                attention_mask=attention_mask,\n",
        "                # decoder_input_ids=decoder_input_ids,\n",
        "                # decoder_attention_mask=decoder_attention_mask,\n",
        "                labels = labels\n",
        "                # use_cache=False\n",
        "            )\n",
        "\n",
        "            loss = outputs.loss\n",
        "\n",
        "            valid_losses.append(loss.detach())\n",
        "            ppl = torch.exp(loss.detach())\n",
        "            valid_ppls.append(ppl)\n",
        "\n",
        "        valid_losses = [loss.item() for loss in valid_losses]\n",
        "        valid_ppls = [ppl.item() if not math.isinf(ppl.item()) else 1e+8 for ppl in valid_ppls]\n",
        "        valid_loss = np.mean(valid_losses)\n",
        "        valid_ppl = np.mean(valid_ppls)\n",
        "\n",
        "        if math.isnan(valid_ppl):\n",
        "            valid_ppl = 1e+8\n",
        "\n",
        "    return valid_loss, valid_ppl"
      ]
    },
    {
      "cell_type": "code",
      "execution_count": 31,
      "metadata": {
        "id": "ux0Qm015GU_4"
      },
      "outputs": [],
      "source": [
        "def train():\n",
        "\n",
        "    print('Number of epochs: ', num_epochs)\n",
        "    fix_seed(seed)  # Fix seed before training\n",
        "    print(\"Training starts.\")\n",
        "\n",
        "    best_loss = sys.float_info.max\n",
        "    last_epoch= 0\n",
        "\n",
        "    start_epoch = last_epoch +1\n",
        "\n",
        "    for epoch in range(start_epoch, start_epoch+num_epochs):\n",
        "        model.train()\n",
        "\n",
        "        print(f\"#\"*50 + f\"Epoch: {epoch}\" + \"#\"*50)\n",
        "        train_losses = []\n",
        "        train_ppls = []\n",
        "\n",
        "        # total_loss = 0\n",
        "\n",
        "        for batch in tqdm(train_dataloader):\n",
        "\n",
        "            input_ids = batch[\"input_ids\"].to(device)\n",
        "            attention_mask = batch[\"attention_mask\"].to(device)\n",
        "            labels = batch[\"labels\"].to(device)\n",
        "\n",
        "            optim.zero_grad()\n",
        "\n",
        "\n",
        "            outputs = model(\n",
        "                input_ids=input_ids,\n",
        "                attention_mask=attention_mask,\n",
        "                labels = labels\n",
        "            )\n",
        "\n",
        "            loss = outputs.loss\n",
        "            loss.backward()\n",
        "            optim.step()\n",
        "            sched.step()\n",
        "\n",
        "            train_losses.append(loss.detach())\n",
        "            ppl = torch.exp(loss.detach())\n",
        "            train_ppls.append(ppl)\n",
        "\n",
        "        train_losses = [loss.item() for loss in train_losses]\n",
        "        train_ppls = [ppl.item() if not math.isinf(ppl.item()) else 1e+8 for ppl in train_ppls]\n",
        "        train_loss = np.mean(train_losses)\n",
        "        train_ppl = np.mean(train_ppls)\n",
        "        print(f\"Train loss: {train_loss} || Train perplexity: {train_ppl}\")\n",
        "\n",
        "        writer.add_scalar(\"Loss/train\", train_loss, epoch)\n",
        "        writer.add_scalar(\"PPL/train\", train_ppl, epoch)\n",
        "\n",
        "        last_epoch += 1\n",
        "\n",
        "        valid_loss, valid_ppl = validation()\n",
        "\n",
        "        if valid_loss < best_loss:\n",
        "            best_loss = valid_loss\n",
        "            state_dict = {\n",
        "                'model_state_dict': model.state_dict(),\n",
        "                'optim_state_dict': optim.state_dict(),\n",
        "                'sched_state_dict': sched.state_dict(),\n",
        "                'loss': best_loss,\n",
        "                'epoch': last_epoch\n",
        "            }\n",
        "\n",
        "            torch.save(state_dict, f\"{ckpt_dir}/best_ckpt_epoch={epoch}_valid_loss={round(best_loss, 4)}.ckpt\")\n",
        "            print(\"*\"*10 + \"Current best checkpoint is saved.\" + \"*\"*10)\n",
        "            print(f\"{ckpt_dir}/best_ckpt_epoch={epoch}_valid_loss={round(best_loss, 4)}.ckpt\")\n",
        "\n",
        "        print(f\"Best valid loss: {best_loss}\")\n",
        "        print(f\"Valid loss: {valid_loss} || Valid perplexity: {valid_ppl}\")\n",
        "\n",
        "        writer.add_scalar(\"Loss/valid\", valid_loss, epoch)\n",
        "        writer.add_scalar(\"PPL/valid\", valid_ppl, epoch)\n",
        "\n",
        "        writer.add_scalars(\"Losses\", {\n",
        "            'train': train_loss,\n",
        "            'valid': valid_loss,\n",
        "        }, epoch)\n",
        "        writer.add_scalars(\"PPLs\", {\n",
        "            'train': train_ppl,\n",
        "            'valid': valid_ppl,\n",
        "        }, epoch)\n",
        "\n",
        "    print(\"Training finished!\")"
      ]
    },
    {
      "cell_type": "code",
      "execution_count": 32,
      "metadata": {
        "colab": {
          "base_uri": "https://localhost:8080/"
        },
        "id": "9LCB3oGilx1-",
        "outputId": "3d0c6242-bce5-41e0-9a96-621d549776cd"
      },
      "outputs": [
        {
          "name": "stdout",
          "output_type": "stream",
          "text": [
            "Number of epochs:  6\n",
            "Training starts.\n",
            "##################################################Epoch: 1##################################################\n"
          ]
        },
        {
          "name": "stderr",
          "output_type": "stream",
          "text": [
            "100%|██████████| 140/140 [00:30<00:00,  4.54it/s]\n"
          ]
        },
        {
          "name": "stdout",
          "output_type": "stream",
          "text": [
            "Train loss: 3.6560330969946726 || Train perplexity: 48.30674480029515\n",
            "Validation processing...\n"
          ]
        },
        {
          "name": "stderr",
          "output_type": "stream",
          "text": [
            "100%|██████████| 25/25 [00:01<00:00, 16.75it/s]\n"
          ]
        },
        {
          "name": "stdout",
          "output_type": "stream",
          "text": [
            "**********Current best checkpoint is saved.**********\n",
            "saved_models/best_ckpt_epoch=1_valid_loss=2.7374.ckpt\n",
            "Best valid loss: 2.7374249839782716\n",
            "Valid loss: 2.7374249839782716 || Valid perplexity: 16.16849609375\n",
            "##################################################Epoch: 2##################################################\n"
          ]
        },
        {
          "name": "stderr",
          "output_type": "stream",
          "text": [
            "100%|██████████| 140/140 [00:31<00:00,  4.49it/s]\n"
          ]
        },
        {
          "name": "stdout",
          "output_type": "stream",
          "text": [
            "Train loss: 2.9316333379064288 || Train perplexity: 19.51716752052307\n",
            "Validation processing...\n"
          ]
        },
        {
          "name": "stderr",
          "output_type": "stream",
          "text": [
            "100%|██████████| 25/25 [00:01<00:00, 17.68it/s]\n"
          ]
        },
        {
          "name": "stdout",
          "output_type": "stream",
          "text": [
            "**********Current best checkpoint is saved.**********\n",
            "saved_models/best_ckpt_epoch=2_valid_loss=2.7122.ckpt\n",
            "Best valid loss: 2.712186040878296\n",
            "Valid loss: 2.712186040878296 || Valid perplexity: 15.737069683074951\n",
            "##################################################Epoch: 3##################################################\n"
          ]
        },
        {
          "name": "stderr",
          "output_type": "stream",
          "text": [
            "100%|██████████| 140/140 [00:30<00:00,  4.54it/s]\n"
          ]
        },
        {
          "name": "stdout",
          "output_type": "stream",
          "text": [
            "Train loss: 2.749595161846706 || Train perplexity: 16.336497116088868\n",
            "Validation processing...\n"
          ]
        },
        {
          "name": "stderr",
          "output_type": "stream",
          "text": [
            "100%|██████████| 25/25 [00:01<00:00, 17.01it/s]\n"
          ]
        },
        {
          "name": "stdout",
          "output_type": "stream",
          "text": [
            "**********Current best checkpoint is saved.**********\n",
            "saved_models/best_ckpt_epoch=3_valid_loss=2.7066.ckpt\n",
            "Best valid loss: 2.706581687927246\n",
            "Valid loss: 2.706581687927246 || Valid perplexity: 15.684145278930664\n",
            "##################################################Epoch: 4##################################################\n"
          ]
        },
        {
          "name": "stderr",
          "output_type": "stream",
          "text": [
            "100%|██████████| 140/140 [00:31<00:00,  4.51it/s]\n"
          ]
        },
        {
          "name": "stdout",
          "output_type": "stream",
          "text": [
            "Train loss: 2.6402110712868825 || Train perplexity: 14.527891867501395\n",
            "Validation processing...\n"
          ]
        },
        {
          "name": "stderr",
          "output_type": "stream",
          "text": [
            "100%|██████████| 25/25 [00:01<00:00, 17.36it/s]\n"
          ]
        },
        {
          "name": "stdout",
          "output_type": "stream",
          "text": [
            "**********Current best checkpoint is saved.**********\n",
            "saved_models/best_ckpt_epoch=4_valid_loss=2.6919.ckpt\n",
            "Best valid loss: 2.691890058517456\n",
            "Valid loss: 2.691890058517456 || Valid perplexity: 15.470690650939941\n",
            "##################################################Epoch: 5##################################################\n"
          ]
        },
        {
          "name": "stderr",
          "output_type": "stream",
          "text": [
            "100%|██████████| 140/140 [00:31<00:00,  4.50it/s]\n"
          ]
        },
        {
          "name": "stdout",
          "output_type": "stream",
          "text": [
            "Train loss: 2.5806405544281006 || Train perplexity: 13.635267148699079\n",
            "Validation processing...\n"
          ]
        },
        {
          "name": "stderr",
          "output_type": "stream",
          "text": [
            "100%|██████████| 25/25 [00:01<00:00, 17.21it/s]\n"
          ]
        },
        {
          "name": "stdout",
          "output_type": "stream",
          "text": [
            "Best valid loss: 2.691890058517456\n",
            "Valid loss: 2.6968470096588133 || Valid perplexity: 15.550805473327637\n",
            "##################################################Epoch: 6##################################################\n"
          ]
        },
        {
          "name": "stderr",
          "output_type": "stream",
          "text": [
            "100%|██████████| 140/140 [00:30<00:00,  4.56it/s]\n"
          ]
        },
        {
          "name": "stdout",
          "output_type": "stream",
          "text": [
            "Train loss: 2.5696304883275713 || Train perplexity: 13.566252786772592\n",
            "Validation processing...\n"
          ]
        },
        {
          "name": "stderr",
          "output_type": "stream",
          "text": [
            "100%|██████████| 25/25 [00:01<00:00, 17.64it/s]"
          ]
        },
        {
          "name": "stdout",
          "output_type": "stream",
          "text": [
            "Best valid loss: 2.691890058517456\n",
            "Valid loss: 2.6971686553955077 || Valid perplexity: 15.557815475463867\n",
            "Training finished!\n"
          ]
        },
        {
          "name": "stderr",
          "output_type": "stream",
          "text": [
            "\n"
          ]
        }
      ],
      "source": [
        "train()"
      ]
    },
    {
      "cell_type": "code",
      "execution_count": 33,
      "metadata": {
        "id": "VdbdnhhPiwlu"
      },
      "outputs": [],
      "source": [
        "def infer(window_size=5):\n",
        "    model.eval()\n",
        "    fix_seed(seed)\n",
        "\n",
        "    generated_responses = []\n",
        "    actual_responses = []\n",
        "\n",
        "    with torch.no_grad():\n",
        "\n",
        "        for dialog in tqdm(test_dialogues):\n",
        "\n",
        "            for i in range(0, len(dialog) - window_size, 2): #In steps of 2\n",
        "\n",
        "                window = dialog[i:i+window_size]\n",
        "                window_context = []\n",
        "                for j, utterance in enumerate(window):\n",
        "                    speaker = sp1_token if j % 2 == 0 else sp2_token\n",
        "                    window_context.append(speaker + \" \" + utterance)\n",
        "\n",
        "                # Add special tokens for bos, eos\n",
        "                # window_context.insert(0, '<s>')\n",
        "                # window_context.append(\"</s>\")\n",
        "\n",
        "                window_context = ' '.join(window_context)\n",
        "                # window_context = window_context\n",
        "\n",
        "                # print()\n",
        "                # print('window context: ', window_context)\n",
        "\n",
        "                #Get encodings\n",
        "                encodings = tokenizer.encode_plus(window_context, add_special_tokens=True, padding='max_length', max_length=512, truncation=True , return_tensors=\"pt\")\n",
        "                # print(encodings)\n",
        "                input_ids = encodings['input_ids'].to(device)\n",
        "                attention_mask = encodings['attention_mask'].to(device)\n",
        "\n",
        "                # print('input_ids: ', input_ids.shape, input_ids)\n",
        "                # print('attention_mask: ', attention_mask.shape, attention_mask)\n",
        "\n",
        "                output_ids = model.generate(input_ids=input_ids, attention_mask=attention_mask, max_length=max_len, do_sample=True, top_p=top_p).squeeze(0)\n",
        "\n",
        "                #Generate response\n",
        "                # output_ids = model(input_ids=input_ids, attention_mask=attention_mask)\n",
        "\n",
        "                # print('encoded response: ', output_ids)\n",
        "                # print('encoded response: ', output_ids.squeeze(0))\n",
        "\n",
        "                response = tokenizer.decode(output_ids, skip_special_tokens=True, clean_up_tokenization_spaces=True)\n",
        "\n",
        "                # print('generated response: ', response)\n",
        "\n",
        "                actual_response = dialog[i+window_size]\n",
        "\n",
        "                # print('actual_response: ', actual_response)\n",
        "\n",
        "                generated_responses.append(response)\n",
        "                actual_responses.append(actual_response)\n",
        "            # break\n",
        "\n",
        "    return generated_responses, actual_responses"
      ]
    },
    {
      "cell_type": "code",
      "execution_count": 34,
      "metadata": {
        "colab": {
          "base_uri": "https://localhost:8080/"
        },
        "id": "cji-2yFBlx1-",
        "outputId": "5acad8bf-3415-41b5-e50f-5f5f1f3bc1a2"
      },
      "outputs": [
        {
          "name": "stderr",
          "output_type": "stream",
          "text": [
            "100%|██████████| 2540/2540 [00:41<00:00, 61.58it/s]\n"
          ]
        }
      ],
      "source": [
        "generated_responses, actual_responses = infer()"
      ]
    },
    {
      "cell_type": "code",
      "execution_count": 35,
      "metadata": {
        "colab": {
          "base_uri": "https://localhost:8080/"
        },
        "id": "WwCHEKvSiChd",
        "outputId": "5c6e7275-7f13-47df-d259-e7c7b6943bc4"
      },
      "outputs": [
        {
          "name": "stdout",
          "output_type": "stream",
          "text": [
            "174\n",
            "174\n"
          ]
        }
      ],
      "source": [
        "assert len(generated_responses) == len(actual_responses)\n",
        "print(len(generated_responses))\n",
        "print(len(actual_responses))"
      ]
    },
    {
      "cell_type": "code",
      "execution_count": 36,
      "metadata": {
        "colab": {
          "base_uri": "https://localhost:8080/",
          "height": 17
        },
        "id": "cwS6MXfsiE7Z",
        "outputId": "e69f88a9-c287-4351-def2-ad77e419ac0b"
      },
      "outputs": [
        {
          "data": {
            "application/javascript": "\n    async function download(id, filename, size) {\n      if (!google.colab.kernel.accessAllowed) {\n        return;\n      }\n      const div = document.createElement('div');\n      const label = document.createElement('label');\n      label.textContent = `Downloading \"${filename}\": `;\n      div.appendChild(label);\n      const progress = document.createElement('progress');\n      progress.max = size;\n      div.appendChild(progress);\n      document.body.appendChild(div);\n\n      const buffers = [];\n      let downloaded = 0;\n\n      const channel = await google.colab.kernel.comms.open(id);\n      // Send a message to notify the kernel that we're ready.\n      channel.send({})\n\n      for await (const message of channel.messages) {\n        // Send a message to notify the kernel that we're ready.\n        channel.send({})\n        if (message.buffers) {\n          for (const buffer of message.buffers) {\n            buffers.push(buffer);\n            downloaded += buffer.byteLength;\n            progress.value = downloaded;\n          }\n        }\n      }\n      const blob = new Blob(buffers, {type: 'application/binary'});\n      const a = document.createElement('a');\n      a.href = window.URL.createObjectURL(blob);\n      a.download = filename;\n      div.appendChild(a);\n      a.click();\n      div.remove();\n    }\n  ",
            "text/plain": [
              "<IPython.core.display.Javascript object>"
            ]
          },
          "metadata": {},
          "output_type": "display_data"
        },
        {
          "data": {
            "application/javascript": "download(\"download_94dee206-10c1-4abd-9f77-932cf50cee23\", \"bart_epochs_6_generated_responses_empathetic_dialogues\", 6687)",
            "text/plain": [
              "<IPython.core.display.Javascript object>"
            ]
          },
          "metadata": {},
          "output_type": "display_data"
        },
        {
          "data": {
            "application/javascript": "\n    async function download(id, filename, size) {\n      if (!google.colab.kernel.accessAllowed) {\n        return;\n      }\n      const div = document.createElement('div');\n      const label = document.createElement('label');\n      label.textContent = `Downloading \"${filename}\": `;\n      div.appendChild(label);\n      const progress = document.createElement('progress');\n      progress.max = size;\n      div.appendChild(progress);\n      document.body.appendChild(div);\n\n      const buffers = [];\n      let downloaded = 0;\n\n      const channel = await google.colab.kernel.comms.open(id);\n      // Send a message to notify the kernel that we're ready.\n      channel.send({})\n\n      for await (const message of channel.messages) {\n        // Send a message to notify the kernel that we're ready.\n        channel.send({})\n        if (message.buffers) {\n          for (const buffer of message.buffers) {\n            buffers.push(buffer);\n            downloaded += buffer.byteLength;\n            progress.value = downloaded;\n          }\n        }\n      }\n      const blob = new Blob(buffers, {type: 'application/binary'});\n      const a = document.createElement('a');\n      a.href = window.URL.createObjectURL(blob);\n      a.download = filename;\n      div.appendChild(a);\n      a.click();\n      div.remove();\n    }\n  ",
            "text/plain": [
              "<IPython.core.display.Javascript object>"
            ]
          },
          "metadata": {},
          "output_type": "display_data"
        },
        {
          "data": {
            "application/javascript": "download(\"download_228d3b24-2e2d-42ae-9069-749f2267e6f9\", \"bart_epochs_6_actual_responses_empathetic_dialogues\", 10753)",
            "text/plain": [
              "<IPython.core.display.Javascript object>"
            ]
          },
          "metadata": {},
          "output_type": "display_data"
        }
      ],
      "source": [
        "\n",
        "\n",
        "selected_model = 'bart'\n",
        "\n",
        "file_generated = \"\" + selected_model + \"_epochs_\" + str(num_epochs) + \"_generated_responses_\" + dataset_name\n",
        "file_actual = \"\" + selected_model + \"_epochs_\" + str(num_epochs) + \"_actual_responses_\"  + dataset_name\n",
        "\n",
        "with open(file_generated, \"wb\") as fp:\n",
        "    pickle.dump(generated_responses, fp)\n",
        "\n",
        "with open(file_actual, \"wb\") as fp:\n",
        "    pickle.dump(actual_responses, fp)\n",
        "\n",
        "files.download(file_generated)\n",
        "files.download(file_actual)"
      ]
    },
    {
      "cell_type": "code",
      "execution_count": 37,
      "metadata": {
        "id": "cJaLeVi7iS_q"
      },
      "outputs": [],
      "source": [
        "\n",
        "\n",
        "sacrebleu = evaluate.load(\"sacrebleu\")\n",
        "rouge = evaluate.load(\"rouge\")\n",
        "bertscore = evaluate.load(\"bertscore\")\n",
        "chrf = evaluate.load(\"chrf\")"
      ]
    },
    {
      "cell_type": "code",
      "execution_count": 38,
      "metadata": {
        "colab": {
          "base_uri": "https://localhost:8080/"
        },
        "id": "1_mrgDyIiToz",
        "outputId": "2dfb2482-433d-4efd-fab2-36511e8099bb"
      },
      "outputs": [
        {
          "name": "stdout",
          "output_type": "stream",
          "text": [
            "[\"I'm sorry you had to go through that.\", \"That's great! I hope you find a new job soon!\", \"I'm glad you enjoyed it!\", \"That's a shame. You should learn from your mistakes.\", \"I haven't heard of that one yet.\"]\n",
            "[[\"Wow, So your going to take being a bad person to the grave. Maybe you'll see her in the next life?\"], [\"Well I've been in the business all my life and have worked for some great people. So I pull from what I learned from them.\"], ['Oh, Wow. Not only to be able to do all the running but to view the scenery!'], ['I know.'], ['Sounds interesting!']]\n"
          ]
        }
      ],
      "source": [
        "actual_responses = [[res] for res in actual_responses] #Refs must be in a list of list of str\n",
        "\n",
        "print(generated_responses[:5])\n",
        "print(actual_responses[:5])"
      ]
    },
    {
      "cell_type": "code",
      "execution_count": 39,
      "metadata": {
        "colab": {
          "base_uri": "https://localhost:8080/"
        },
        "id": "UgTTd4uNiV8S",
        "outputId": "fc5a00fc-c511-40f5-da14-a8e302ae83e4"
      },
      "outputs": [
        {
          "name": "stderr",
          "output_type": "stream",
          "text": [
            "Some weights of RobertaModel were not initialized from the model checkpoint at roberta-large and are newly initialized: ['roberta.pooler.dense.weight', 'roberta.pooler.dense.bias']\n",
            "You should probably TRAIN this model on a down-stream task to be able to use it for predictions and inference.\n"
          ]
        }
      ],
      "source": [
        "bleu_score = sacrebleu.compute(predictions=generated_responses, references=actual_responses)\n",
        "\n",
        "rouge_score = rouge.compute(predictions=generated_responses, references=actual_responses)\n",
        "\n",
        "bert_score = bertscore.compute(predictions=generated_responses, references=actual_responses, lang='en')\n",
        "precision = bert_score['precision']\n",
        "recall = bert_score['recall']\n",
        "f1 = bert_score['f1']\n",
        "avg_precision_bert = sum(precision) / len(precision)\n",
        "avg_recall_bert = sum(recall) / len(recall)\n",
        "avg_f1_bert = sum(f1) / len(f1)\n",
        "\n",
        "chrf_score = chrf.compute(predictions=generated_responses, references=actual_responses)"
      ]
    },
    {
      "cell_type": "code",
      "execution_count": 44,
      "metadata": {
        "colab": {
          "base_uri": "https://localhost:8080/"
        },
        "id": "Es5ffi6viX-f",
        "outputId": "b3db524d-b4a1-4827-cf38-b35258f6dbfa"
      },
      "outputs": [
        {
          "name": "stdout",
          "output_type": "stream",
          "text": [
            "Bleu score: \n",
            " {'score': 0.7777648426184913, 'counts': [303, 20, 5, 3], 'totals': [1552, 1378, 1204, 1030], 'precisions': [19.52319587628866, 1.4513788098693758, 0.4152823920265781, 0.2912621359223301], 'bp': 0.5716214253476395, 'sys_len': 1552, 'ref_len': 2420}\n",
            "Rouge score: \n",
            " {'rouge1': 0.12538659964780177, 'rouge2': 0.012817914276200135, 'rougeL': 0.11483889014572904, 'rougeLsum': 0.11476143910821986}\n",
            "Bert score: \n",
            " {'precision': [0.8749120235443115, 0.8499920964241028, 0.8318235874176025, 0.8739137649536133, 0.8369052410125732, 0.8467947244644165, 0.8660605549812317, 0.9032583832740784, 0.8504906892776489, 0.8751018047332764, 0.8603325486183167, 0.875321626663208, 0.8782193660736084, 0.8926254510879517, 0.8968781232833862, 0.8962040543556213, 0.8577842712402344, 0.906535804271698, 0.883204996585846, 0.8991708159446716, 0.8784940242767334, 0.9107457995414734, 0.8642939329147339, 0.8715198636054993, 0.8566023111343384, 0.8650470972061157, 0.8715588450431824, 0.8851257562637329, 0.8585219979286194, 0.8821690082550049, 0.8907436728477478, 0.8845622539520264, 0.846987247467041, 0.8410104513168335, 0.8849600553512573, 0.8589919805526733, 0.8807969093322754, 0.8290878534317017, 0.9407429695129395, 0.8744695782661438, 0.8237054944038391, 0.8522396087646484, 0.8415862917900085, 0.8725402355194092, 0.8690762519836426, 0.860425591468811, 0.8557348251342773, 0.8340427279472351, 0.8609461784362793, 0.8813347220420837, 0.8379645347595215, 0.9001052379608154, 0.8868824243545532, 0.8216392993927002, 0.880957841873169, 0.8719779253005981, 0.8583769798278809, 0.8481158018112183, 0.8593477010726929, 0.891739010810852, 0.8544266223907471, 0.8610216975212097, 0.8375254273414612, 0.8367897272109985, 0.8786731958389282, 0.874290943145752, 0.863871693611145, 0.904792070388794, 0.9020568132400513, 0.8368475437164307, 0.8749268651008606, 0.89434814453125, 0.8742881417274475, 0.8560805320739746, 0.8628536462783813, 0.8833236694335938, 0.8531067967414856, 0.8916015625, 0.836125373840332, 0.889268159866333, 0.875704288482666, 0.8843520879745483, 0.8656394481658936, 0.8560774326324463, 0.8736012578010559, 0.891858696937561, 0.8505477905273438, 0.8511074781417847, 0.8593988418579102, 0.8628696203231812, 0.8793994188308716, 0.847708523273468, 0.8932622671127319, 0.8614652752876282, 0.8958826661109924, 0.8729085922241211, 0.8848021626472473, 0.8564771413803101, 0.8748990297317505, 0.8638977408409119, 0.8870924711227417, 0.8698870539665222, 0.8985519409179688, 0.8520970344543457, 0.8707169890403748, 0.8695505261421204, 0.8544773459434509, 0.8597054481506348, 0.8712468147277832, 0.8599706888198853, 0.8583453297615051, 0.8662432432174683, 0.883962094783783, 0.8798707723617554, 0.8652006387710571, 0.8587876558303833, 0.896081805229187, 0.8651777505874634, 0.8597993850708008, 0.8704788684844971, 0.8708298206329346, 0.8516785502433777, 0.8856322765350342, 0.8450772762298584, 0.8313686847686768, 0.8432273864746094, 0.8928708434104919, 0.855735182762146, 0.8618106842041016, 0.8975966572761536, 0.8631567358970642, 0.8630042672157288, 0.8674553632736206, 0.8541147708892822, 0.880684494972229, 0.8548849821090698, 0.8679113388061523, 0.8917794823646545, 0.856669545173645, 0.8620172739028931, 0.8855321407318115, 0.8757854700088501, 0.8821240663528442, 0.8465978503227234, 0.8902307152748108, 0.915428102016449, 0.8641399145126343, 0.8670382499694824, 0.9050799608230591, 0.8654571771621704, 0.8727215528488159, 0.8582090139389038, 0.872611403465271, 0.847724199295044, 0.8590239882469177, 0.8923398852348328, 0.8733835816383362, 0.8508040904998779, 0.8656636476516724, 0.892653226852417, 0.8792915940284729, 0.8870350122451782, 0.8963847160339355, 0.8636404275894165, 0.8899868130683899, 0.8458038568496704, 0.8544455766677856, 0.852942705154419, 0.9008111953735352, 0.8576484322547913, 0.8594390153884888, 0.8837924599647522, 0.8560191988945007, 0.8751599788665771], 'recall': [0.853215754032135, 0.8469448089599609, 0.8413286209106445, 0.8808386325836182, 0.8409344553947449, 0.852592408657074, 0.8470325469970703, 0.8788038492202759, 0.8212845325469971, 0.8689854145050049, 0.8265453577041626, 0.8732830286026001, 0.8398066759109497, 0.8505043387413025, 0.8494053483009338, 0.8778320550918579, 0.8636223077774048, 0.8683106303215027, 0.9395720362663269, 0.868564248085022, 0.8808631300926208, 0.8684020042419434, 0.8406555652618408, 0.8806184530258179, 0.824421226978302, 0.8855038285255432, 0.8892512321472168, 0.8858985900878906, 0.8241342902183533, 0.8492773771286011, 0.8773410320281982, 0.876412570476532, 0.8547461628913879, 0.8670408725738525, 0.8715721964836121, 0.8501111268997192, 0.8220385313034058, 0.8646100163459778, 0.8676556944847107, 0.9289398193359375, 0.8515034317970276, 0.8335487842559814, 0.8393100500106812, 0.8624532222747803, 0.8387566804885864, 0.8280623555183411, 0.8581246137619019, 0.8211775422096252, 0.8110218048095703, 0.8899588584899902, 0.8336689472198486, 0.8718824982643127, 0.8496277928352356, 0.8947262763977051, 0.8668386936187744, 0.8500693440437317, 0.8422125577926636, 0.8506296873092651, 0.8610849380493164, 0.8946163654327393, 0.8456795811653137, 0.8342727422714233, 0.8338873386383057, 0.8120354413986206, 0.858983039855957, 0.8547182083129883, 0.8568068742752075, 0.8560837507247925, 0.861472487449646, 0.8266630172729492, 0.8772862553596497, 0.8739601373672485, 0.8174464702606201, 0.8575156927108765, 0.8294867277145386, 0.8664589524269104, 0.812113881111145, 0.8735459446907043, 0.8295907974243164, 0.8686263561248779, 0.8495656251907349, 0.8406068086624146, 0.8285709619522095, 0.8721872568130493, 0.8558260798454285, 0.8784050941467285, 0.8848497867584229, 0.8535196185112, 0.8478448987007141, 0.8279504776000977, 0.8826035261154175, 0.8411972522735596, 0.8520584106445312, 0.8406553268432617, 0.8920916318893433, 0.8231703639030457, 0.8380695581436157, 0.8380842208862305, 0.85284423828125, 0.886887788772583, 0.8480165600776672, 0.8663867712020874, 0.8716856241226196, 0.8467119932174683, 0.8090897798538208, 0.864683985710144, 0.8411122560501099, 0.8418076634407043, 0.8531839847564697, 0.8341192007064819, 0.8251775503158569, 0.8591995239257812, 0.871785044670105, 0.8510079383850098, 0.84847092628479, 0.8487650156021118, 0.8751989603042603, 0.8317890167236328, 0.8663125038146973, 0.8637845516204834, 0.8308995962142944, 0.852536678314209, 0.8636206388473511, 0.8298014402389526, 0.859377920627594, 0.8469542264938354, 0.8597451448440552, 0.8315285444259644, 0.8547334671020508, 0.921847403049469, 0.8493127822875977, 0.8418929576873779, 0.8553769588470459, 0.8554843068122864, 0.8705140352249146, 0.8541244268417358, 0.8590505719184875, 0.9015066623687744, 0.8266722559928894, 0.8528374433517456, 0.8473379015922546, 0.835445761680603, 0.8467315435409546, 0.8573779463768005, 0.8603525757789612, 0.9117881655693054, 0.8524815440177917, 0.8473328351974487, 0.8937855362892151, 0.8439089059829712, 0.8505187034606934, 0.8472867012023926, 0.8660067915916443, 0.8379551768302917, 0.8635604381561279, 0.8350629806518555, 0.8708054423332214, 0.8419078588485718, 0.8383687734603882, 0.847838282585144, 0.8963200449943542, 0.8724220991134644, 0.8481847047805786, 0.8440195918083191, 0.8970673084259033, 0.8412770628929138, 0.8451380133628845, 0.8757578730583191, 0.867376446723938, 0.840971827507019, 0.8642951846122742, 0.8801141381263733, 0.8600258827209473, 0.8634816408157349], 'f1': [0.8639277815818787, 0.8484657406806946, 0.8365491032600403, 0.8773625493049622, 0.8389149904251099, 0.8496837019920349, 0.8564409017562866, 0.890863299369812, 0.8356325030326843, 0.872032880783081, 0.8431005477905273, 0.8743011355400085, 0.8585835695266724, 0.8710560202598572, 0.872496485710144, 0.8869228959083557, 0.8606933951377869, 0.8870115876197815, 0.9105169773101807, 0.8836026191711426, 0.8796769380569458, 0.8890699744224548, 0.8523108959197998, 0.8760455250740051, 0.8402037024497986, 0.8751559257507324, 0.8803161382675171, 0.8855119943618774, 0.8409767746925354, 0.8654108047485352, 0.883991539478302, 0.8804685473442078, 0.8508490324020386, 0.8538272976875305, 0.8782151341438293, 0.8545284271240234, 0.850403904914856, 0.8464763760566711, 0.9027223587036133, 0.9008820652961731, 0.8373738527297974, 0.8427906036376953, 0.8404466509819031, 0.8674674034118652, 0.8536473512649536, 0.8439337611198425, 0.8569280505180359, 0.8275601863861084, 0.8352386355400085, 0.8856257796287537, 0.8358112573623657, 0.8857691287994385, 0.867855429649353, 0.8566266894340515, 0.8738412261009216, 0.8608842492103577, 0.8502179384231567, 0.8493708968162537, 0.860215425491333, 0.8931753635406494, 0.8500306010246277, 0.8474361896514893, 0.8357024788856506, 0.8242267370223999, 0.8687165975570679, 0.8643937706947327, 0.8603247404098511, 0.8797642588615417, 0.8812976479530334, 0.8317241072654724, 0.8761049509048462, 0.8840366005897522, 0.8449124097824097, 0.8567975163459778, 0.8458412885665894, 0.8748100399971008, 0.8321057558059692, 0.8824813961982727, 0.8328452706336975, 0.8788260221481323, 0.8624369502067566, 0.8619247674942017, 0.8466997146606445, 0.8640572428703308, 0.8646222949028015, 0.8850807547569275, 0.8673598170280457, 0.8523118495941162, 0.8535827994346619, 0.8450494408607483, 0.8809985518455505, 0.8444403409957886, 0.8721739649772644, 0.8509331345558167, 0.8939830660820007, 0.8473101258277893, 0.8608020544052124, 0.8471808433532715, 0.8637308478355408, 0.875241756439209, 0.8671144843101501, 0.8681334257125854, 0.8849148750305176, 0.8493959903717041, 0.8387729525566101, 0.8671104311943054, 0.8477421402931213, 0.8506624698638916, 0.8621208071708679, 0.8468477129936218, 0.8414346575737, 0.8627070188522339, 0.8778313994407654, 0.8651987314224243, 0.8567541241645813, 0.8537468910217285, 0.8855172395706177, 0.8481549024581909, 0.8630436658859253, 0.8671188354492188, 0.8503962159156799, 0.8521074056625366, 0.8744879961013794, 0.8373696804046631, 0.8451413512229919, 0.8450866937637329, 0.8759949803352356, 0.8434582352638245, 0.858257532119751, 0.9095604419708252, 0.8561787605285645, 0.8523179292678833, 0.8613738417625427, 0.8547990322113037, 0.875569760799408, 0.8545045256614685, 0.8634582161903381, 0.8966166973114014, 0.8414036631584167, 0.8574027419090271, 0.8660140633583069, 0.8551401495933533, 0.8640655279159546, 0.8519538044929504, 0.8750366568565369, 0.9136044979095459, 0.8582711815834045, 0.8570722937583923, 0.8993972539901733, 0.8545472025871277, 0.8614770770072937, 0.852712869644165, 0.8692966103553772, 0.8428113460540771, 0.8612862229347229, 0.8627517819404602, 0.872092604637146, 0.8463326096534729, 0.8517976403236389, 0.8696687817573547, 0.8877242207527161, 0.8796678185462952, 0.8716188669204712, 0.8537173271179199, 0.893513023853302, 0.8435344099998474, 0.8497663736343384, 0.864199697971344, 0.8837776780128479, 0.8492282032966614, 0.8618602752685547, 0.8819494247436523, 0.8580178022384644, 0.8692815899848938], 'hashcode': 'roberta-large_L17_no-idf_version=0.3.12(hug_trans=4.30.2)'}\n",
            "Avg precision Bert score:  0.8694740074804459\n",
            "Avg recall Bert score:  0.8558058036469866\n",
            "Avg f1 Bert score:  0.8624441147535696\n",
            "chrf score: \n",
            " {'score': 10.616290184593359, 'char_order': 6, 'word_order': 0, 'beta': 2}\n"
          ]
        }
      ],
      "source": [
        "print('Bleu score: \\n', bleu_score) #Range from 0 to 100\n",
        "print('Rouge score: \\n', rouge_score)\n",
        "print('Bert score: \\n', bert_score)\n",
        "print('Avg precision Bert score: ', avg_precision_bert)\n",
        "print('Avg recall Bert score: ', avg_recall_bert)\n",
        "print('Avg f1 Bert score: ', avg_f1_bert)\n",
        "print('chrf score: \\n', chrf_score)\n"
      ]
    },
    {
      "cell_type": "code",
      "execution_count": 43,
      "metadata": {
        "id": "DCZn2QgqDrgY"
      },
      "outputs": [],
      "source": [
        "from google.colab import output\n",
        "output.eval_js('new Audio(\"https://upload.wikimedia.org/wikipedia/commons/0/05/Beep-09.ogg\").play()')"
      ]
    },
    {
      "cell_type": "code",
      "execution_count": 42,
      "metadata": {
        "id": "B7xAWdioqKtX"
      },
      "outputs": [],
      "source": [
        "# def generate_response(context):\n",
        "#     model.eval()\n",
        "#     input_ids = tokenizer.encode(context, padding='max_length', max_length=512, truncation=True , return_tensors=\"pt\").to(device)\n",
        "#     input_ids = input_ids.to(device)\n",
        "#     output_ids = model.generate(input_ids=input_ids, max_length=512, do_sample=True, top_p=top_p)\n",
        "#     response = tokenizer.decode(output_ids.squeeze(), skip_special_tokens=True)\n",
        "\n",
        "#     return response\n",
        "\n",
        "# context = \"<sp1> How are you? <sp2> I'm doing well. How about you? <sp1> I am good too. Thanks for asking. <sp2>\"\n",
        "# context = \"<sp1> What date is today?\"\n",
        "\n",
        "# response = generate_response(context)\n",
        "# print(\"Generated Response:\", response)"
      ]
    },
    {
      "cell_type": "markdown",
      "metadata": {
        "id": "bX9l-JrkZehW"
      },
      "source": [
        "### Qualitative evaluation"
      ]
    },
    {
      "cell_type": "code",
      "execution_count": 11,
      "metadata": {
        "colab": {
          "base_uri": "https://localhost:8080/",
          "height": 35
        },
        "id": "E0A683HAgbh1",
        "outputId": "b47dba26-1669-41b4-dbce-4c27ec746991"
      },
      "outputs": [
        {
          "data": {
            "text/plain": [
              "'empathetic_dialogues'"
            ]
          },
          "execution_count": 11,
          "metadata": {},
          "output_type": "execute_result"
        }
      ],
      "source": [
        "dataset_name"
      ]
    },
    {
      "cell_type": "code",
      "execution_count": 28,
      "metadata": {
        "colab": {
          "base_uri": "https://localhost:8080/"
        },
        "id": "_EIO3vNdZhCS",
        "outputId": "a1aef696-269c-43fd-db36-bfcea2def45e"
      },
      "outputs": [
        {
          "name": "stdout",
          "output_type": "stream",
          "text": [
            "174\n"
          ]
        }
      ],
      "source": [
        "#Load generated responses from gpt2, dialogpt and bart\n",
        "\n",
        "models = ['gpt2', 'dialoGPT-small', 'bart']\n",
        "\n",
        "responses = {}\n",
        "\n",
        "for m in models:\n",
        "    file_name = 'Results\\\\SecondExperiment\\\\' + m +  \"\\\\\" + dataset_name + '\\\\' + m + '_epochs_6_generated_responses_' + dataset_name\n",
        "    # file_name = m + '_epochs_6_generated_responses_' + dataset_name\n",
        "    with open(file_name, \"rb\") as fp:\n",
        "        responses[m] = pickle.load(fp)\n",
        "\n",
        "assert len(responses['bart']) == len(responses['gpt2']) == len(responses['dialoGPT-small'])\n",
        "print(len(responses['bart']))"
      ]
    },
    {
      "cell_type": "code",
      "execution_count": 29,
      "metadata": {
        "id": "EGuxzyxEZoCo"
      },
      "outputs": [],
      "source": [
        "#Go through testing dialogues to check context\n",
        "def context(window_size=5):\n",
        "\n",
        "    context = []\n",
        "    actual_responses = []\n",
        "\n",
        "    for dialog in test_dialogues:\n",
        "\n",
        "        for i in range(0, len(dialog) - window_size, 2): #In steps of 2\n",
        "\n",
        "            window = dialog[i:i+window_size]\n",
        "\n",
        "            context.append(window)\n",
        "            actual_responses.append(dialog[i+window_size])\n",
        "\n",
        "    return context, actual_responses"
      ]
    },
    {
      "cell_type": "code",
      "execution_count": 30,
      "metadata": {
        "colab": {
          "base_uri": "https://localhost:8080/"
        },
        "id": "nFVb_h4mbQAH",
        "outputId": "01483ee3-ddc2-4cad-bf75-19a90d4024c2"
      },
      "outputs": [
        {
          "name": "stdout",
          "output_type": "stream",
          "text": [
            "174\n"
          ]
        }
      ],
      "source": [
        "contexts, actual_responses = context()\n",
        "\n",
        "assert len(contexts) == len(actual_responses)\n",
        "print(len(contexts))"
      ]
    },
    {
      "cell_type": "code",
      "execution_count": 31,
      "metadata": {},
      "outputs": [
        {
          "data": {
            "text/plain": [
              "174"
            ]
          },
          "execution_count": 31,
          "metadata": {},
          "output_type": "execute_result"
        }
      ],
      "source": [
        "len(contexts)"
      ]
    },
    {
      "cell_type": "code",
      "execution_count": 32,
      "metadata": {
        "id": "WJLuG8jvdU3I"
      },
      "outputs": [],
      "source": [
        "n_samples = 30\n",
        "idx = np.random.choice(len(contexts), size=n_samples, replace=False)\n",
        "\n",
        "gpt2_responses = [responses['gpt2'][i] for i in idx]\n",
        "dialogpt_responses = [responses['dialoGPT-small'][i] for i in idx]\n",
        "bart_responses = [responses['bart'][i] for i in idx]\n",
        "actual_responses = [actual_responses[i] for i in idx]\n",
        "contexts = [contexts[i] for i in idx]\n",
        "\n",
        "\n"
      ]
    },
    {
      "cell_type": "code",
      "execution_count": 33,
      "metadata": {},
      "outputs": [],
      "source": [
        "#Load responses to double check that all models have the same actual responses\n",
        "for m in models:\n",
        "    file_name = 'Results\\\\SecondExperiment\\\\' + m +  \"\\\\\" + dataset_name + '\\\\' + m + '_epochs_6_actual_responses_' + dataset_name\n",
        "    # file_name = m + '_epochs_6_generated_responses_' + dataset_name\n",
        "    with open(file_name, \"rb\") as fp:\n",
        "        key_name = m +'_res'\n",
        "        responses[key_name] = pickle.load(fp)\n",
        "\n",
        "gpt2_actual_res = [responses['gpt2_res'][i] for i in idx]\n",
        "dialogpt_actual_res = [responses['dialoGPT-small_res'][i] for i in idx]\n",
        "bart_res = [responses['bart_res'][i] for i in idx]\n",
        "\n",
        "for gpt2_res, dialogpt_res, bart_res, actual_res in zip(gpt2_actual_res, dialogpt_actual_res, bart_res, actual_responses):\n",
        "    assert gpt2_res == dialogpt_res == bart_res == actual_res\n"
      ]
    },
    {
      "cell_type": "code",
      "execution_count": 34,
      "metadata": {
        "colab": {
          "base_uri": "https://localhost:8080/"
        },
        "id": "S2rbXRgZdMdu",
        "outputId": "88b179f3-cda0-4ed7-d77d-8eec488a7fd4"
      },
      "outputs": [
        {
          "name": "stdout",
          "output_type": "stream",
          "text": [
            "\n",
            "Context: \n",
            "I found out yesterday at work that I'm one of the top performers for my district! I figured I was doing good, I didn't know I was doing *that* well!\n",
            "That's great.\n",
            "Usually at the end of the day it's never anything nice when my supervisor wants to talk to me but she broke the news and I was surprised! Been walking on sunshine all weekend!\n",
            "Congrats. I want a promotion at my job.\n",
            "How long have you been there?\n",
            "\n",
            "Actual res:  Three years.\n",
            "Gpt2 res:  I hope you're ok!\n",
            "dialoGPT res:  Yeah that is the best part of being an adult with a job. I hope you are still there.\n",
            "bart res:  That's great! I wish you all the best!\n",
            "\n",
            "Context: \n",
            "Yes, I am always better off with them as my parents, They want to see us succeed.\n",
            "Do you find the home buying experience worth it?\n",
            "Yes, It was well worth it! I love being independant. Teaches you a lot.\n",
            "How long do you plan on staying in that house?\n",
            "Maybe 5 more years then I am ready for something bigger. Probably when I get married.\n",
            "\n",
            "Actual res:  Well that's awesome! I'm happy for you!\n",
            "Gpt2 res:  No, INo, I don't have a husband.\n",
            "dialoGPT res:  Maybe when I get older, That is your best option.\n",
            "bart res:  I would love to live in that house forever.\n",
            "\n",
            "Context: \n",
            "I am so proud of my sister.\n",
            "What did she do?\n",
            "She bought me a car.\n",
            "Wow! That was really nice of her! What was the occasion? You guys must be very close.\n",
            "We are basically best friends. It is my birthday and she worked really hard to get a car for me.\n",
            "\n",
            "Actual res:  That is so awesome! I am sure you appreciate her for it. It's good that you have a great relationship with her.\n",
            "Gpt2 res:  I would like to have a little bit of money for you.\n",
            "dialoGPT res:  Yeah that's great. It's a good feeling.\n",
            "bart res:  I am so proud of you! I wish you both the best of luck!\n",
            "\n",
            "Context: \n",
            "Yesterday my car ran out of oil and broke down. I could not believe I would let such a thing happen!\n",
            "Oh no! Did it do any meaningful damage?\n",
            "The engine is totally shot, Its not designed to run without any. So now I have to go shopping for a new car.\n",
            "OuCH. New car is cheaper than replacing the engine?\n",
            "The new car is more expensive than a new engine. But I can't justify such a costly repair on my car.\n",
            "\n",
            "Actual res:  Yeah I get that. Plus I guess the value goes way down doing something like that.\n",
            "Gpt2 res:  Well, it works great. My car is completely restored!\n",
            "dialoGPT res:  That's what happens when you can't afford a new car,\n",
            "bart res:  I'm sure you can figure out a way to fix it.\n",
            "\n",
            "Context: \n",
            "It was brutal.\n",
            "What was brutal?\n",
            "I didnt shower for a few days and had an important meeting. I could tell that they could smell me. I became a tomato.\n",
            "Really? No shower for few days?\n",
            "Yes. Homeless for a bit.\n",
            "\n",
            "Actual res:  Ok. I understand.\n",
            "Gpt2 res:  Did you have a lot of food? I could tell that you could see my teeth. That's what you could see?\n",
            "dialoGPT res:  Well. Did you enjoy the showers.\n",
            "bart res:  I'm sorry. I'm sorry to hear that.\n",
            "\n",
            "Context: \n",
            "Nothing in life is certain, The only control you have is to decide what to do with the time that has been given to you.\n",
            "I tend to believe that those who have Biblical faith do have a certainty, That God will bless them despite circumstances.\n",
            "I have just bought a ticket to a britney spears live show invegas.\n",
            "Oh really, When are you going to go see her?\n",
            "The show is in three months, I hope she sings he late 90s hits.\n",
            "\n",
            "Actual res:  I hope you have a good time at the concert, And she sings all the songs you're looking forward to.\n",
            "Gpt2 res:  You must be wondering what's going on in the next two months.\n",
            "dialoGPT res:  She can still come in for the next one.\n",
            "bart res:  I am so excited to see her.\n",
            "\n",
            "Context: \n",
            "A friend of mine took early retirement recently and he and his wife are traveling all over the world.\n",
            "That sounds like so much fun!\n",
            "I know - I wish I could do that. They've been to France, Italy, Croatia and Chile so far - I'm sitting in NC!\n",
            "I totally get why you feel that way. Your time will come soon.\n",
            "I would just like to be able to drive to Raleigh without hurting! I fell and broke my hip a while back and can't walk properly.\n",
            "\n",
            "Actual res:  I hope you can recover soon!\n",
            "Gpt2 res:  I can't get enough of you! I'm sorry to hear that!\n",
            "dialoGPT res:  That's good to hear!\n",
            "bart res:  That sounds like a great plan!\n",
            "\n",
            "Context: \n",
            "I once was taking a big trip I had been looking forward to and the day before we leave for an international flight a high level travel advisory was issued for the area we were going.\n",
            "Ugh! I hate it when stuff like that happens. Were you able to get a refund on your tickets?\n",
            "No. We went ahead and went on. It actually turned out to be a great trip with zero incidents.\n",
            "Awesome!!.\n",
            "Yeah. Glad we didnt bail.\n",
            "\n",
            "Actual res:  That is very true! Was it bad weather?\n",
            "Gpt2 res:  That is an understatement.\n",
            "dialoGPT res:  Yea, I've been to many airports. I hope you have a good trip.\n",
            "bart res:  I'm sorry to hear that.\n",
            "\n",
            "Context: \n",
            "Six days in all, But I wasn't rushing it. I wanted to see a bit of the country. It was amazing actually.\n",
            "That is a long time to be in the car for sure.\n",
            "It's not so bad really. You get used to it. If you remember to stop and stretch now and again you're ok. And there are some decent rest areas, Some with free coffee!\n",
            "Oh well that's a plu!\n",
            "Oh yes. Anything to keep the eyes open and on the road!\n",
            "\n",
            "Actual res:  So where did you stop along the way?\n",
            "Gpt2 res:  Oh! I can't wait for it!\n",
            "dialoGPT res:  Yeah. I really like to take a nap.\n",
            "bart res:  Good luck!\n",
            "\n",
            "Context: \n",
            "Wow! It makes me sad how people can be so cruel to animals that don't have the ability to fight back. The rescue shelters here have been working overtime to get things straightened out at that farm.\n",
            "I could chat with you all day! We have a lot in common- I feel the same way. Keep chatting? Poor rescue animals.\n",
            "Yeah. But I'm glad at least here we have enough agencies [and people volunteering their time] that hopefully, Those animals can find good care and good homes.\n",
            "That's great! So sad for those poor animals.\n",
            "And in my opinion, The bond for those people was nowhere near high enough - they should have had to stay in jail!\n",
            "\n",
            "Actual res:  They should- they say people who hurt animals will hurt people too.\n",
            "Gpt2 res:  Yeah. But I know that I've made my pretty darn happy. I hope you enjoy it!\n",
            "dialoGPT res:  I hope that they are better than people who could give you a good luck!\n",
            "bart res:  That's great! I'm glad you found a good home.\n",
            "\n",
            "Context: \n",
            "Not really, I take my daughter to see them, So many of them have no visitors at all.\n",
            "Yeah. That's awesome that you do that though. Makes for some special moments with your daughter and teaches her stuff.\n",
            "She likes to bake, So we take them what she makes :).\n",
            "That sounds cool! I bet she cooks good!\n",
            "She is pretty good for an eleven year old, Better than I was.\n",
            "\n",
            "Actual res:  Haha same here!\n",
            "Gpt2 res:  That's really cool! That sounds awesome!\n",
            "dialoGPT res:  I bet she would love that!\n",
            "bart res:  That sounds like a good idea!\n",
            "\n",
            "Context: \n",
            "I got a new puppy for my birthday! She is a cutie!\n",
            "Congratulations! What did you name her?\n",
            "I named herDixie! She is a little basset hound.\n",
            "Congratulations! What did you name her?\n",
            "I named herDixie! She is a little basset hound.\n",
            "\n",
            "Actual res:  How sweet! Does she know any good tricks?\n",
            "Gpt2 res:  Die-Doo!\n",
            "dialoGPT res:  Yes, she is a little girl but she is still in a small package for adoption!\n",
            "bart res:  Congratulations! What did you name her?\n",
            "\n",
            "Context: \n",
            "Running my first (and maybe only!) marathon felt like *such* a huge accomplishment!\n",
            "Wow, That is an amazing accomplishment! Congratulations! You gotta be feeling like you're on top of the world after that!\n",
            "Ah, It was the best! Plus it helped that I purposely chose an amazing destination in which to run it -- it was the Venice Marathon!\n",
            "My first thought was \"California\" but then there's Venice [Italy] and then either way, That's an amazing destination!\n",
            "We were living overseas at the times -- the most impressive part was crossing the Grand Canal over a pontoon of boats to finish the marathon ;-).\n",
            "\n",
            "Actual res:  Oh, Wow. Not only to be able to do all the running but to view the scenery!\n",
            "Gpt2 res:  We were living in America at the time--the most impressive part was crossing the Grand over a pont to finish the marathon ;-).\n",
            "dialoGPT res:  It really was a great experience!\n",
            "bart res:  I'm glad you enjoyed it!\n",
            "\n",
            "Context: \n",
            "I had a dream the other night about my friends from high school. It brought back all kinds of memories from my teen years and thinking back made me smile.\n",
            "Did you tell anyone about the dream?\n",
            "I told my husband. The dream made me miss my best friend from high school.\n",
            "You should call your best friend on the telephone!\n",
            "I actually sent her a message through facebook.\n",
            "\n",
            "Actual res:  That is sure to make you feel the nostalgic?\n",
            "Gpt2 res:  I actually texted her a friend. I hope she gets back to her life.\n",
            "dialoGPT res:  I'm glad you shared it with your friends and family and friends.\n",
            "bart res:  You should call your best friend on the telephone.\n",
            "\n",
            "Context: \n",
            "When I heard Anthony Bourdin had taken his own life, I was so shocked and upset. He gave so much pleasure to a lot of people, Yet was miserable in his own life.\n",
            "I think we never really know what is going on inside people's mind. Celebrities like Anthony and Robin Williams seems to live a good life, But in reality, They are suffering.\n",
            "It's awful. I really wish far more resources were put toward mental health facilities and counselling in this country!\n",
            "I completely agree! I think it would even help lower crime rates.\n",
            "Most definitely. We actually need these resources to get mentally disturbed people off the streets and get them the help they deserve.\n",
            "\n",
            "Actual res:  All around, It would be a good decision for society. Just last night, I was watching Live PD and there was a young man stealing a candy bar. He was a drug addict. I believe if he had the help he needed, He would not have to steal tiny amounts of food.\n",
            "Gpt2 res:  You are soI wish we could cure everything!\n",
            "dialoGPT res:  I hope they get better.\n",
            "bart res:  I agree with you! I think we need mental health facilities and counselling in this country.\n",
            "\n",
            "Context: \n",
            "Do you even know how crazy it is to skydive? I must have been absolutely nuts when I did it.\n",
            "Oh I don't think I could do that. I have a fear of falling from high places.\n",
            "It gave me the biggest rush that's for sure. But on the way down I was saying my prayers.\n",
            "I think I would pass out from fear lol.\n",
            "You should do it sometime. It's fun to take chances.\n",
            "\n",
            "Actual res:  I think the chances I take should be directly proportionate to the consequences of the actions.\n",
            "Gpt2 res:  I will get back to the gym soon. I meanI guess I should be ready for it.\n",
            "dialoGPT res:  I really enjoy doing that. I wish I could do it again.\n",
            "bart res:  You should try it.\n",
            "\n",
            "Context: \n",
            "So tonight we are suppose to go eat out as a family but I cant get a single one of my family members to agree on a place. So frustrating!\n",
            "You should make a wheel you can spin to decide. I did that once.\n",
            "That's actually not a bad idea. Wish I had come up with that earlier. It seems everyone wants something different.\n",
            "Yes you put all the places on it and spin...\n",
            "Im going to have to sue that for next week. I think this week they can all go make PB&J since they want to be difficult.\n",
            "\n",
            "Actual res:  Put that on there too!\n",
            "Gpt2 res:  That's how it is. You can go make PB&You can make PB&\n",
            "dialoGPT res:  Yayyyy!\n",
            "bart res:  That sounds like a good idea.\n",
            "\n",
            "Context: \n",
            "Ok, So the people upstairs were making a terrible noise last night and I'd had enough. I put jazz on quite loudly and went to bed. I really shouldn't have done that!\n",
            "Oh no what happened?\n",
            "Well, They were shouting and stomping around, So I lost it! This morning, They've been quiet as church mice, So I guess it worked :).\n",
            "That would really help if it was a permanent solution.\n",
            "Yeah, I really do feel bad, But it's been going on for over a year.\n",
            "\n",
            "Actual res:  Yeah enough is enough. I totally can't say i blame you.\n",
            "Gpt2 res:  Oh I hope it doesn't come back.\n",
            "dialoGPT res:  I have never had a problem with it.\n",
            "bart res:  I'm sorry, But I'm glad you're able to get over it.\n",
            "\n",
            "Context: \n",
            "Our Property Management team just emailed me to say I've got the apartment I wanted!\n",
            "Congratulations! That must have been such a great feeling.\n",
            "It really was - I can't wait to move in! It's a smaller apartment, But quieter (I hope!)..\n",
            "I can't wait for the day I move out into my own place!\n",
            "You'll get there. It really is nice to have your own space. Do you live at home?\n",
            "\n",
            "Actual res:  I do, I live with my parents because I'm in university and I'm still pretty young. Hopefully by next year!\n",
            "Gpt2 res:  Oh, no. We live at home! If you're gonna move in your apartment!\n",
            "dialoGPT res:  I hope so! I love it when I'm at work and the people love me.\n",
            "bart res:  That's great! I wish you the best of luck!\n",
            "\n",
            "Context: \n",
            "Hello... I give thanks for the good things and the things that do not, The good things make me feel good and the satisfaction and the bad things are internal growth.\n",
            "That is a very optimistic way to look at life. I should actually look at life that way too instead of getting overwhelmed when things do not go my way.\n",
            "For me it was a hard learning... But after many blows... I assimilated it.\n",
            "How long have you looked at life this way? Is it sustainable?\n",
            "For a year... You assimilate it when you realize that you are responsible... Neither the people nor the circumstances are responsible.\n",
            "\n",
            "Actual res:  This is completely true. It involves totallyre conditioning the mind.\n",
            "Gpt2 res:  The people have to work.\n",
            "dialoGPT res:  I am glad that you had such a positive and positive experience. It is hard to see positive. It does happen.\n",
            "bart res:  That is a good way to look at life.\n",
            "\n",
            "Context: \n",
            "The hardest time in my life was when my best friend died on Christmas of 2007.\n",
            "Wow. I'm so sorry to hear that. That would be incredibly hard. What happened?\n",
            "She fell off of a roof. She fell asleep and when she got up, She slipped.\n",
            "That's horrible. I'm really sorry about your friend.\n",
            "It has been a long time so I have come to cope with it, But sometimes it's still hard. I named my daughter after her. Her name is Roxie.\n",
            "\n",
            "Actual res:  That's a beautiful name! It's cool you honored your friend in that way.\n",
            "Gpt2 res:  She was a sweetheart. I hope she is still with you.\n",
            "dialoGPT res:  I have a great name. She will be my best friend for life.\n",
            "bart res:  I'm sorry to hear that. I'm so sorry for your loss.\n",
            "\n",
            "Context: \n",
            "That's too bad. What do you think went wrong?\n",
            "I am not sure, It was pretty random.\n",
            "Did they give you any feedback?\n",
            "No, Nothing at all.\n",
            "That is a shame, You need to learn from your mistakes.\n",
            "\n",
            "Actual res:  I know.\n",
            "Gpt2 res:  That's a shame.\n",
            "dialoGPT res:  Don't be so serious, It is a good learning experience,\n",
            "bart res:  That's a shame. You should learn from your mistakes.\n",
            "\n",
            "Context: \n",
            "I won $500 on a scratch off the other day.\n",
            "Awesome. What are you going to do with the money.\n",
            "I'm really not sure. I was shocked to win that much.\n",
            "Don't spend it all in one place :).\n",
            "I'll try not to. I'll probably just save it :).\n",
            "\n",
            "Actual res:  Putting it away for a rainy day is the best bet.,.\n",
            "Gpt2 res:  I'll just go ahead and save it.\n",
            "dialoGPT res:  I'm not sure.\n",
            "bart res:  That's great. I'm glad you won!\n",
            "\n",
            "Context: \n",
            "My boyfriend of five years and I broke up. I don't know what to do with my life.\n",
            "I am so sorry to hear that. Is there any chance you might be able to reconcile???.\n",
            "I don't think so. He wants to join the military since his dad has passed away and I'm not sure if that's the lifestyle I want.\n",
            "Oh that's too bad. ): I don't want to overstep but I always like to encourage people to hold on to their love for each other no matter what trials come up.\n",
            "I think we're going to try long distance while I finish up school (3 more years). But it's just scary thinking of it all.\n",
            "\n",
            "Actual res:  I think that's good! If you are meant to be together you'll feel it and it will work out I think, If you just keep your conviction and stick with it. Good luck with it!\n",
            "Gpt2 res:  I donWell, I\n",
            "dialoGPT res:  That's so frustrating.\n",
            "bart res:  I'm sorry to hear that. I hope you're able to find peace with your situation.\n",
            "\n",
            "Context: \n",
            "No matter how many times I told her that I didn't do it, My roommate insisted that I ate her ice cream last night! Unbelievable!\n",
            "Well, Did you eat her ice cream?\n",
            "I certainly would have liked to, But I'm lactose intolerant! If I had eaten it, I would have been so miserable that there's no way she would've mistaken it.\n",
            "I wonder who actually ate it then.\n",
            "She probably did, During one of those nights when she stumbles into the apartment at 3am, Drunk, With some random guy she brought home from the club.\n",
            "\n",
            "Actual res:  So are you saying it could be the guy?\n",
            "Gpt2 res:  I think that's pretty awesome.\n",
            "dialoGPT res:  ...\n",
            "bart res:  I bet she did.\n",
            "\n",
            "Context: \n",
            "Even though I could've gotten more money at another job, I've stayed with my current employer. It is a good place to work.\n",
            "Well that's good to hear I guess. What do you do?\n",
            "I work in public relations. I create campaigns for companies.\n",
            "What's your most successful campaign so far?\n",
            "I recently did a very successful one for a medical company.\n",
            "\n",
            "Actual res:  I always need convincing to take my yucky medicine.\n",
            "Gpt2 res:  I have many successes in that area.\n",
            "dialoGPT res:  I like to make a living.\n",
            "bart res:  That's great! I'm glad you're doing it.\n",
            "\n",
            "Context: \n",
            "One of my favorite breakfast foods. She also made some thick sliced bacon. She treats me so well.\n",
            "That is great you have a sweet wife!\n",
            "For sure, No other woman I would rather have.\n",
            "It is so great to hear about a happy couple :).\n",
            "How can I complain when she gets up early to make me such a great meal!\n",
            "\n",
            "Actual res:  I bet she is a great cook!\n",
            "Gpt2 res:  Good job!\n",
            "dialoGPT res:  I know that feeling.\n",
            "bart res:  That sounds like a great wife!\n",
            "\n",
            "Context: \n",
            "I recently moved from California to North Carolina and suddenly realized I knew absolutely nobody. It was a horrible feeling.\n",
            "That sucks. Why did you move from california?\n",
            "My rent tripled in three years. I couldn't afford to stay - just too expensive. Anyway, A friend had driven across with me and it wasn't until he'd gone that I realized I was alone.Silly, Huh?!.\n",
            "That's really common actually. There's a big exodus from there. They voted for high taxes and now people are abandoning the state beacuse the cost of living is too high.\n",
            "The two things I found that were really bad were rents and gas. Everything else was pretty much the same as other places I've lived. So sad - where I lived was lovely.\n",
            "\n",
            "Actual res:  The weather is nice in parts of california, I've been there.\n",
            "Gpt2 res:  That's really sad! I donOh, no, no, no! I don't!\n",
            "dialoGPT res:  I can understand the cost of course the struggle.\n",
            "bart res:  I'm sorry to hear that.\n",
            "\n",
            "Context: \n",
            "I have been seeing pictures of friends of mine traveling around Italy.\n",
            "How does that make you feel?\n",
            "I wish I were with them. I love Italy.\n",
            "I've never left the US. I've never been north of Kentucky.\n",
            "Oh wow! You are missing out. I love traveling and seeing the world.\n",
            "\n",
            "Actual res:  I've spent my life turning my home into where I want to be, Instead of where I want to leave.\n",
            "Gpt2 res:  You are missing out on some good times. I love traveling.\n",
            "dialoGPT res:  That's good to hear. Good luck with your trip.\n",
            "bart res:  I've never been to Italy.\n",
            "\n",
            "Context: \n",
            "I'm leaving tomorrow to go on vacation!\n",
            "Hey that's awesome! Where ya goin?\n",
            "We are going to Daytona and Orlando for 10 days.\n",
            "Holy cow that's awesome! That's gonna be a fun 10 days!\n",
            "I sure hope so! We've been planning this trip for a year.\n",
            "\n",
            "Actual res:  Cool! Have fun and be safe!!.\n",
            "Gpt2 res:  Oh yeah that's gonna be a fun trip.\n",
            "dialoGPT res:  That's great to hear. Enjoy the trip!\n",
            "bart res:  That's awesome! I hope you enjoy it!\n"
          ]
        }
      ],
      "source": [
        "for gpt_res, dialogpt_res, bart_res, actual_res, ctx in zip(gpt2_responses, dialogpt_responses, bart_responses, actual_responses, contexts):\n",
        "    print()\n",
        "    print('Context: ')\n",
        "    for c in ctx:\n",
        "        print(c)\n",
        "    print()\n",
        "    print('Actual res: ', actual_res)\n",
        "    print('Gpt2 res: ', gpt_res)\n",
        "    print('dialoGPT res: ', dialogpt_res)\n",
        "    print('bart res: ', bart_res)"
      ]
    },
    {
      "cell_type": "code",
      "execution_count": null,
      "metadata": {
        "id": "qvCNcQtedLUC"
      },
      "outputs": [],
      "source": []
    }
  ],
  "metadata": {
    "accelerator": "GPU",
    "colab": {
      "gpuType": "T4",
      "machine_shape": "hm",
      "provenance": []
    },
    "kernelspec": {
      "display_name": "Python 3",
      "name": "python3"
    },
    "language_info": {
      "codemirror_mode": {
        "name": "ipython",
        "version": 3
      },
      "file_extension": ".py",
      "mimetype": "text/x-python",
      "name": "python",
      "nbconvert_exporter": "python",
      "pygments_lexer": "ipython3",
      "version": "3.10.10"
    },
    "widgets": {
      "application/vnd.jupyter.widget-state+json": {
        "010b1d59a7104e9398e3af094f5aca8e": {
          "model_module": "@jupyter-widgets/base",
          "model_module_version": "1.2.0",
          "model_name": "LayoutModel",
          "state": {
            "_model_module": "@jupyter-widgets/base",
            "_model_module_version": "1.2.0",
            "_model_name": "LayoutModel",
            "_view_count": null,
            "_view_module": "@jupyter-widgets/base",
            "_view_module_version": "1.2.0",
            "_view_name": "LayoutView",
            "align_content": null,
            "align_items": null,
            "align_self": null,
            "border": null,
            "bottom": null,
            "display": null,
            "flex": null,
            "flex_flow": null,
            "grid_area": null,
            "grid_auto_columns": null,
            "grid_auto_flow": null,
            "grid_auto_rows": null,
            "grid_column": null,
            "grid_gap": null,
            "grid_row": null,
            "grid_template_areas": null,
            "grid_template_columns": null,
            "grid_template_rows": null,
            "height": null,
            "justify_content": null,
            "justify_items": null,
            "left": null,
            "margin": null,
            "max_height": null,
            "max_width": null,
            "min_height": null,
            "min_width": null,
            "object_fit": null,
            "object_position": null,
            "order": null,
            "overflow": null,
            "overflow_x": null,
            "overflow_y": null,
            "padding": null,
            "right": null,
            "top": null,
            "visibility": null,
            "width": null
          }
        },
        "02e4044551834eacb6831baf6e2403e7": {
          "model_module": "@jupyter-widgets/controls",
          "model_module_version": "1.5.0",
          "model_name": "DescriptionStyleModel",
          "state": {
            "_model_module": "@jupyter-widgets/controls",
            "_model_module_version": "1.5.0",
            "_model_name": "DescriptionStyleModel",
            "_view_count": null,
            "_view_module": "@jupyter-widgets/base",
            "_view_module_version": "1.2.0",
            "_view_name": "StyleView",
            "description_width": ""
          }
        },
        "0501b264fc644e2ea0b4486597f4a349": {
          "model_module": "@jupyter-widgets/controls",
          "model_module_version": "1.5.0",
          "model_name": "FloatProgressModel",
          "state": {
            "_dom_classes": [],
            "_model_module": "@jupyter-widgets/controls",
            "_model_module_version": "1.5.0",
            "_model_name": "FloatProgressModel",
            "_view_count": null,
            "_view_module": "@jupyter-widgets/controls",
            "_view_module_version": "1.5.0",
            "_view_name": "ProgressView",
            "bar_style": "",
            "description": "",
            "description_tooltip": null,
            "layout": "IPY_MODEL_ef17a805e96544d09838d0af3cebe771",
            "max": 1000,
            "min": 0,
            "orientation": "horizontal",
            "style": "IPY_MODEL_18a14d68e4034d039fbfdc3471bd67ce",
            "value": 1000
          }
        },
        "07bce0776f3b4eb485944d8be2050ef4": {
          "model_module": "@jupyter-widgets/controls",
          "model_module_version": "1.5.0",
          "model_name": "HTMLModel",
          "state": {
            "_dom_classes": [],
            "_model_module": "@jupyter-widgets/controls",
            "_model_module_version": "1.5.0",
            "_model_name": "HTMLModel",
            "_view_count": null,
            "_view_module": "@jupyter-widgets/controls",
            "_view_module_version": "1.5.0",
            "_view_name": "HTMLView",
            "description": "",
            "description_tooltip": null,
            "layout": "IPY_MODEL_010b1d59a7104e9398e3af094f5aca8e",
            "placeholder": "​",
            "style": "IPY_MODEL_a0fa54330d084017bc102cd8fa2e4df7",
            "value": " 2.49k/2.49k [00:00&lt;00:00, 54.9kB/s]"
          }
        },
        "07cd3c9a458d49bda3f3add8e7e8d347": {
          "model_module": "@jupyter-widgets/controls",
          "model_module_version": "1.5.0",
          "model_name": "HBoxModel",
          "state": {
            "_dom_classes": [],
            "_model_module": "@jupyter-widgets/controls",
            "_model_module_version": "1.5.0",
            "_model_name": "HBoxModel",
            "_view_count": null,
            "_view_module": "@jupyter-widgets/controls",
            "_view_module_version": "1.5.0",
            "_view_name": "HBoxView",
            "box_style": "",
            "children": [
              "IPY_MODEL_8ae9d15c896442ee9c7a4e78b9301a1d",
              "IPY_MODEL_d11366f85ab44ccda0b042d13d7fa7bf",
              "IPY_MODEL_9d9430fb932f445aadbce59fa19ce1b6"
            ],
            "layout": "IPY_MODEL_d28bacd53aa94a3a964c6dde0909a212"
          }
        },
        "0e2ffd41994047498c818aadee140a75": {
          "model_module": "@jupyter-widgets/controls",
          "model_module_version": "1.5.0",
          "model_name": "ProgressStyleModel",
          "state": {
            "_model_module": "@jupyter-widgets/controls",
            "_model_module_version": "1.5.0",
            "_model_name": "ProgressStyleModel",
            "_view_count": null,
            "_view_module": "@jupyter-widgets/base",
            "_view_module_version": "1.2.0",
            "_view_name": "StyleView",
            "bar_color": null,
            "description_width": ""
          }
        },
        "11a10294b7124584b418bc437d95d627": {
          "model_module": "@jupyter-widgets/base",
          "model_module_version": "1.2.0",
          "model_name": "LayoutModel",
          "state": {
            "_model_module": "@jupyter-widgets/base",
            "_model_module_version": "1.2.0",
            "_model_name": "LayoutModel",
            "_view_count": null,
            "_view_module": "@jupyter-widgets/base",
            "_view_module_version": "1.2.0",
            "_view_name": "LayoutView",
            "align_content": null,
            "align_items": null,
            "align_self": null,
            "border": null,
            "bottom": null,
            "display": null,
            "flex": null,
            "flex_flow": null,
            "grid_area": null,
            "grid_auto_columns": null,
            "grid_auto_flow": null,
            "grid_auto_rows": null,
            "grid_column": null,
            "grid_gap": null,
            "grid_row": null,
            "grid_template_areas": null,
            "grid_template_columns": null,
            "grid_template_rows": null,
            "height": null,
            "justify_content": null,
            "justify_items": null,
            "left": null,
            "margin": null,
            "max_height": null,
            "max_width": null,
            "min_height": null,
            "min_width": null,
            "object_fit": null,
            "object_position": null,
            "order": null,
            "overflow": null,
            "overflow_x": null,
            "overflow_y": null,
            "padding": null,
            "right": null,
            "top": null,
            "visibility": null,
            "width": null
          }
        },
        "18a14d68e4034d039fbfdc3471bd67ce": {
          "model_module": "@jupyter-widgets/controls",
          "model_module_version": "1.5.0",
          "model_name": "ProgressStyleModel",
          "state": {
            "_model_module": "@jupyter-widgets/controls",
            "_model_module_version": "1.5.0",
            "_model_name": "ProgressStyleModel",
            "_view_count": null,
            "_view_module": "@jupyter-widgets/base",
            "_view_module_version": "1.2.0",
            "_view_name": "StyleView",
            "bar_color": null,
            "description_width": ""
          }
        },
        "1a89d977affb422f89c1b8d5833b52d9": {
          "model_module": "@jupyter-widgets/base",
          "model_module_version": "1.2.0",
          "model_name": "LayoutModel",
          "state": {
            "_model_module": "@jupyter-widgets/base",
            "_model_module_version": "1.2.0",
            "_model_name": "LayoutModel",
            "_view_count": null,
            "_view_module": "@jupyter-widgets/base",
            "_view_module_version": "1.2.0",
            "_view_name": "LayoutView",
            "align_content": null,
            "align_items": null,
            "align_self": null,
            "border": null,
            "bottom": null,
            "display": null,
            "flex": null,
            "flex_flow": null,
            "grid_area": null,
            "grid_auto_columns": null,
            "grid_auto_flow": null,
            "grid_auto_rows": null,
            "grid_column": null,
            "grid_gap": null,
            "grid_row": null,
            "grid_template_areas": null,
            "grid_template_columns": null,
            "grid_template_rows": null,
            "height": null,
            "justify_content": null,
            "justify_items": null,
            "left": null,
            "margin": null,
            "max_height": null,
            "max_width": null,
            "min_height": null,
            "min_width": null,
            "object_fit": null,
            "object_position": null,
            "order": null,
            "overflow": null,
            "overflow_x": null,
            "overflow_y": null,
            "padding": null,
            "right": null,
            "top": null,
            "visibility": null,
            "width": null
          }
        },
        "1b50ab833f84468ca17e57c602547691": {
          "model_module": "@jupyter-widgets/base",
          "model_module_version": "1.2.0",
          "model_name": "LayoutModel",
          "state": {
            "_model_module": "@jupyter-widgets/base",
            "_model_module_version": "1.2.0",
            "_model_name": "LayoutModel",
            "_view_count": null,
            "_view_module": "@jupyter-widgets/base",
            "_view_module_version": "1.2.0",
            "_view_name": "LayoutView",
            "align_content": null,
            "align_items": null,
            "align_self": null,
            "border": null,
            "bottom": null,
            "display": null,
            "flex": null,
            "flex_flow": null,
            "grid_area": null,
            "grid_auto_columns": null,
            "grid_auto_flow": null,
            "grid_auto_rows": null,
            "grid_column": null,
            "grid_gap": null,
            "grid_row": null,
            "grid_template_areas": null,
            "grid_template_columns": null,
            "grid_template_rows": null,
            "height": null,
            "justify_content": null,
            "justify_items": null,
            "left": null,
            "margin": null,
            "max_height": null,
            "max_width": null,
            "min_height": null,
            "min_width": null,
            "object_fit": null,
            "object_position": null,
            "order": null,
            "overflow": null,
            "overflow_x": null,
            "overflow_y": null,
            "padding": null,
            "right": null,
            "top": null,
            "visibility": null,
            "width": null
          }
        },
        "1db771a5007142088c258a4330d141e5": {
          "model_module": "@jupyter-widgets/controls",
          "model_module_version": "1.5.0",
          "model_name": "HTMLModel",
          "state": {
            "_dom_classes": [],
            "_model_module": "@jupyter-widgets/controls",
            "_model_module_version": "1.5.0",
            "_model_name": "HTMLModel",
            "_view_count": null,
            "_view_module": "@jupyter-widgets/controls",
            "_view_module_version": "1.5.0",
            "_view_name": "HTMLView",
            "description": "",
            "description_tooltip": null,
            "layout": "IPY_MODEL_22015b8de69a45a58504ef905675c657",
            "placeholder": "​",
            "style": "IPY_MODEL_02e4044551834eacb6831baf6e2403e7",
            "value": "Generating test split:  58%"
          }
        },
        "22015b8de69a45a58504ef905675c657": {
          "model_module": "@jupyter-widgets/base",
          "model_module_version": "1.2.0",
          "model_name": "LayoutModel",
          "state": {
            "_model_module": "@jupyter-widgets/base",
            "_model_module_version": "1.2.0",
            "_model_name": "LayoutModel",
            "_view_count": null,
            "_view_module": "@jupyter-widgets/base",
            "_view_module_version": "1.2.0",
            "_view_name": "LayoutView",
            "align_content": null,
            "align_items": null,
            "align_self": null,
            "border": null,
            "bottom": null,
            "display": null,
            "flex": null,
            "flex_flow": null,
            "grid_area": null,
            "grid_auto_columns": null,
            "grid_auto_flow": null,
            "grid_auto_rows": null,
            "grid_column": null,
            "grid_gap": null,
            "grid_row": null,
            "grid_template_areas": null,
            "grid_template_columns": null,
            "grid_template_rows": null,
            "height": null,
            "justify_content": null,
            "justify_items": null,
            "left": null,
            "margin": null,
            "max_height": null,
            "max_width": null,
            "min_height": null,
            "min_width": null,
            "object_fit": null,
            "object_position": null,
            "order": null,
            "overflow": null,
            "overflow_x": null,
            "overflow_y": null,
            "padding": null,
            "right": null,
            "top": null,
            "visibility": null,
            "width": null
          }
        },
        "23da4b05ab644030ac1e05a5d262fdae": {
          "model_module": "@jupyter-widgets/controls",
          "model_module_version": "1.5.0",
          "model_name": "HTMLModel",
          "state": {
            "_dom_classes": [],
            "_model_module": "@jupyter-widgets/controls",
            "_model_module_version": "1.5.0",
            "_model_name": "HTMLModel",
            "_view_count": null,
            "_view_module": "@jupyter-widgets/controls",
            "_view_module_version": "1.5.0",
            "_view_name": "HTMLView",
            "description": "",
            "description_tooltip": null,
            "layout": "IPY_MODEL_9eecd35a1f3548f0a561df1fea96e086",
            "placeholder": "​",
            "style": "IPY_MODEL_6922e11e85ec4347a90aeb4bef1fa0a2",
            "value": " 4.48M/4.48M [00:00&lt;00:00, 17.0MB/s]"
          }
        },
        "25aba62382a743f0b794737fcc837b6a": {
          "model_module": "@jupyter-widgets/base",
          "model_module_version": "1.2.0",
          "model_name": "LayoutModel",
          "state": {
            "_model_module": "@jupyter-widgets/base",
            "_model_module_version": "1.2.0",
            "_model_name": "LayoutModel",
            "_view_count": null,
            "_view_module": "@jupyter-widgets/base",
            "_view_module_version": "1.2.0",
            "_view_name": "LayoutView",
            "align_content": null,
            "align_items": null,
            "align_self": null,
            "border": null,
            "bottom": null,
            "display": null,
            "flex": null,
            "flex_flow": null,
            "grid_area": null,
            "grid_auto_columns": null,
            "grid_auto_flow": null,
            "grid_auto_rows": null,
            "grid_column": null,
            "grid_gap": null,
            "grid_row": null,
            "grid_template_areas": null,
            "grid_template_columns": null,
            "grid_template_rows": null,
            "height": null,
            "justify_content": null,
            "justify_items": null,
            "left": null,
            "margin": null,
            "max_height": null,
            "max_width": null,
            "min_height": null,
            "min_width": null,
            "object_fit": null,
            "object_position": null,
            "order": null,
            "overflow": null,
            "overflow_x": null,
            "overflow_y": null,
            "padding": null,
            "right": null,
            "top": null,
            "visibility": "hidden",
            "width": null
          }
        },
        "28cdf4f168b64c6fa8fd90540e885363": {
          "model_module": "@jupyter-widgets/controls",
          "model_module_version": "1.5.0",
          "model_name": "FloatProgressModel",
          "state": {
            "_dom_classes": [],
            "_model_module": "@jupyter-widgets/controls",
            "_model_module_version": "1.5.0",
            "_model_name": "FloatProgressModel",
            "_view_count": null,
            "_view_module": "@jupyter-widgets/controls",
            "_view_module_version": "1.5.0",
            "_view_name": "ProgressView",
            "bar_style": "success",
            "description": "",
            "description_tooltip": null,
            "layout": "IPY_MODEL_40a3b979414c4311b7c7975265e3ad9b",
            "max": 4851,
            "min": 0,
            "orientation": "horizontal",
            "style": "IPY_MODEL_763ab4dddde04e269cfbc634d5595d28",
            "value": 4851
          }
        },
        "2ebf1a3f3daf4aada7ad45f804980c22": {
          "model_module": "@jupyter-widgets/controls",
          "model_module_version": "1.5.0",
          "model_name": "FloatProgressModel",
          "state": {
            "_dom_classes": [],
            "_model_module": "@jupyter-widgets/controls",
            "_model_module_version": "1.5.0",
            "_model_name": "FloatProgressModel",
            "_view_count": null,
            "_view_module": "@jupyter-widgets/controls",
            "_view_module_version": "1.5.0",
            "_view_name": "ProgressView",
            "bar_style": "success",
            "description": "",
            "description_tooltip": null,
            "layout": "IPY_MODEL_91ba8aadec4f4574ac0beb8cfe1ade1d",
            "max": 4475921,
            "min": 0,
            "orientation": "horizontal",
            "style": "IPY_MODEL_f9d1ebe413934754841f6a01ee8fb8b0",
            "value": 4475921
          }
        },
        "30e68532000f45f1a544ea01d74892fb": {
          "model_module": "@jupyter-widgets/controls",
          "model_module_version": "1.5.0",
          "model_name": "ProgressStyleModel",
          "state": {
            "_model_module": "@jupyter-widgets/controls",
            "_model_module_version": "1.5.0",
            "_model_name": "ProgressStyleModel",
            "_view_count": null,
            "_view_module": "@jupyter-widgets/base",
            "_view_module_version": "1.2.0",
            "_view_name": "StyleView",
            "bar_color": null,
            "description_width": ""
          }
        },
        "330cceb5650a4839be0328b282c8f629": {
          "model_module": "@jupyter-widgets/controls",
          "model_module_version": "1.5.0",
          "model_name": "HTMLModel",
          "state": {
            "_dom_classes": [],
            "_model_module": "@jupyter-widgets/controls",
            "_model_module_version": "1.5.0",
            "_model_name": "HTMLModel",
            "_view_count": null,
            "_view_module": "@jupyter-widgets/controls",
            "_view_module_version": "1.5.0",
            "_view_name": "HTMLView",
            "description": "",
            "description_tooltip": null,
            "layout": "IPY_MODEL_c9c7aeed37de42b29ec76868aadc8d57",
            "placeholder": "​",
            "style": "IPY_MODEL_84c985d336ea4d2896830f209a095512",
            "value": "Downloading builder script: 100%"
          }
        },
        "33ca7467f4584c659fc4242ec0620d28": {
          "model_module": "@jupyter-widgets/controls",
          "model_module_version": "1.5.0",
          "model_name": "HBoxModel",
          "state": {
            "_dom_classes": [],
            "_model_module": "@jupyter-widgets/controls",
            "_model_module_version": "1.5.0",
            "_model_name": "HBoxModel",
            "_view_count": null,
            "_view_module": "@jupyter-widgets/controls",
            "_view_module_version": "1.5.0",
            "_view_name": "HBoxView",
            "box_style": "",
            "children": [
              "IPY_MODEL_862444b9d2fc4a51bcb9745bca1ca846",
              "IPY_MODEL_7b8196b314014dfe9d29810d8b25b357",
              "IPY_MODEL_07bce0776f3b4eb485944d8be2050ef4"
            ],
            "layout": "IPY_MODEL_76e16ad81dc04f5694f973763f6e0ba7"
          }
        },
        "3a368c5e83884ebe8961d6faa8b43cd5": {
          "model_module": "@jupyter-widgets/controls",
          "model_module_version": "1.5.0",
          "model_name": "DescriptionStyleModel",
          "state": {
            "_model_module": "@jupyter-widgets/controls",
            "_model_module_version": "1.5.0",
            "_model_name": "DescriptionStyleModel",
            "_view_count": null,
            "_view_module": "@jupyter-widgets/base",
            "_view_module_version": "1.2.0",
            "_view_name": "StyleView",
            "description_width": ""
          }
        },
        "3d2caa7e68f34389813208ca4ce6079d": {
          "model_module": "@jupyter-widgets/base",
          "model_module_version": "1.2.0",
          "model_name": "LayoutModel",
          "state": {
            "_model_module": "@jupyter-widgets/base",
            "_model_module_version": "1.2.0",
            "_model_name": "LayoutModel",
            "_view_count": null,
            "_view_module": "@jupyter-widgets/base",
            "_view_module_version": "1.2.0",
            "_view_name": "LayoutView",
            "align_content": null,
            "align_items": null,
            "align_self": null,
            "border": null,
            "bottom": null,
            "display": null,
            "flex": null,
            "flex_flow": null,
            "grid_area": null,
            "grid_auto_columns": null,
            "grid_auto_flow": null,
            "grid_auto_rows": null,
            "grid_column": null,
            "grid_gap": null,
            "grid_row": null,
            "grid_template_areas": null,
            "grid_template_columns": null,
            "grid_template_rows": null,
            "height": null,
            "justify_content": null,
            "justify_items": null,
            "left": null,
            "margin": null,
            "max_height": null,
            "max_width": null,
            "min_height": null,
            "min_width": null,
            "object_fit": null,
            "object_position": null,
            "order": null,
            "overflow": null,
            "overflow_x": null,
            "overflow_y": null,
            "padding": null,
            "right": null,
            "top": null,
            "visibility": null,
            "width": null
          }
        },
        "40a3b979414c4311b7c7975265e3ad9b": {
          "model_module": "@jupyter-widgets/base",
          "model_module_version": "1.2.0",
          "model_name": "LayoutModel",
          "state": {
            "_model_module": "@jupyter-widgets/base",
            "_model_module_version": "1.2.0",
            "_model_name": "LayoutModel",
            "_view_count": null,
            "_view_module": "@jupyter-widgets/base",
            "_view_module_version": "1.2.0",
            "_view_name": "LayoutView",
            "align_content": null,
            "align_items": null,
            "align_self": null,
            "border": null,
            "bottom": null,
            "display": null,
            "flex": null,
            "flex_flow": null,
            "grid_area": null,
            "grid_auto_columns": null,
            "grid_auto_flow": null,
            "grid_auto_rows": null,
            "grid_column": null,
            "grid_gap": null,
            "grid_row": null,
            "grid_template_areas": null,
            "grid_template_columns": null,
            "grid_template_rows": null,
            "height": null,
            "justify_content": null,
            "justify_items": null,
            "left": null,
            "margin": null,
            "max_height": null,
            "max_width": null,
            "min_height": null,
            "min_width": null,
            "object_fit": null,
            "object_position": null,
            "order": null,
            "overflow": null,
            "overflow_x": null,
            "overflow_y": null,
            "padding": null,
            "right": null,
            "top": null,
            "visibility": null,
            "width": null
          }
        },
        "46fd8482935e4756bfaa04d154f31a95": {
          "model_module": "@jupyter-widgets/controls",
          "model_module_version": "1.5.0",
          "model_name": "HBoxModel",
          "state": {
            "_dom_classes": [],
            "_model_module": "@jupyter-widgets/controls",
            "_model_module_version": "1.5.0",
            "_model_name": "HBoxModel",
            "_view_count": null,
            "_view_module": "@jupyter-widgets/controls",
            "_view_module_version": "1.5.0",
            "_view_name": "HBoxView",
            "box_style": "",
            "children": [
              "IPY_MODEL_1db771a5007142088c258a4330d141e5",
              "IPY_MODEL_0501b264fc644e2ea0b4486597f4a349",
              "IPY_MODEL_a24246ed6838479b899893e8c403077f"
            ],
            "layout": "IPY_MODEL_25aba62382a743f0b794737fcc837b6a"
          }
        },
        "48ac0540b112471e969d5e4a711d87cd": {
          "model_module": "@jupyter-widgets/controls",
          "model_module_version": "1.5.0",
          "model_name": "HTMLModel",
          "state": {
            "_dom_classes": [],
            "_model_module": "@jupyter-widgets/controls",
            "_model_module_version": "1.5.0",
            "_model_name": "HTMLModel",
            "_view_count": null,
            "_view_module": "@jupyter-widgets/controls",
            "_view_module_version": "1.5.0",
            "_view_name": "HTMLView",
            "description": "",
            "description_tooltip": null,
            "layout": "IPY_MODEL_11a10294b7124584b418bc437d95d627",
            "placeholder": "​",
            "style": "IPY_MODEL_9feabe09d1964fa5a6205e84370bc4a7",
            "value": "100%"
          }
        },
        "4bea1a8293a045a999d5b95ca8d815ba": {
          "model_module": "@jupyter-widgets/controls",
          "model_module_version": "1.5.0",
          "model_name": "HTMLModel",
          "state": {
            "_dom_classes": [],
            "_model_module": "@jupyter-widgets/controls",
            "_model_module_version": "1.5.0",
            "_model_name": "HTMLModel",
            "_view_count": null,
            "_view_module": "@jupyter-widgets/controls",
            "_view_module_version": "1.5.0",
            "_view_name": "HTMLView",
            "description": "",
            "description_tooltip": null,
            "layout": "IPY_MODEL_585d43e6841c4de1811152dabf00550b",
            "placeholder": "​",
            "style": "IPY_MODEL_cfeb6a0659044ccab9e2f31e1f0af9b8",
            "value": "Downloading data: 100%"
          }
        },
        "51632e95a93941b4b37f9bfa57a825a6": {
          "model_module": "@jupyter-widgets/controls",
          "model_module_version": "1.5.0",
          "model_name": "DescriptionStyleModel",
          "state": {
            "_model_module": "@jupyter-widgets/controls",
            "_model_module_version": "1.5.0",
            "_model_name": "DescriptionStyleModel",
            "_view_count": null,
            "_view_module": "@jupyter-widgets/base",
            "_view_module_version": "1.2.0",
            "_view_name": "StyleView",
            "description_width": ""
          }
        },
        "585d43e6841c4de1811152dabf00550b": {
          "model_module": "@jupyter-widgets/base",
          "model_module_version": "1.2.0",
          "model_name": "LayoutModel",
          "state": {
            "_model_module": "@jupyter-widgets/base",
            "_model_module_version": "1.2.0",
            "_model_name": "LayoutModel",
            "_view_count": null,
            "_view_module": "@jupyter-widgets/base",
            "_view_module_version": "1.2.0",
            "_view_name": "LayoutView",
            "align_content": null,
            "align_items": null,
            "align_self": null,
            "border": null,
            "bottom": null,
            "display": null,
            "flex": null,
            "flex_flow": null,
            "grid_area": null,
            "grid_auto_columns": null,
            "grid_auto_flow": null,
            "grid_auto_rows": null,
            "grid_column": null,
            "grid_gap": null,
            "grid_row": null,
            "grid_template_areas": null,
            "grid_template_columns": null,
            "grid_template_rows": null,
            "height": null,
            "justify_content": null,
            "justify_items": null,
            "left": null,
            "margin": null,
            "max_height": null,
            "max_width": null,
            "min_height": null,
            "min_width": null,
            "object_fit": null,
            "object_position": null,
            "order": null,
            "overflow": null,
            "overflow_x": null,
            "overflow_y": null,
            "padding": null,
            "right": null,
            "top": null,
            "visibility": null,
            "width": null
          }
        },
        "6027c74142be449d9139b245f0040d45": {
          "model_module": "@jupyter-widgets/base",
          "model_module_version": "1.2.0",
          "model_name": "LayoutModel",
          "state": {
            "_model_module": "@jupyter-widgets/base",
            "_model_module_version": "1.2.0",
            "_model_name": "LayoutModel",
            "_view_count": null,
            "_view_module": "@jupyter-widgets/base",
            "_view_module_version": "1.2.0",
            "_view_name": "LayoutView",
            "align_content": null,
            "align_items": null,
            "align_self": null,
            "border": null,
            "bottom": null,
            "display": null,
            "flex": null,
            "flex_flow": null,
            "grid_area": null,
            "grid_auto_columns": null,
            "grid_auto_flow": null,
            "grid_auto_rows": null,
            "grid_column": null,
            "grid_gap": null,
            "grid_row": null,
            "grid_template_areas": null,
            "grid_template_columns": null,
            "grid_template_rows": null,
            "height": null,
            "justify_content": null,
            "justify_items": null,
            "left": null,
            "margin": null,
            "max_height": null,
            "max_width": null,
            "min_height": null,
            "min_width": null,
            "object_fit": null,
            "object_position": null,
            "order": null,
            "overflow": null,
            "overflow_x": null,
            "overflow_y": null,
            "padding": null,
            "right": null,
            "top": null,
            "visibility": "hidden",
            "width": null
          }
        },
        "624957a444ad41a7a01698ac42cae2dc": {
          "model_module": "@jupyter-widgets/controls",
          "model_module_version": "1.5.0",
          "model_name": "FloatProgressModel",
          "state": {
            "_dom_classes": [],
            "_model_module": "@jupyter-widgets/controls",
            "_model_module_version": "1.5.0",
            "_model_name": "FloatProgressModel",
            "_view_count": null,
            "_view_module": "@jupyter-widgets/controls",
            "_view_module_version": "1.5.0",
            "_view_name": "ProgressView",
            "bar_style": "success",
            "description": "",
            "description_tooltip": null,
            "layout": "IPY_MODEL_833e292b32b940349e2cb855efefffcc",
            "max": 3,
            "min": 0,
            "orientation": "horizontal",
            "style": "IPY_MODEL_7e0890fdf8b5483fbe76b37ca824dbd3",
            "value": 3
          }
        },
        "6283a7b0b1f543c6a1d51f6a6f95e45e": {
          "model_module": "@jupyter-widgets/controls",
          "model_module_version": "1.5.0",
          "model_name": "HTMLModel",
          "state": {
            "_dom_classes": [],
            "_model_module": "@jupyter-widgets/controls",
            "_model_module_version": "1.5.0",
            "_model_name": "HTMLModel",
            "_view_count": null,
            "_view_module": "@jupyter-widgets/controls",
            "_view_module_version": "1.5.0",
            "_view_name": "HTMLView",
            "description": "",
            "description_tooltip": null,
            "layout": "IPY_MODEL_b941d325ecd246d197d5e5eec6464c74",
            "placeholder": "​",
            "style": "IPY_MODEL_3a368c5e83884ebe8961d6faa8b43cd5",
            "value": " 3/3 [00:00&lt;00:00, 98.66it/s]"
          }
        },
        "6433c299a6954180ad55646a6f8761a9": {
          "model_module": "@jupyter-widgets/controls",
          "model_module_version": "1.5.0",
          "model_name": "DescriptionStyleModel",
          "state": {
            "_model_module": "@jupyter-widgets/controls",
            "_model_module_version": "1.5.0",
            "_model_name": "DescriptionStyleModel",
            "_view_count": null,
            "_view_module": "@jupyter-widgets/base",
            "_view_module_version": "1.2.0",
            "_view_name": "StyleView",
            "description_width": ""
          }
        },
        "6456dcf6363242849a333e8bf9a44e50": {
          "model_module": "@jupyter-widgets/controls",
          "model_module_version": "1.5.0",
          "model_name": "FloatProgressModel",
          "state": {
            "_dom_classes": [],
            "_model_module": "@jupyter-widgets/controls",
            "_model_module_version": "1.5.0",
            "_model_name": "FloatProgressModel",
            "_view_count": null,
            "_view_module": "@jupyter-widgets/controls",
            "_view_module_version": "1.5.0",
            "_view_name": "ProgressView",
            "bar_style": "",
            "description": "",
            "description_tooltip": null,
            "layout": "IPY_MODEL_a41c24bf325a461cb02d41d466ec4c10",
            "max": 11118,
            "min": 0,
            "orientation": "horizontal",
            "style": "IPY_MODEL_30e68532000f45f1a544ea01d74892fb",
            "value": 11118
          }
        },
        "6922e11e85ec4347a90aeb4bef1fa0a2": {
          "model_module": "@jupyter-widgets/controls",
          "model_module_version": "1.5.0",
          "model_name": "DescriptionStyleModel",
          "state": {
            "_model_module": "@jupyter-widgets/controls",
            "_model_module_version": "1.5.0",
            "_model_name": "DescriptionStyleModel",
            "_view_count": null,
            "_view_module": "@jupyter-widgets/base",
            "_view_module_version": "1.2.0",
            "_view_name": "StyleView",
            "description_width": ""
          }
        },
        "6bffb2bfb3df4f5fb22eff3eac6f8215": {
          "model_module": "@jupyter-widgets/controls",
          "model_module_version": "1.5.0",
          "model_name": "HTMLModel",
          "state": {
            "_dom_classes": [],
            "_model_module": "@jupyter-widgets/controls",
            "_model_module_version": "1.5.0",
            "_model_name": "HTMLModel",
            "_view_count": null,
            "_view_module": "@jupyter-widgets/controls",
            "_view_module_version": "1.5.0",
            "_view_name": "HTMLView",
            "description": "",
            "description_tooltip": null,
            "layout": "IPY_MODEL_1a89d977affb422f89c1b8d5833b52d9",
            "placeholder": "​",
            "style": "IPY_MODEL_704e7805c3724f839456909bbb2a27d4",
            "value": " 10733/11118 [00:03&lt;00:00, 4454.36 examples/s]"
          }
        },
        "6e7e50dcb740499c84e3afb2aede1e4f": {
          "model_module": "@jupyter-widgets/base",
          "model_module_version": "1.2.0",
          "model_name": "LayoutModel",
          "state": {
            "_model_module": "@jupyter-widgets/base",
            "_model_module_version": "1.2.0",
            "_model_name": "LayoutModel",
            "_view_count": null,
            "_view_module": "@jupyter-widgets/base",
            "_view_module_version": "1.2.0",
            "_view_name": "LayoutView",
            "align_content": null,
            "align_items": null,
            "align_self": null,
            "border": null,
            "bottom": null,
            "display": null,
            "flex": null,
            "flex_flow": null,
            "grid_area": null,
            "grid_auto_columns": null,
            "grid_auto_flow": null,
            "grid_auto_rows": null,
            "grid_column": null,
            "grid_gap": null,
            "grid_row": null,
            "grid_template_areas": null,
            "grid_template_columns": null,
            "grid_template_rows": null,
            "height": null,
            "justify_content": null,
            "justify_items": null,
            "left": null,
            "margin": null,
            "max_height": null,
            "max_width": null,
            "min_height": null,
            "min_width": null,
            "object_fit": null,
            "object_position": null,
            "order": null,
            "overflow": null,
            "overflow_x": null,
            "overflow_y": null,
            "padding": null,
            "right": null,
            "top": null,
            "visibility": null,
            "width": null
          }
        },
        "704e7805c3724f839456909bbb2a27d4": {
          "model_module": "@jupyter-widgets/controls",
          "model_module_version": "1.5.0",
          "model_name": "DescriptionStyleModel",
          "state": {
            "_model_module": "@jupyter-widgets/controls",
            "_model_module_version": "1.5.0",
            "_model_name": "DescriptionStyleModel",
            "_view_count": null,
            "_view_module": "@jupyter-widgets/base",
            "_view_module_version": "1.2.0",
            "_view_name": "StyleView",
            "description_width": ""
          }
        },
        "728f20086e3349a7a1c8256d7e27e155": {
          "model_module": "@jupyter-widgets/base",
          "model_module_version": "1.2.0",
          "model_name": "LayoutModel",
          "state": {
            "_model_module": "@jupyter-widgets/base",
            "_model_module_version": "1.2.0",
            "_model_name": "LayoutModel",
            "_view_count": null,
            "_view_module": "@jupyter-widgets/base",
            "_view_module_version": "1.2.0",
            "_view_name": "LayoutView",
            "align_content": null,
            "align_items": null,
            "align_self": null,
            "border": null,
            "bottom": null,
            "display": null,
            "flex": null,
            "flex_flow": null,
            "grid_area": null,
            "grid_auto_columns": null,
            "grid_auto_flow": null,
            "grid_auto_rows": null,
            "grid_column": null,
            "grid_gap": null,
            "grid_row": null,
            "grid_template_areas": null,
            "grid_template_columns": null,
            "grid_template_rows": null,
            "height": null,
            "justify_content": null,
            "justify_items": null,
            "left": null,
            "margin": null,
            "max_height": null,
            "max_width": null,
            "min_height": null,
            "min_width": null,
            "object_fit": null,
            "object_position": null,
            "order": null,
            "overflow": null,
            "overflow_x": null,
            "overflow_y": null,
            "padding": null,
            "right": null,
            "top": null,
            "visibility": null,
            "width": null
          }
        },
        "763ab4dddde04e269cfbc634d5595d28": {
          "model_module": "@jupyter-widgets/controls",
          "model_module_version": "1.5.0",
          "model_name": "ProgressStyleModel",
          "state": {
            "_model_module": "@jupyter-widgets/controls",
            "_model_module_version": "1.5.0",
            "_model_name": "ProgressStyleModel",
            "_view_count": null,
            "_view_module": "@jupyter-widgets/base",
            "_view_module_version": "1.2.0",
            "_view_name": "StyleView",
            "bar_color": null,
            "description_width": ""
          }
        },
        "76e16ad81dc04f5694f973763f6e0ba7": {
          "model_module": "@jupyter-widgets/base",
          "model_module_version": "1.2.0",
          "model_name": "LayoutModel",
          "state": {
            "_model_module": "@jupyter-widgets/base",
            "_model_module_version": "1.2.0",
            "_model_name": "LayoutModel",
            "_view_count": null,
            "_view_module": "@jupyter-widgets/base",
            "_view_module_version": "1.2.0",
            "_view_name": "LayoutView",
            "align_content": null,
            "align_items": null,
            "align_self": null,
            "border": null,
            "bottom": null,
            "display": null,
            "flex": null,
            "flex_flow": null,
            "grid_area": null,
            "grid_auto_columns": null,
            "grid_auto_flow": null,
            "grid_auto_rows": null,
            "grid_column": null,
            "grid_gap": null,
            "grid_row": null,
            "grid_template_areas": null,
            "grid_template_columns": null,
            "grid_template_rows": null,
            "height": null,
            "justify_content": null,
            "justify_items": null,
            "left": null,
            "margin": null,
            "max_height": null,
            "max_width": null,
            "min_height": null,
            "min_width": null,
            "object_fit": null,
            "object_position": null,
            "order": null,
            "overflow": null,
            "overflow_x": null,
            "overflow_y": null,
            "padding": null,
            "right": null,
            "top": null,
            "visibility": null,
            "width": null
          }
        },
        "7b8196b314014dfe9d29810d8b25b357": {
          "model_module": "@jupyter-widgets/controls",
          "model_module_version": "1.5.0",
          "model_name": "FloatProgressModel",
          "state": {
            "_dom_classes": [],
            "_model_module": "@jupyter-widgets/controls",
            "_model_module_version": "1.5.0",
            "_model_name": "FloatProgressModel",
            "_view_count": null,
            "_view_module": "@jupyter-widgets/controls",
            "_view_module_version": "1.5.0",
            "_view_name": "ProgressView",
            "bar_style": "success",
            "description": "",
            "description_tooltip": null,
            "layout": "IPY_MODEL_9437b03236ba4bb6b1d85e71564dbeec",
            "max": 2489,
            "min": 0,
            "orientation": "horizontal",
            "style": "IPY_MODEL_7dfaf8e8053d4353bee125a423de9d21",
            "value": 2489
          }
        },
        "7c9519b521ed476798fed9040f84a592": {
          "model_module": "@jupyter-widgets/controls",
          "model_module_version": "1.5.0",
          "model_name": "HBoxModel",
          "state": {
            "_dom_classes": [],
            "_model_module": "@jupyter-widgets/controls",
            "_model_module_version": "1.5.0",
            "_model_name": "HBoxModel",
            "_view_count": null,
            "_view_module": "@jupyter-widgets/controls",
            "_view_module_version": "1.5.0",
            "_view_name": "HBoxView",
            "box_style": "",
            "children": [
              "IPY_MODEL_4bea1a8293a045a999d5b95ca8d815ba",
              "IPY_MODEL_2ebf1a3f3daf4aada7ad45f804980c22",
              "IPY_MODEL_23da4b05ab644030ac1e05a5d262fdae"
            ],
            "layout": "IPY_MODEL_cfbd357d8c7448948f94589a2273698b"
          }
        },
        "7dfaf8e8053d4353bee125a423de9d21": {
          "model_module": "@jupyter-widgets/controls",
          "model_module_version": "1.5.0",
          "model_name": "ProgressStyleModel",
          "state": {
            "_model_module": "@jupyter-widgets/controls",
            "_model_module_version": "1.5.0",
            "_model_name": "ProgressStyleModel",
            "_view_count": null,
            "_view_module": "@jupyter-widgets/base",
            "_view_module_version": "1.2.0",
            "_view_name": "StyleView",
            "bar_color": null,
            "description_width": ""
          }
        },
        "7e0890fdf8b5483fbe76b37ca824dbd3": {
          "model_module": "@jupyter-widgets/controls",
          "model_module_version": "1.5.0",
          "model_name": "ProgressStyleModel",
          "state": {
            "_model_module": "@jupyter-widgets/controls",
            "_model_module_version": "1.5.0",
            "_model_name": "ProgressStyleModel",
            "_view_count": null,
            "_view_module": "@jupyter-widgets/base",
            "_view_module_version": "1.2.0",
            "_view_name": "StyleView",
            "bar_color": null,
            "description_width": ""
          }
        },
        "828e526b0b55414eaac20fac0f52eb80": {
          "model_module": "@jupyter-widgets/controls",
          "model_module_version": "1.5.0",
          "model_name": "DescriptionStyleModel",
          "state": {
            "_model_module": "@jupyter-widgets/controls",
            "_model_module_version": "1.5.0",
            "_model_name": "DescriptionStyleModel",
            "_view_count": null,
            "_view_module": "@jupyter-widgets/base",
            "_view_module_version": "1.2.0",
            "_view_name": "StyleView",
            "description_width": ""
          }
        },
        "833e292b32b940349e2cb855efefffcc": {
          "model_module": "@jupyter-widgets/base",
          "model_module_version": "1.2.0",
          "model_name": "LayoutModel",
          "state": {
            "_model_module": "@jupyter-widgets/base",
            "_model_module_version": "1.2.0",
            "_model_name": "LayoutModel",
            "_view_count": null,
            "_view_module": "@jupyter-widgets/base",
            "_view_module_version": "1.2.0",
            "_view_name": "LayoutView",
            "align_content": null,
            "align_items": null,
            "align_self": null,
            "border": null,
            "bottom": null,
            "display": null,
            "flex": null,
            "flex_flow": null,
            "grid_area": null,
            "grid_auto_columns": null,
            "grid_auto_flow": null,
            "grid_auto_rows": null,
            "grid_column": null,
            "grid_gap": null,
            "grid_row": null,
            "grid_template_areas": null,
            "grid_template_columns": null,
            "grid_template_rows": null,
            "height": null,
            "justify_content": null,
            "justify_items": null,
            "left": null,
            "margin": null,
            "max_height": null,
            "max_width": null,
            "min_height": null,
            "min_width": null,
            "object_fit": null,
            "object_position": null,
            "order": null,
            "overflow": null,
            "overflow_x": null,
            "overflow_y": null,
            "padding": null,
            "right": null,
            "top": null,
            "visibility": null,
            "width": null
          }
        },
        "839151b9a910410aa58a48ce530d7bcf": {
          "model_module": "@jupyter-widgets/base",
          "model_module_version": "1.2.0",
          "model_name": "LayoutModel",
          "state": {
            "_model_module": "@jupyter-widgets/base",
            "_model_module_version": "1.2.0",
            "_model_name": "LayoutModel",
            "_view_count": null,
            "_view_module": "@jupyter-widgets/base",
            "_view_module_version": "1.2.0",
            "_view_name": "LayoutView",
            "align_content": null,
            "align_items": null,
            "align_self": null,
            "border": null,
            "bottom": null,
            "display": null,
            "flex": null,
            "flex_flow": null,
            "grid_area": null,
            "grid_auto_columns": null,
            "grid_auto_flow": null,
            "grid_auto_rows": null,
            "grid_column": null,
            "grid_gap": null,
            "grid_row": null,
            "grid_template_areas": null,
            "grid_template_columns": null,
            "grid_template_rows": null,
            "height": null,
            "justify_content": null,
            "justify_items": null,
            "left": null,
            "margin": null,
            "max_height": null,
            "max_width": null,
            "min_height": null,
            "min_width": null,
            "object_fit": null,
            "object_position": null,
            "order": null,
            "overflow": null,
            "overflow_x": null,
            "overflow_y": null,
            "padding": null,
            "right": null,
            "top": null,
            "visibility": null,
            "width": null
          }
        },
        "84c985d336ea4d2896830f209a095512": {
          "model_module": "@jupyter-widgets/controls",
          "model_module_version": "1.5.0",
          "model_name": "DescriptionStyleModel",
          "state": {
            "_model_module": "@jupyter-widgets/controls",
            "_model_module_version": "1.5.0",
            "_model_name": "DescriptionStyleModel",
            "_view_count": null,
            "_view_module": "@jupyter-widgets/base",
            "_view_module_version": "1.2.0",
            "_view_name": "StyleView",
            "description_width": ""
          }
        },
        "84ebb1464ee24c44aea37dd754d4bdfc": {
          "model_module": "@jupyter-widgets/controls",
          "model_module_version": "1.5.0",
          "model_name": "HBoxModel",
          "state": {
            "_dom_classes": [],
            "_model_module": "@jupyter-widgets/controls",
            "_model_module_version": "1.5.0",
            "_model_name": "HBoxModel",
            "_view_count": null,
            "_view_module": "@jupyter-widgets/controls",
            "_view_module_version": "1.5.0",
            "_view_name": "HBoxView",
            "box_style": "",
            "children": [
              "IPY_MODEL_92eb9b282f154a57942ab2c2780f8b87",
              "IPY_MODEL_fee3c858415e4667ac0c505d6ab2aeab",
              "IPY_MODEL_ed634d8d5bc04ff38da752d0c77d8627"
            ],
            "layout": "IPY_MODEL_b5745d40858c4ae786d01e72677dc06c"
          }
        },
        "862444b9d2fc4a51bcb9745bca1ca846": {
          "model_module": "@jupyter-widgets/controls",
          "model_module_version": "1.5.0",
          "model_name": "HTMLModel",
          "state": {
            "_dom_classes": [],
            "_model_module": "@jupyter-widgets/controls",
            "_model_module_version": "1.5.0",
            "_model_name": "HTMLModel",
            "_view_count": null,
            "_view_module": "@jupyter-widgets/controls",
            "_view_module_version": "1.5.0",
            "_view_name": "HTMLView",
            "description": "",
            "description_tooltip": null,
            "layout": "IPY_MODEL_ed4fe2a979554bc6acd30bffea94b786",
            "placeholder": "​",
            "style": "IPY_MODEL_6433c299a6954180ad55646a6f8761a9",
            "value": "Downloading metadata: 100%"
          }
        },
        "8ae9d15c896442ee9c7a4e78b9301a1d": {
          "model_module": "@jupyter-widgets/controls",
          "model_module_version": "1.5.0",
          "model_name": "HTMLModel",
          "state": {
            "_dom_classes": [],
            "_model_module": "@jupyter-widgets/controls",
            "_model_module_version": "1.5.0",
            "_model_name": "HTMLModel",
            "_view_count": null,
            "_view_module": "@jupyter-widgets/controls",
            "_view_module_version": "1.5.0",
            "_view_name": "HTMLView",
            "description": "",
            "description_tooltip": null,
            "layout": "IPY_MODEL_b124e92711ba484d9d90e46ce6a27da3",
            "placeholder": "​",
            "style": "IPY_MODEL_abcf7e5004e74b0c8b8d9ee14453311f",
            "value": "Downloading readme: 100%"
          }
        },
        "8dd7948124cb4db0aa918f17da3ffe2d": {
          "model_module": "@jupyter-widgets/base",
          "model_module_version": "1.2.0",
          "model_name": "LayoutModel",
          "state": {
            "_model_module": "@jupyter-widgets/base",
            "_model_module_version": "1.2.0",
            "_model_name": "LayoutModel",
            "_view_count": null,
            "_view_module": "@jupyter-widgets/base",
            "_view_module_version": "1.2.0",
            "_view_name": "LayoutView",
            "align_content": null,
            "align_items": null,
            "align_self": null,
            "border": null,
            "bottom": null,
            "display": null,
            "flex": null,
            "flex_flow": null,
            "grid_area": null,
            "grid_auto_columns": null,
            "grid_auto_flow": null,
            "grid_auto_rows": null,
            "grid_column": null,
            "grid_gap": null,
            "grid_row": null,
            "grid_template_areas": null,
            "grid_template_columns": null,
            "grid_template_rows": null,
            "height": null,
            "justify_content": null,
            "justify_items": null,
            "left": null,
            "margin": null,
            "max_height": null,
            "max_width": null,
            "min_height": null,
            "min_width": null,
            "object_fit": null,
            "object_position": null,
            "order": null,
            "overflow": null,
            "overflow_x": null,
            "overflow_y": null,
            "padding": null,
            "right": null,
            "top": null,
            "visibility": null,
            "width": null
          }
        },
        "9061c4ac47c84579bd954e44533b4a1e": {
          "model_module": "@jupyter-widgets/controls",
          "model_module_version": "1.5.0",
          "model_name": "HTMLModel",
          "state": {
            "_dom_classes": [],
            "_model_module": "@jupyter-widgets/controls",
            "_model_module_version": "1.5.0",
            "_model_name": "HTMLModel",
            "_view_count": null,
            "_view_module": "@jupyter-widgets/controls",
            "_view_module_version": "1.5.0",
            "_view_name": "HTMLView",
            "description": "",
            "description_tooltip": null,
            "layout": "IPY_MODEL_8dd7948124cb4db0aa918f17da3ffe2d",
            "placeholder": "​",
            "style": "IPY_MODEL_828e526b0b55414eaac20fac0f52eb80",
            "value": " 4.85k/4.85k [00:00&lt;00:00, 67.4kB/s]"
          }
        },
        "91ba8aadec4f4574ac0beb8cfe1ade1d": {
          "model_module": "@jupyter-widgets/base",
          "model_module_version": "1.2.0",
          "model_name": "LayoutModel",
          "state": {
            "_model_module": "@jupyter-widgets/base",
            "_model_module_version": "1.2.0",
            "_model_name": "LayoutModel",
            "_view_count": null,
            "_view_module": "@jupyter-widgets/base",
            "_view_module_version": "1.2.0",
            "_view_name": "LayoutView",
            "align_content": null,
            "align_items": null,
            "align_self": null,
            "border": null,
            "bottom": null,
            "display": null,
            "flex": null,
            "flex_flow": null,
            "grid_area": null,
            "grid_auto_columns": null,
            "grid_auto_flow": null,
            "grid_auto_rows": null,
            "grid_column": null,
            "grid_gap": null,
            "grid_row": null,
            "grid_template_areas": null,
            "grid_template_columns": null,
            "grid_template_rows": null,
            "height": null,
            "justify_content": null,
            "justify_items": null,
            "left": null,
            "margin": null,
            "max_height": null,
            "max_width": null,
            "min_height": null,
            "min_width": null,
            "object_fit": null,
            "object_position": null,
            "order": null,
            "overflow": null,
            "overflow_x": null,
            "overflow_y": null,
            "padding": null,
            "right": null,
            "top": null,
            "visibility": null,
            "width": null
          }
        },
        "92eb9b282f154a57942ab2c2780f8b87": {
          "model_module": "@jupyter-widgets/controls",
          "model_module_version": "1.5.0",
          "model_name": "HTMLModel",
          "state": {
            "_dom_classes": [],
            "_model_module": "@jupyter-widgets/controls",
            "_model_module_version": "1.5.0",
            "_model_name": "HTMLModel",
            "_view_count": null,
            "_view_module": "@jupyter-widgets/controls",
            "_view_module_version": "1.5.0",
            "_view_name": "HTMLView",
            "description": "",
            "description_tooltip": null,
            "layout": "IPY_MODEL_dd3cf02031974a68b802cc9fcd9f8991",
            "placeholder": "​",
            "style": "IPY_MODEL_51632e95a93941b4b37f9bfa57a825a6",
            "value": "Generating validation split:  95%"
          }
        },
        "9437b03236ba4bb6b1d85e71564dbeec": {
          "model_module": "@jupyter-widgets/base",
          "model_module_version": "1.2.0",
          "model_name": "LayoutModel",
          "state": {
            "_model_module": "@jupyter-widgets/base",
            "_model_module_version": "1.2.0",
            "_model_name": "LayoutModel",
            "_view_count": null,
            "_view_module": "@jupyter-widgets/base",
            "_view_module_version": "1.2.0",
            "_view_name": "LayoutView",
            "align_content": null,
            "align_items": null,
            "align_self": null,
            "border": null,
            "bottom": null,
            "display": null,
            "flex": null,
            "flex_flow": null,
            "grid_area": null,
            "grid_auto_columns": null,
            "grid_auto_flow": null,
            "grid_auto_rows": null,
            "grid_column": null,
            "grid_gap": null,
            "grid_row": null,
            "grid_template_areas": null,
            "grid_template_columns": null,
            "grid_template_rows": null,
            "height": null,
            "justify_content": null,
            "justify_items": null,
            "left": null,
            "margin": null,
            "max_height": null,
            "max_width": null,
            "min_height": null,
            "min_width": null,
            "object_fit": null,
            "object_position": null,
            "order": null,
            "overflow": null,
            "overflow_x": null,
            "overflow_y": null,
            "padding": null,
            "right": null,
            "top": null,
            "visibility": null,
            "width": null
          }
        },
        "9b6e0d583d17439da46c498059c5fa07": {
          "model_module": "@jupyter-widgets/controls",
          "model_module_version": "1.5.0",
          "model_name": "DescriptionStyleModel",
          "state": {
            "_model_module": "@jupyter-widgets/controls",
            "_model_module_version": "1.5.0",
            "_model_name": "DescriptionStyleModel",
            "_view_count": null,
            "_view_module": "@jupyter-widgets/base",
            "_view_module_version": "1.2.0",
            "_view_name": "StyleView",
            "description_width": ""
          }
        },
        "9d9430fb932f445aadbce59fa19ce1b6": {
          "model_module": "@jupyter-widgets/controls",
          "model_module_version": "1.5.0",
          "model_name": "HTMLModel",
          "state": {
            "_dom_classes": [],
            "_model_module": "@jupyter-widgets/controls",
            "_model_module_version": "1.5.0",
            "_model_name": "HTMLModel",
            "_view_count": null,
            "_view_module": "@jupyter-widgets/controls",
            "_view_module_version": "1.5.0",
            "_view_name": "HTMLView",
            "description": "",
            "description_tooltip": null,
            "layout": "IPY_MODEL_6e7e50dcb740499c84e3afb2aede1e4f",
            "placeholder": "​",
            "style": "IPY_MODEL_ba10ff2dfa0d42998390524d4a6a9853",
            "value": " 7.27k/7.27k [00:00&lt;00:00, 132kB/s]"
          }
        },
        "9eecd35a1f3548f0a561df1fea96e086": {
          "model_module": "@jupyter-widgets/base",
          "model_module_version": "1.2.0",
          "model_name": "LayoutModel",
          "state": {
            "_model_module": "@jupyter-widgets/base",
            "_model_module_version": "1.2.0",
            "_model_name": "LayoutModel",
            "_view_count": null,
            "_view_module": "@jupyter-widgets/base",
            "_view_module_version": "1.2.0",
            "_view_name": "LayoutView",
            "align_content": null,
            "align_items": null,
            "align_self": null,
            "border": null,
            "bottom": null,
            "display": null,
            "flex": null,
            "flex_flow": null,
            "grid_area": null,
            "grid_auto_columns": null,
            "grid_auto_flow": null,
            "grid_auto_rows": null,
            "grid_column": null,
            "grid_gap": null,
            "grid_row": null,
            "grid_template_areas": null,
            "grid_template_columns": null,
            "grid_template_rows": null,
            "height": null,
            "justify_content": null,
            "justify_items": null,
            "left": null,
            "margin": null,
            "max_height": null,
            "max_width": null,
            "min_height": null,
            "min_width": null,
            "object_fit": null,
            "object_position": null,
            "order": null,
            "overflow": null,
            "overflow_x": null,
            "overflow_y": null,
            "padding": null,
            "right": null,
            "top": null,
            "visibility": null,
            "width": null
          }
        },
        "9feabe09d1964fa5a6205e84370bc4a7": {
          "model_module": "@jupyter-widgets/controls",
          "model_module_version": "1.5.0",
          "model_name": "DescriptionStyleModel",
          "state": {
            "_model_module": "@jupyter-widgets/controls",
            "_model_module_version": "1.5.0",
            "_model_name": "DescriptionStyleModel",
            "_view_count": null,
            "_view_module": "@jupyter-widgets/base",
            "_view_module_version": "1.2.0",
            "_view_name": "StyleView",
            "description_width": ""
          }
        },
        "a0cfb9baee394234a6a4e5c60384e4ed": {
          "model_module": "@jupyter-widgets/controls",
          "model_module_version": "1.5.0",
          "model_name": "ProgressStyleModel",
          "state": {
            "_model_module": "@jupyter-widgets/controls",
            "_model_module_version": "1.5.0",
            "_model_name": "ProgressStyleModel",
            "_view_count": null,
            "_view_module": "@jupyter-widgets/base",
            "_view_module_version": "1.2.0",
            "_view_name": "StyleView",
            "bar_color": null,
            "description_width": ""
          }
        },
        "a0fa54330d084017bc102cd8fa2e4df7": {
          "model_module": "@jupyter-widgets/controls",
          "model_module_version": "1.5.0",
          "model_name": "DescriptionStyleModel",
          "state": {
            "_model_module": "@jupyter-widgets/controls",
            "_model_module_version": "1.5.0",
            "_model_name": "DescriptionStyleModel",
            "_view_count": null,
            "_view_module": "@jupyter-widgets/base",
            "_view_module_version": "1.2.0",
            "_view_name": "StyleView",
            "description_width": ""
          }
        },
        "a21896383b9549a98ed23a74d0d988e3": {
          "model_module": "@jupyter-widgets/base",
          "model_module_version": "1.2.0",
          "model_name": "LayoutModel",
          "state": {
            "_model_module": "@jupyter-widgets/base",
            "_model_module_version": "1.2.0",
            "_model_name": "LayoutModel",
            "_view_count": null,
            "_view_module": "@jupyter-widgets/base",
            "_view_module_version": "1.2.0",
            "_view_name": "LayoutView",
            "align_content": null,
            "align_items": null,
            "align_self": null,
            "border": null,
            "bottom": null,
            "display": null,
            "flex": null,
            "flex_flow": null,
            "grid_area": null,
            "grid_auto_columns": null,
            "grid_auto_flow": null,
            "grid_auto_rows": null,
            "grid_column": null,
            "grid_gap": null,
            "grid_row": null,
            "grid_template_areas": null,
            "grid_template_columns": null,
            "grid_template_rows": null,
            "height": null,
            "justify_content": null,
            "justify_items": null,
            "left": null,
            "margin": null,
            "max_height": null,
            "max_width": null,
            "min_height": null,
            "min_width": null,
            "object_fit": null,
            "object_position": null,
            "order": null,
            "overflow": null,
            "overflow_x": null,
            "overflow_y": null,
            "padding": null,
            "right": null,
            "top": null,
            "visibility": null,
            "width": null
          }
        },
        "a24246ed6838479b899893e8c403077f": {
          "model_module": "@jupyter-widgets/controls",
          "model_module_version": "1.5.0",
          "model_name": "HTMLModel",
          "state": {
            "_dom_classes": [],
            "_model_module": "@jupyter-widgets/controls",
            "_model_module_version": "1.5.0",
            "_model_name": "HTMLModel",
            "_view_count": null,
            "_view_module": "@jupyter-widgets/controls",
            "_view_module_version": "1.5.0",
            "_view_name": "HTMLView",
            "description": "",
            "description_tooltip": null,
            "layout": "IPY_MODEL_be3f10d98ab64d9c96249cf5776400b4",
            "placeholder": "​",
            "style": "IPY_MODEL_d4587117dbfe4b5e9e1347aa4a0519cc",
            "value": " 583/1000 [00:00&lt;00:00, 4851.81 examples/s]"
          }
        },
        "a41c24bf325a461cb02d41d466ec4c10": {
          "model_module": "@jupyter-widgets/base",
          "model_module_version": "1.2.0",
          "model_name": "LayoutModel",
          "state": {
            "_model_module": "@jupyter-widgets/base",
            "_model_module_version": "1.2.0",
            "_model_name": "LayoutModel",
            "_view_count": null,
            "_view_module": "@jupyter-widgets/base",
            "_view_module_version": "1.2.0",
            "_view_name": "LayoutView",
            "align_content": null,
            "align_items": null,
            "align_self": null,
            "border": null,
            "bottom": null,
            "display": null,
            "flex": null,
            "flex_flow": null,
            "grid_area": null,
            "grid_auto_columns": null,
            "grid_auto_flow": null,
            "grid_auto_rows": null,
            "grid_column": null,
            "grid_gap": null,
            "grid_row": null,
            "grid_template_areas": null,
            "grid_template_columns": null,
            "grid_template_rows": null,
            "height": null,
            "justify_content": null,
            "justify_items": null,
            "left": null,
            "margin": null,
            "max_height": null,
            "max_width": null,
            "min_height": null,
            "min_width": null,
            "object_fit": null,
            "object_position": null,
            "order": null,
            "overflow": null,
            "overflow_x": null,
            "overflow_y": null,
            "padding": null,
            "right": null,
            "top": null,
            "visibility": null,
            "width": null
          }
        },
        "abcf7e5004e74b0c8b8d9ee14453311f": {
          "model_module": "@jupyter-widgets/controls",
          "model_module_version": "1.5.0",
          "model_name": "DescriptionStyleModel",
          "state": {
            "_model_module": "@jupyter-widgets/controls",
            "_model_module_version": "1.5.0",
            "_model_name": "DescriptionStyleModel",
            "_view_count": null,
            "_view_module": "@jupyter-widgets/base",
            "_view_module_version": "1.2.0",
            "_view_name": "StyleView",
            "description_width": ""
          }
        },
        "b124e92711ba484d9d90e46ce6a27da3": {
          "model_module": "@jupyter-widgets/base",
          "model_module_version": "1.2.0",
          "model_name": "LayoutModel",
          "state": {
            "_model_module": "@jupyter-widgets/base",
            "_model_module_version": "1.2.0",
            "_model_name": "LayoutModel",
            "_view_count": null,
            "_view_module": "@jupyter-widgets/base",
            "_view_module_version": "1.2.0",
            "_view_name": "LayoutView",
            "align_content": null,
            "align_items": null,
            "align_self": null,
            "border": null,
            "bottom": null,
            "display": null,
            "flex": null,
            "flex_flow": null,
            "grid_area": null,
            "grid_auto_columns": null,
            "grid_auto_flow": null,
            "grid_auto_rows": null,
            "grid_column": null,
            "grid_gap": null,
            "grid_row": null,
            "grid_template_areas": null,
            "grid_template_columns": null,
            "grid_template_rows": null,
            "height": null,
            "justify_content": null,
            "justify_items": null,
            "left": null,
            "margin": null,
            "max_height": null,
            "max_width": null,
            "min_height": null,
            "min_width": null,
            "object_fit": null,
            "object_position": null,
            "order": null,
            "overflow": null,
            "overflow_x": null,
            "overflow_y": null,
            "padding": null,
            "right": null,
            "top": null,
            "visibility": null,
            "width": null
          }
        },
        "b5745d40858c4ae786d01e72677dc06c": {
          "model_module": "@jupyter-widgets/base",
          "model_module_version": "1.2.0",
          "model_name": "LayoutModel",
          "state": {
            "_model_module": "@jupyter-widgets/base",
            "_model_module_version": "1.2.0",
            "_model_name": "LayoutModel",
            "_view_count": null,
            "_view_module": "@jupyter-widgets/base",
            "_view_module_version": "1.2.0",
            "_view_name": "LayoutView",
            "align_content": null,
            "align_items": null,
            "align_self": null,
            "border": null,
            "bottom": null,
            "display": null,
            "flex": null,
            "flex_flow": null,
            "grid_area": null,
            "grid_auto_columns": null,
            "grid_auto_flow": null,
            "grid_auto_rows": null,
            "grid_column": null,
            "grid_gap": null,
            "grid_row": null,
            "grid_template_areas": null,
            "grid_template_columns": null,
            "grid_template_rows": null,
            "height": null,
            "justify_content": null,
            "justify_items": null,
            "left": null,
            "margin": null,
            "max_height": null,
            "max_width": null,
            "min_height": null,
            "min_width": null,
            "object_fit": null,
            "object_position": null,
            "order": null,
            "overflow": null,
            "overflow_x": null,
            "overflow_y": null,
            "padding": null,
            "right": null,
            "top": null,
            "visibility": "hidden",
            "width": null
          }
        },
        "b941d325ecd246d197d5e5eec6464c74": {
          "model_module": "@jupyter-widgets/base",
          "model_module_version": "1.2.0",
          "model_name": "LayoutModel",
          "state": {
            "_model_module": "@jupyter-widgets/base",
            "_model_module_version": "1.2.0",
            "_model_name": "LayoutModel",
            "_view_count": null,
            "_view_module": "@jupyter-widgets/base",
            "_view_module_version": "1.2.0",
            "_view_name": "LayoutView",
            "align_content": null,
            "align_items": null,
            "align_self": null,
            "border": null,
            "bottom": null,
            "display": null,
            "flex": null,
            "flex_flow": null,
            "grid_area": null,
            "grid_auto_columns": null,
            "grid_auto_flow": null,
            "grid_auto_rows": null,
            "grid_column": null,
            "grid_gap": null,
            "grid_row": null,
            "grid_template_areas": null,
            "grid_template_columns": null,
            "grid_template_rows": null,
            "height": null,
            "justify_content": null,
            "justify_items": null,
            "left": null,
            "margin": null,
            "max_height": null,
            "max_width": null,
            "min_height": null,
            "min_width": null,
            "object_fit": null,
            "object_position": null,
            "order": null,
            "overflow": null,
            "overflow_x": null,
            "overflow_y": null,
            "padding": null,
            "right": null,
            "top": null,
            "visibility": null,
            "width": null
          }
        },
        "ba10ff2dfa0d42998390524d4a6a9853": {
          "model_module": "@jupyter-widgets/controls",
          "model_module_version": "1.5.0",
          "model_name": "DescriptionStyleModel",
          "state": {
            "_model_module": "@jupyter-widgets/controls",
            "_model_module_version": "1.5.0",
            "_model_name": "DescriptionStyleModel",
            "_view_count": null,
            "_view_module": "@jupyter-widgets/base",
            "_view_module_version": "1.2.0",
            "_view_name": "StyleView",
            "description_width": ""
          }
        },
        "be20be8a7ca544a782695bcf550281c8": {
          "model_module": "@jupyter-widgets/base",
          "model_module_version": "1.2.0",
          "model_name": "LayoutModel",
          "state": {
            "_model_module": "@jupyter-widgets/base",
            "_model_module_version": "1.2.0",
            "_model_name": "LayoutModel",
            "_view_count": null,
            "_view_module": "@jupyter-widgets/base",
            "_view_module_version": "1.2.0",
            "_view_name": "LayoutView",
            "align_content": null,
            "align_items": null,
            "align_self": null,
            "border": null,
            "bottom": null,
            "display": null,
            "flex": null,
            "flex_flow": null,
            "grid_area": null,
            "grid_auto_columns": null,
            "grid_auto_flow": null,
            "grid_auto_rows": null,
            "grid_column": null,
            "grid_gap": null,
            "grid_row": null,
            "grid_template_areas": null,
            "grid_template_columns": null,
            "grid_template_rows": null,
            "height": null,
            "justify_content": null,
            "justify_items": null,
            "left": null,
            "margin": null,
            "max_height": null,
            "max_width": null,
            "min_height": null,
            "min_width": null,
            "object_fit": null,
            "object_position": null,
            "order": null,
            "overflow": null,
            "overflow_x": null,
            "overflow_y": null,
            "padding": null,
            "right": null,
            "top": null,
            "visibility": null,
            "width": null
          }
        },
        "be3f10d98ab64d9c96249cf5776400b4": {
          "model_module": "@jupyter-widgets/base",
          "model_module_version": "1.2.0",
          "model_name": "LayoutModel",
          "state": {
            "_model_module": "@jupyter-widgets/base",
            "_model_module_version": "1.2.0",
            "_model_name": "LayoutModel",
            "_view_count": null,
            "_view_module": "@jupyter-widgets/base",
            "_view_module_version": "1.2.0",
            "_view_name": "LayoutView",
            "align_content": null,
            "align_items": null,
            "align_self": null,
            "border": null,
            "bottom": null,
            "display": null,
            "flex": null,
            "flex_flow": null,
            "grid_area": null,
            "grid_auto_columns": null,
            "grid_auto_flow": null,
            "grid_auto_rows": null,
            "grid_column": null,
            "grid_gap": null,
            "grid_row": null,
            "grid_template_areas": null,
            "grid_template_columns": null,
            "grid_template_rows": null,
            "height": null,
            "justify_content": null,
            "justify_items": null,
            "left": null,
            "margin": null,
            "max_height": null,
            "max_width": null,
            "min_height": null,
            "min_width": null,
            "object_fit": null,
            "object_position": null,
            "order": null,
            "overflow": null,
            "overflow_x": null,
            "overflow_y": null,
            "padding": null,
            "right": null,
            "top": null,
            "visibility": null,
            "width": null
          }
        },
        "c32c0a22ea7f4e97a6332d0e210e594f": {
          "model_module": "@jupyter-widgets/controls",
          "model_module_version": "1.5.0",
          "model_name": "DescriptionStyleModel",
          "state": {
            "_model_module": "@jupyter-widgets/controls",
            "_model_module_version": "1.5.0",
            "_model_name": "DescriptionStyleModel",
            "_view_count": null,
            "_view_module": "@jupyter-widgets/base",
            "_view_module_version": "1.2.0",
            "_view_name": "StyleView",
            "description_width": ""
          }
        },
        "c9c7aeed37de42b29ec76868aadc8d57": {
          "model_module": "@jupyter-widgets/base",
          "model_module_version": "1.2.0",
          "model_name": "LayoutModel",
          "state": {
            "_model_module": "@jupyter-widgets/base",
            "_model_module_version": "1.2.0",
            "_model_name": "LayoutModel",
            "_view_count": null,
            "_view_module": "@jupyter-widgets/base",
            "_view_module_version": "1.2.0",
            "_view_name": "LayoutView",
            "align_content": null,
            "align_items": null,
            "align_self": null,
            "border": null,
            "bottom": null,
            "display": null,
            "flex": null,
            "flex_flow": null,
            "grid_area": null,
            "grid_auto_columns": null,
            "grid_auto_flow": null,
            "grid_auto_rows": null,
            "grid_column": null,
            "grid_gap": null,
            "grid_row": null,
            "grid_template_areas": null,
            "grid_template_columns": null,
            "grid_template_rows": null,
            "height": null,
            "justify_content": null,
            "justify_items": null,
            "left": null,
            "margin": null,
            "max_height": null,
            "max_width": null,
            "min_height": null,
            "min_width": null,
            "object_fit": null,
            "object_position": null,
            "order": null,
            "overflow": null,
            "overflow_x": null,
            "overflow_y": null,
            "padding": null,
            "right": null,
            "top": null,
            "visibility": null,
            "width": null
          }
        },
        "cfbd357d8c7448948f94589a2273698b": {
          "model_module": "@jupyter-widgets/base",
          "model_module_version": "1.2.0",
          "model_name": "LayoutModel",
          "state": {
            "_model_module": "@jupyter-widgets/base",
            "_model_module_version": "1.2.0",
            "_model_name": "LayoutModel",
            "_view_count": null,
            "_view_module": "@jupyter-widgets/base",
            "_view_module_version": "1.2.0",
            "_view_name": "LayoutView",
            "align_content": null,
            "align_items": null,
            "align_self": null,
            "border": null,
            "bottom": null,
            "display": null,
            "flex": null,
            "flex_flow": null,
            "grid_area": null,
            "grid_auto_columns": null,
            "grid_auto_flow": null,
            "grid_auto_rows": null,
            "grid_column": null,
            "grid_gap": null,
            "grid_row": null,
            "grid_template_areas": null,
            "grid_template_columns": null,
            "grid_template_rows": null,
            "height": null,
            "justify_content": null,
            "justify_items": null,
            "left": null,
            "margin": null,
            "max_height": null,
            "max_width": null,
            "min_height": null,
            "min_width": null,
            "object_fit": null,
            "object_position": null,
            "order": null,
            "overflow": null,
            "overflow_x": null,
            "overflow_y": null,
            "padding": null,
            "right": null,
            "top": null,
            "visibility": null,
            "width": null
          }
        },
        "cfeb6a0659044ccab9e2f31e1f0af9b8": {
          "model_module": "@jupyter-widgets/controls",
          "model_module_version": "1.5.0",
          "model_name": "DescriptionStyleModel",
          "state": {
            "_model_module": "@jupyter-widgets/controls",
            "_model_module_version": "1.5.0",
            "_model_name": "DescriptionStyleModel",
            "_view_count": null,
            "_view_module": "@jupyter-widgets/base",
            "_view_module_version": "1.2.0",
            "_view_name": "StyleView",
            "description_width": ""
          }
        },
        "d11366f85ab44ccda0b042d13d7fa7bf": {
          "model_module": "@jupyter-widgets/controls",
          "model_module_version": "1.5.0",
          "model_name": "FloatProgressModel",
          "state": {
            "_dom_classes": [],
            "_model_module": "@jupyter-widgets/controls",
            "_model_module_version": "1.5.0",
            "_model_name": "FloatProgressModel",
            "_view_count": null,
            "_view_module": "@jupyter-widgets/controls",
            "_view_module_version": "1.5.0",
            "_view_name": "ProgressView",
            "bar_style": "success",
            "description": "",
            "description_tooltip": null,
            "layout": "IPY_MODEL_3d2caa7e68f34389813208ca4ce6079d",
            "max": 7270,
            "min": 0,
            "orientation": "horizontal",
            "style": "IPY_MODEL_a0cfb9baee394234a6a4e5c60384e4ed",
            "value": 7270
          }
        },
        "d28bacd53aa94a3a964c6dde0909a212": {
          "model_module": "@jupyter-widgets/base",
          "model_module_version": "1.2.0",
          "model_name": "LayoutModel",
          "state": {
            "_model_module": "@jupyter-widgets/base",
            "_model_module_version": "1.2.0",
            "_model_name": "LayoutModel",
            "_view_count": null,
            "_view_module": "@jupyter-widgets/base",
            "_view_module_version": "1.2.0",
            "_view_name": "LayoutView",
            "align_content": null,
            "align_items": null,
            "align_self": null,
            "border": null,
            "bottom": null,
            "display": null,
            "flex": null,
            "flex_flow": null,
            "grid_area": null,
            "grid_auto_columns": null,
            "grid_auto_flow": null,
            "grid_auto_rows": null,
            "grid_column": null,
            "grid_gap": null,
            "grid_row": null,
            "grid_template_areas": null,
            "grid_template_columns": null,
            "grid_template_rows": null,
            "height": null,
            "justify_content": null,
            "justify_items": null,
            "left": null,
            "margin": null,
            "max_height": null,
            "max_width": null,
            "min_height": null,
            "min_width": null,
            "object_fit": null,
            "object_position": null,
            "order": null,
            "overflow": null,
            "overflow_x": null,
            "overflow_y": null,
            "padding": null,
            "right": null,
            "top": null,
            "visibility": null,
            "width": null
          }
        },
        "d4587117dbfe4b5e9e1347aa4a0519cc": {
          "model_module": "@jupyter-widgets/controls",
          "model_module_version": "1.5.0",
          "model_name": "DescriptionStyleModel",
          "state": {
            "_model_module": "@jupyter-widgets/controls",
            "_model_module_version": "1.5.0",
            "_model_name": "DescriptionStyleModel",
            "_view_count": null,
            "_view_module": "@jupyter-widgets/base",
            "_view_module_version": "1.2.0",
            "_view_name": "StyleView",
            "description_width": ""
          }
        },
        "dd3cf02031974a68b802cc9fcd9f8991": {
          "model_module": "@jupyter-widgets/base",
          "model_module_version": "1.2.0",
          "model_name": "LayoutModel",
          "state": {
            "_model_module": "@jupyter-widgets/base",
            "_model_module_version": "1.2.0",
            "_model_name": "LayoutModel",
            "_view_count": null,
            "_view_module": "@jupyter-widgets/base",
            "_view_module_version": "1.2.0",
            "_view_name": "LayoutView",
            "align_content": null,
            "align_items": null,
            "align_self": null,
            "border": null,
            "bottom": null,
            "display": null,
            "flex": null,
            "flex_flow": null,
            "grid_area": null,
            "grid_auto_columns": null,
            "grid_auto_flow": null,
            "grid_auto_rows": null,
            "grid_column": null,
            "grid_gap": null,
            "grid_row": null,
            "grid_template_areas": null,
            "grid_template_columns": null,
            "grid_template_rows": null,
            "height": null,
            "justify_content": null,
            "justify_items": null,
            "left": null,
            "margin": null,
            "max_height": null,
            "max_width": null,
            "min_height": null,
            "min_width": null,
            "object_fit": null,
            "object_position": null,
            "order": null,
            "overflow": null,
            "overflow_x": null,
            "overflow_y": null,
            "padding": null,
            "right": null,
            "top": null,
            "visibility": null,
            "width": null
          }
        },
        "e47df8dd4bde4c129d3498a56b2a0dfb": {
          "model_module": "@jupyter-widgets/controls",
          "model_module_version": "1.5.0",
          "model_name": "HBoxModel",
          "state": {
            "_dom_classes": [],
            "_model_module": "@jupyter-widgets/controls",
            "_model_module_version": "1.5.0",
            "_model_name": "HBoxModel",
            "_view_count": null,
            "_view_module": "@jupyter-widgets/controls",
            "_view_module_version": "1.5.0",
            "_view_name": "HBoxView",
            "box_style": "",
            "children": [
              "IPY_MODEL_330cceb5650a4839be0328b282c8f629",
              "IPY_MODEL_28cdf4f168b64c6fa8fd90540e885363",
              "IPY_MODEL_9061c4ac47c84579bd954e44533b4a1e"
            ],
            "layout": "IPY_MODEL_839151b9a910410aa58a48ce530d7bcf"
          }
        },
        "e8fa1659aedf4d2b91e586e7308b4f97": {
          "model_module": "@jupyter-widgets/controls",
          "model_module_version": "1.5.0",
          "model_name": "HTMLModel",
          "state": {
            "_dom_classes": [],
            "_model_module": "@jupyter-widgets/controls",
            "_model_module_version": "1.5.0",
            "_model_name": "HTMLModel",
            "_view_count": null,
            "_view_module": "@jupyter-widgets/controls",
            "_view_module_version": "1.5.0",
            "_view_name": "HTMLView",
            "description": "",
            "description_tooltip": null,
            "layout": "IPY_MODEL_be20be8a7ca544a782695bcf550281c8",
            "placeholder": "​",
            "style": "IPY_MODEL_c32c0a22ea7f4e97a6332d0e210e594f",
            "value": "Generating train split:  97%"
          }
        },
        "ed4fe2a979554bc6acd30bffea94b786": {
          "model_module": "@jupyter-widgets/base",
          "model_module_version": "1.2.0",
          "model_name": "LayoutModel",
          "state": {
            "_model_module": "@jupyter-widgets/base",
            "_model_module_version": "1.2.0",
            "_model_name": "LayoutModel",
            "_view_count": null,
            "_view_module": "@jupyter-widgets/base",
            "_view_module_version": "1.2.0",
            "_view_name": "LayoutView",
            "align_content": null,
            "align_items": null,
            "align_self": null,
            "border": null,
            "bottom": null,
            "display": null,
            "flex": null,
            "flex_flow": null,
            "grid_area": null,
            "grid_auto_columns": null,
            "grid_auto_flow": null,
            "grid_auto_rows": null,
            "grid_column": null,
            "grid_gap": null,
            "grid_row": null,
            "grid_template_areas": null,
            "grid_template_columns": null,
            "grid_template_rows": null,
            "height": null,
            "justify_content": null,
            "justify_items": null,
            "left": null,
            "margin": null,
            "max_height": null,
            "max_width": null,
            "min_height": null,
            "min_width": null,
            "object_fit": null,
            "object_position": null,
            "order": null,
            "overflow": null,
            "overflow_x": null,
            "overflow_y": null,
            "padding": null,
            "right": null,
            "top": null,
            "visibility": null,
            "width": null
          }
        },
        "ed634d8d5bc04ff38da752d0c77d8627": {
          "model_module": "@jupyter-widgets/controls",
          "model_module_version": "1.5.0",
          "model_name": "HTMLModel",
          "state": {
            "_dom_classes": [],
            "_model_module": "@jupyter-widgets/controls",
            "_model_module_version": "1.5.0",
            "_model_name": "HTMLModel",
            "_view_count": null,
            "_view_module": "@jupyter-widgets/controls",
            "_view_module_version": "1.5.0",
            "_view_name": "HTMLView",
            "description": "",
            "description_tooltip": null,
            "layout": "IPY_MODEL_728f20086e3349a7a1c8256d7e27e155",
            "placeholder": "​",
            "style": "IPY_MODEL_9b6e0d583d17439da46c498059c5fa07",
            "value": " 948/1000 [00:00&lt;00:00, 4441.90 examples/s]"
          }
        },
        "ef17a805e96544d09838d0af3cebe771": {
          "model_module": "@jupyter-widgets/base",
          "model_module_version": "1.2.0",
          "model_name": "LayoutModel",
          "state": {
            "_model_module": "@jupyter-widgets/base",
            "_model_module_version": "1.2.0",
            "_model_name": "LayoutModel",
            "_view_count": null,
            "_view_module": "@jupyter-widgets/base",
            "_view_module_version": "1.2.0",
            "_view_name": "LayoutView",
            "align_content": null,
            "align_items": null,
            "align_self": null,
            "border": null,
            "bottom": null,
            "display": null,
            "flex": null,
            "flex_flow": null,
            "grid_area": null,
            "grid_auto_columns": null,
            "grid_auto_flow": null,
            "grid_auto_rows": null,
            "grid_column": null,
            "grid_gap": null,
            "grid_row": null,
            "grid_template_areas": null,
            "grid_template_columns": null,
            "grid_template_rows": null,
            "height": null,
            "justify_content": null,
            "justify_items": null,
            "left": null,
            "margin": null,
            "max_height": null,
            "max_width": null,
            "min_height": null,
            "min_width": null,
            "object_fit": null,
            "object_position": null,
            "order": null,
            "overflow": null,
            "overflow_x": null,
            "overflow_y": null,
            "padding": null,
            "right": null,
            "top": null,
            "visibility": null,
            "width": null
          }
        },
        "f45ca419c6124b25b0a0dacd65a687d4": {
          "model_module": "@jupyter-widgets/controls",
          "model_module_version": "1.5.0",
          "model_name": "HBoxModel",
          "state": {
            "_dom_classes": [],
            "_model_module": "@jupyter-widgets/controls",
            "_model_module_version": "1.5.0",
            "_model_name": "HBoxModel",
            "_view_count": null,
            "_view_module": "@jupyter-widgets/controls",
            "_view_module_version": "1.5.0",
            "_view_name": "HBoxView",
            "box_style": "",
            "children": [
              "IPY_MODEL_e8fa1659aedf4d2b91e586e7308b4f97",
              "IPY_MODEL_6456dcf6363242849a333e8bf9a44e50",
              "IPY_MODEL_6bffb2bfb3df4f5fb22eff3eac6f8215"
            ],
            "layout": "IPY_MODEL_6027c74142be449d9139b245f0040d45"
          }
        },
        "f9d1ebe413934754841f6a01ee8fb8b0": {
          "model_module": "@jupyter-widgets/controls",
          "model_module_version": "1.5.0",
          "model_name": "ProgressStyleModel",
          "state": {
            "_model_module": "@jupyter-widgets/controls",
            "_model_module_version": "1.5.0",
            "_model_name": "ProgressStyleModel",
            "_view_count": null,
            "_view_module": "@jupyter-widgets/base",
            "_view_module_version": "1.2.0",
            "_view_name": "StyleView",
            "bar_color": null,
            "description_width": ""
          }
        },
        "fe6955d96fcd4cda8d0f7e4300e14af3": {
          "model_module": "@jupyter-widgets/controls",
          "model_module_version": "1.5.0",
          "model_name": "HBoxModel",
          "state": {
            "_dom_classes": [],
            "_model_module": "@jupyter-widgets/controls",
            "_model_module_version": "1.5.0",
            "_model_name": "HBoxModel",
            "_view_count": null,
            "_view_module": "@jupyter-widgets/controls",
            "_view_module_version": "1.5.0",
            "_view_name": "HBoxView",
            "box_style": "",
            "children": [
              "IPY_MODEL_48ac0540b112471e969d5e4a711d87cd",
              "IPY_MODEL_624957a444ad41a7a01698ac42cae2dc",
              "IPY_MODEL_6283a7b0b1f543c6a1d51f6a6f95e45e"
            ],
            "layout": "IPY_MODEL_a21896383b9549a98ed23a74d0d988e3"
          }
        },
        "fee3c858415e4667ac0c505d6ab2aeab": {
          "model_module": "@jupyter-widgets/controls",
          "model_module_version": "1.5.0",
          "model_name": "FloatProgressModel",
          "state": {
            "_dom_classes": [],
            "_model_module": "@jupyter-widgets/controls",
            "_model_module_version": "1.5.0",
            "_model_name": "FloatProgressModel",
            "_view_count": null,
            "_view_module": "@jupyter-widgets/controls",
            "_view_module_version": "1.5.0",
            "_view_name": "ProgressView",
            "bar_style": "",
            "description": "",
            "description_tooltip": null,
            "layout": "IPY_MODEL_1b50ab833f84468ca17e57c602547691",
            "max": 1000,
            "min": 0,
            "orientation": "horizontal",
            "style": "IPY_MODEL_0e2ffd41994047498c818aadee140a75",
            "value": 1000
          }
        }
      }
    }
  },
  "nbformat": 4,
  "nbformat_minor": 0
}
